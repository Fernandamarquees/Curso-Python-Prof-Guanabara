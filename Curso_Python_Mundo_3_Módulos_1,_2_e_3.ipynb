{
  "nbformat": 4,
  "nbformat_minor": 0,
  "metadata": {
    "colab": {
      "provenance": [],
      "authorship_tag": "ABX9TyP/26AG2ltTFGIiHAawuYPK",
      "include_colab_link": true
    },
    "kernelspec": {
      "name": "python3",
      "display_name": "Python 3"
    },
    "language_info": {
      "name": "python"
    }
  },
  "cells": [
    {
      "cell_type": "markdown",
      "metadata": {
        "id": "view-in-github",
        "colab_type": "text"
      },
      "source": [
        "<a href=\"https://colab.research.google.com/github/Fernandamarquees/Curso-Python-Prof-Guanabara/blob/main/Curso_Python_Mundo_3_M%C3%B3dulos_1%2C_2_e_3.ipynb\" target=\"_parent\"><img src=\"https://colab.research.google.com/assets/colab-badge.svg\" alt=\"Open In Colab\"/></a>"
      ]
    },
    {
      "cell_type": "markdown",
      "source": [
        "#Curso Python Guanabara Mundo 3 - Módulos 1, 2 e 3"
      ],
      "metadata": {
        "id": "FS8ofNpeyHWc"
      }
    },
    {
      "cell_type": "markdown",
      "source": [
        "### Aula 16 – Tuplas em Python"
      ],
      "metadata": {
        "id": "zmxlrXyVPck5"
      }
    },
    {
      "cell_type": "code",
      "source": [
        "# Tuplas são variáveis compostas, ou seja abrigam muitas variáveis dentro de um único nome\n",
        "# Pode ser com ou sem colchetes\n",
        "# As tuplas são imutáveis\n",
        "# Fatiamento é parecido com o fatiamento de str\n",
        "lanche='hambúrguer', 'suco', 'pizza', 'pudim' #OU ['hámburguer', 'suco', 'pizza', 'pudim']\n",
        "print(lanche)\n",
        "print(lanche[2])\n",
        "print(lanche[0:2]) #também ignora o último elemtento\n",
        "print(lanche[1:]) #comece no 1 e vá até o final\n",
        "print(lanche[-1]) #mostra o último elemento\n",
        "len(lanche) #mostra quantos elementos tem dentro da tupla"
      ],
      "metadata": {
        "colab": {
          "base_uri": "https://localhost:8080/"
        },
        "id": "TLRCwQbWkiIK",
        "outputId": "7cd7c3ee-7bb2-4082-cf43-d7499544b85b"
      },
      "execution_count": 21,
      "outputs": [
        {
          "output_type": "stream",
          "name": "stdout",
          "text": [
            "('hambúrguer', 'suco', 'pizza', 'pudim')\n",
            "pizza\n",
            "('hambúrguer', 'suco')\n",
            "('suco', 'pizza', 'pudim')\n",
            "pudim\n"
          ]
        },
        {
          "output_type": "execute_result",
          "data": {
            "text/plain": [
              "4"
            ]
          },
          "metadata": {},
          "execution_count": 21
        }
      ]
    },
    {
      "cell_type": "code",
      "execution_count": 22,
      "metadata": {
        "id": "Qd_ZTZ1XyBsw",
        "colab": {
          "base_uri": "https://localhost:8080/"
        },
        "outputId": "37f78605-20ca-44d0-d58d-62dd27585cf5"
      },
      "outputs": [
        {
          "output_type": "stream",
          "name": "stdout",
          "text": [
            "hambúrguer\n",
            "suco\n",
            "pizza\n",
            "pudim\n"
          ]
        }
      ],
      "source": [
        "lanche='hambúrguer', 'suco', 'pizza', 'pudim'\n",
        "for c in lanche: #substitui range pelo nome da tupla\n",
        "  print(c)"
      ]
    },
    {
      "cell_type": "code",
      "source": [
        "for comida in lanche:\n",
        "  print(f'No Natal vou comer {comida}')\n",
        "print('Comi muito nesse Natal!')"
      ],
      "metadata": {
        "colab": {
          "base_uri": "https://localhost:8080/"
        },
        "id": "7oDjuTvYoxWD",
        "outputId": "e1263402-b2b7-4aa5-f9a5-045c15e7dd84"
      },
      "execution_count": 23,
      "outputs": [
        {
          "output_type": "stream",
          "name": "stdout",
          "text": [
            "No Natal vou comer hambúrguer\n",
            "No Natal vou comer suco\n",
            "No Natal vou comer pizza\n",
            "No Natal vou comer pudim\n",
            "Comi muito nesse Natal!\n"
          ]
        }
      ]
    },
    {
      "cell_type": "code",
      "source": [
        "for cont in range(0, len(lanche)):\n",
        "  print('Nesse Natal vou comer ' ,end='') # end='' p/ imprimir na mesma linha\n",
        "  print(lanche[cont])\n",
        "print(' ')\n",
        "print('HO '*8)\n",
        "print('Comi muito nesse Natal!')"
      ],
      "metadata": {
        "colab": {
          "base_uri": "https://localhost:8080/"
        },
        "id": "wb-BhMz1qFW4",
        "outputId": "02c53746-9454-410a-d450-52fa98959ac8"
      },
      "execution_count": 25,
      "outputs": [
        {
          "output_type": "stream",
          "name": "stdout",
          "text": [
            "Nesse Natal vou comer hambúrguer\n",
            "Nesse Natal vou comer suco\n",
            "Nesse Natal vou comer pizza\n",
            "Nesse Natal vou comer pudim\n",
            " \n",
            "HO HO HO HO HO HO HO HO \n",
            "Comi muito nesse Natal!\n"
          ]
        }
      ]
    },
    {
      "cell_type": "code",
      "source": [
        "for cont in range(0, len(lanche)):\n",
        "  print(f'Nesse Natal vou comer {lanche[cont]} na posição {cont}') # dessa forma mostra a posição que cada elemento está na tupla\n",
        "print(' ')\n",
        "\n",
        "# ou\n",
        "\n",
        "for pos, comida in enumerate(lanche):\n",
        "  print(f'Eu vou comer {comida} na posição {pos}')"
      ],
      "metadata": {
        "colab": {
          "base_uri": "https://localhost:8080/"
        },
        "id": "_2nreh_qssaC",
        "outputId": "9e4c4376-46e6-4a47-ef75-09efcc7bdf5f"
      },
      "execution_count": 30,
      "outputs": [
        {
          "output_type": "stream",
          "name": "stdout",
          "text": [
            "Nesse Natal vou comer hambúrguer na posição 0\n",
            "Nesse Natal vou comer suco na posição 1\n",
            "Nesse Natal vou comer pizza na posição 2\n",
            "Nesse Natal vou comer pudim na posição 3\n",
            " \n",
            "Eu vou comer hambúrguer na posição 0\n",
            "Eu vou comer suco na posição 1\n",
            "Eu vou comer pizza na posição 2\n",
            "Eu vou comer pudim na posição 3\n"
          ]
        }
      ]
    },
    {
      "cell_type": "code",
      "source": [
        "print(sorted(lanche)) # para imprimir em ordem alfabética"
      ],
      "metadata": {
        "colab": {
          "base_uri": "https://localhost:8080/"
        },
        "id": "pR_txsvIudbj",
        "outputId": "0946e439-a50e-47e9-fae8-43ef4fd2fa9c"
      },
      "execution_count": 31,
      "outputs": [
        {
          "output_type": "stream",
          "name": "stdout",
          "text": [
            "['hambúrguer', 'pizza', 'pudim', 'suco']\n"
          ]
        }
      ]
    },
    {
      "cell_type": "code",
      "source": [
        "a = (2, 5, 4)\n",
        "b = (5, 8, 1, 2)\n",
        "c = a + b # a soma unifica as tuplas\n",
        "print(c)"
      ],
      "metadata": {
        "colab": {
          "base_uri": "https://localhost:8080/"
        },
        "id": "C_wudgb8u-ex",
        "outputId": "cc5eb716-22c2-4372-9b9c-6851c438e15d"
      },
      "execution_count": 32,
      "outputs": [
        {
          "output_type": "stream",
          "name": "stdout",
          "text": [
            "(2, 5, 4, 5, 8, 1, 2)\n"
          ]
        }
      ]
    },
    {
      "cell_type": "code",
      "source": [
        "print(c.count(5)) #mostra quantas vezes aquele elemento aparece na tupla\n",
        "print(c.index(4)) #mostra a posição do elemento"
      ],
      "metadata": {
        "colab": {
          "base_uri": "https://localhost:8080/"
        },
        "id": "aq3LMY4XwwLh",
        "outputId": "3d817c71-4023-42aa-bf9b-f92c1c98962b"
      },
      "execution_count": 34,
      "outputs": [
        {
          "output_type": "stream",
          "name": "stdout",
          "text": [
            "2\n",
            "2\n"
          ]
        }
      ]
    },
    {
      "cell_type": "code",
      "source": [
        "pessoa = ('Fernanda', 'F', 33, 60.55) # É possível colocar diferentes tipos de dados\n",
        "print(pessoa)\n",
        "# É imutável mas é possível apagar a tupla toda, com o comando \"del(pessoa)\""
      ],
      "metadata": {
        "colab": {
          "base_uri": "https://localhost:8080/"
        },
        "id": "e6tkE5nMyZVM",
        "outputId": "5ca7f70b-5eec-413e-8ffe-4ea6f21c55b9"
      },
      "execution_count": 37,
      "outputs": [
        {
          "output_type": "stream",
          "name": "stdout",
          "text": [
            "('Fernanda', 'F', 33, 60.55)\n"
          ]
        }
      ]
    },
    {
      "cell_type": "markdown",
      "source": [
        "Desafio 72 - Crie um programa que tenha uma tupla preenchida com uma contagem por extenso, de zero até vinte. Seu programa deverá ler um número pelo teclado (entre 0 e 20) e mostrá-lo por extenso."
      ],
      "metadata": {
        "id": "FQfik4fdzxwZ"
      }
    },
    {
      "cell_type": "code",
      "source": [
        "resp = ''\n",
        "extenso = 'zero', 'um', 'dois', 'três', 'quatro', 'cinco', 'seis', 'sete', 'oito', 'nove', 'dez', 'onze', 'doze', 'treze', 'quatorze', 'quinze', 'dezesséis', 'dezessete', 'dezoito', 'dezenove', 'vinte'\n",
        "#for c in extenso:\n",
        "while True:\n",
        "  num = int(input('Digite um número entre 0 e 20: '))\n",
        "  if num >= 0 and num <= 20:\n",
        "    print(f'Você digitou o número {num}, escrito por extenso é {extenso[num]}')\n",
        "  if num <0 or num >21:\n",
        "    num = int(input('Ocorreu um erro. Digite um número entre 0 e 20: '))\n",
        "    print(f'Você digitou o número {num}, escrito por extenso é {extenso[num]}')\n",
        "  resp = str(input('Quer continuar? S/N ')).upper().strip()\n",
        "  if resp == 'S':\n",
        "    num = str(input('Digite um número entre 0 e 20: '))\n",
        "  elif resp == 'N':\n",
        "    break\n",
        "print('-'*30)\n",
        "print('Programa encerrado')"
      ],
      "metadata": {
        "colab": {
          "base_uri": "https://localhost:8080/",
          "height": 349
        },
        "id": "Y9Wf1ETv4CjF",
        "outputId": "c46aaf9a-56cf-484e-e7ad-57c68931b89f"
      },
      "execution_count": 82,
      "outputs": [
        {
          "name": "stdout",
          "output_type": "stream",
          "text": [
            "Digite um número entre 0 e 20: 20\n",
            "Você digitou o número 20, escrito por extenso é vinte\n",
            "Quer continuar? S/N s\n",
            "Digite um número entre 0 e 20: 85\n",
            "Digite um número entre 0 e 20: 85\n",
            "Ocorreu um erro. Digite um número entre 0 e 20: 85\n"
          ]
        },
        {
          "output_type": "error",
          "ename": "IndexError",
          "evalue": "ignored",
          "traceback": [
            "\u001b[0;31m---------------------------------------------------------------------------\u001b[0m",
            "\u001b[0;31mIndexError\u001b[0m                                Traceback (most recent call last)",
            "\u001b[0;32m<ipython-input-82-42a9fbd5dbaa>\u001b[0m in \u001b[0;36m<cell line: 4>\u001b[0;34m()\u001b[0m\n\u001b[1;32m      8\u001b[0m   \u001b[0;32mif\u001b[0m \u001b[0mnum\u001b[0m \u001b[0;34m<\u001b[0m\u001b[0;36m0\u001b[0m \u001b[0;32mor\u001b[0m \u001b[0mnum\u001b[0m \u001b[0;34m>\u001b[0m\u001b[0;36m21\u001b[0m\u001b[0;34m:\u001b[0m\u001b[0;34m\u001b[0m\u001b[0;34m\u001b[0m\u001b[0m\n\u001b[1;32m      9\u001b[0m     \u001b[0mnum\u001b[0m \u001b[0;34m=\u001b[0m \u001b[0mint\u001b[0m\u001b[0;34m(\u001b[0m\u001b[0minput\u001b[0m\u001b[0;34m(\u001b[0m\u001b[0;34m'Ocorreu um erro. Digite um número entre 0 e 20: '\u001b[0m\u001b[0;34m)\u001b[0m\u001b[0;34m)\u001b[0m\u001b[0;34m\u001b[0m\u001b[0;34m\u001b[0m\u001b[0m\n\u001b[0;32m---> 10\u001b[0;31m     \u001b[0mprint\u001b[0m\u001b[0;34m(\u001b[0m\u001b[0;34mf'Você digitou o número {num}, escrito por extenso é {extenso[num]}'\u001b[0m\u001b[0;34m)\u001b[0m\u001b[0;34m\u001b[0m\u001b[0;34m\u001b[0m\u001b[0m\n\u001b[0m\u001b[1;32m     11\u001b[0m   \u001b[0mresp\u001b[0m \u001b[0;34m=\u001b[0m \u001b[0mstr\u001b[0m\u001b[0;34m(\u001b[0m\u001b[0minput\u001b[0m\u001b[0;34m(\u001b[0m\u001b[0;34m'Quer continuar? S/N '\u001b[0m\u001b[0;34m)\u001b[0m\u001b[0;34m)\u001b[0m\u001b[0;34m.\u001b[0m\u001b[0mupper\u001b[0m\u001b[0;34m(\u001b[0m\u001b[0;34m)\u001b[0m\u001b[0;34m.\u001b[0m\u001b[0mstrip\u001b[0m\u001b[0;34m(\u001b[0m\u001b[0;34m)\u001b[0m\u001b[0;34m\u001b[0m\u001b[0;34m\u001b[0m\u001b[0m\n\u001b[1;32m     12\u001b[0m   \u001b[0;32mif\u001b[0m \u001b[0mresp\u001b[0m \u001b[0;34m==\u001b[0m \u001b[0;34m'S'\u001b[0m\u001b[0;34m:\u001b[0m\u001b[0;34m\u001b[0m\u001b[0;34m\u001b[0m\u001b[0m\n",
            "\u001b[0;31mIndexError\u001b[0m: tuple index out of range"
          ]
        }
      ]
    },
    {
      "cell_type": "markdown",
      "source": [
        "Desafio 73 - Crie uma tupla preenchida com os 20 primeiros colocados da Tabela do Campeonato Braseileiro de Futebol, na ordem de colocação. Depois mostre:\n",
        "\n",
        "1 - Apenas os primeiros colocados;\n",
        "\n",
        "2 - Os últimos 4 colocados;\n",
        "\n",
        "3 - Uma lista com os times em ordem alfabética;\n",
        "\n",
        "4 - Em que posição na cadeia está o time Chapecoense."
      ],
      "metadata": {
        "id": "eTf2ctZVLQ0r"
      }
    },
    {
      "cell_type": "code",
      "source": [],
      "metadata": {
        "id": "KQqY1r08M17y"
      },
      "execution_count": null,
      "outputs": []
    },
    {
      "cell_type": "markdown",
      "source": [
        "Desafio 74 - Crie um programa que vai gerar cinco números aleatórios e colocar numa tupla. Depois disso, mostre a listagem de números gerados e também indique o menor e o maior valor que estão na tupla."
      ],
      "metadata": {
        "id": "joTubLTuM6aj"
      }
    },
    {
      "cell_type": "markdown",
      "source": [
        "Desafio 75 - Crie um programa que leia quatro valores pelo teclado e guarde-os em uma tupla. No final, mostre:\n",
        "\n",
        "a) Quantas vezes apareceu o valor 9;\n",
        "\n",
        "b) Em que posição foi digitado o primeiro valor 3;\n",
        "\n",
        "c) Quais foram os números pares."
      ],
      "metadata": {
        "id": "Xo8HmsdtN9Oo"
      }
    },
    {
      "cell_type": "markdown",
      "source": [
        "Desafio 76 - Crie um programa que tenha uma tupla única com nomes de produtos e seus respectivos preços na sequencia. No final, mostre uma listagem de preços, organizando os dados em forma tabular."
      ],
      "metadata": {
        "id": "sddaHKuqOr9Y"
      }
    },
    {
      "cell_type": "markdown",
      "source": [
        "Desafio 77 - Crie um programa que uma tupla com várias palavras (não usar acentos). Depois disso, você deve mostrar para cada palavra, quais são as suas vogais."
      ],
      "metadata": {
        "id": "x8ZihIjEO_LS"
      }
    },
    {
      "cell_type": "code",
      "source": [
        "palavras = 'Trabalho', 'Escola', 'Programação', 'Python'\n",
        "for letras in palavras:\n",
        "  palavras in 'aeiou'\n",
        "  print(f'Nessa palavra temos as vogais {letras}')\n"
      ],
      "metadata": {
        "colab": {
          "base_uri": "https://localhost:8080/",
          "height": 227
        },
        "id": "T_ZaE6saQgRY",
        "outputId": "83cff56d-ac26-4c93-d585-f785207a6837"
      },
      "execution_count": 64,
      "outputs": [
        {
          "output_type": "error",
          "ename": "TypeError",
          "evalue": "ignored",
          "traceback": [
            "\u001b[0;31m---------------------------------------------------------------------------\u001b[0m",
            "\u001b[0;31mTypeError\u001b[0m                                 Traceback (most recent call last)",
            "\u001b[0;32m<ipython-input-64-9d1e8abe304f>\u001b[0m in \u001b[0;36m<cell line: 2>\u001b[0;34m()\u001b[0m\n\u001b[1;32m      1\u001b[0m \u001b[0mpalavras\u001b[0m \u001b[0;34m=\u001b[0m \u001b[0;34m'Trabalho'\u001b[0m\u001b[0;34m,\u001b[0m \u001b[0;34m'Escola'\u001b[0m\u001b[0;34m,\u001b[0m \u001b[0;34m'Programação'\u001b[0m\u001b[0;34m,\u001b[0m \u001b[0;34m'Python'\u001b[0m\u001b[0;34m\u001b[0m\u001b[0;34m\u001b[0m\u001b[0m\n\u001b[1;32m      2\u001b[0m \u001b[0;32mfor\u001b[0m \u001b[0mletras\u001b[0m \u001b[0;32min\u001b[0m \u001b[0mpalavras\u001b[0m\u001b[0;34m:\u001b[0m\u001b[0;34m\u001b[0m\u001b[0;34m\u001b[0m\u001b[0m\n\u001b[0;32m----> 3\u001b[0;31m   \u001b[0mpalavras\u001b[0m \u001b[0;32min\u001b[0m \u001b[0;34m'aeiou'\u001b[0m\u001b[0;34m\u001b[0m\u001b[0;34m\u001b[0m\u001b[0m\n\u001b[0m\u001b[1;32m      4\u001b[0m   \u001b[0mprint\u001b[0m\u001b[0;34m(\u001b[0m\u001b[0;34mf'Nessa palavra temos as vogais {letras}'\u001b[0m\u001b[0;34m)\u001b[0m\u001b[0;34m\u001b[0m\u001b[0;34m\u001b[0m\u001b[0m\n",
            "\u001b[0;31mTypeError\u001b[0m: 'in <string>' requires string as left operand, not tuple"
          ]
        }
      ]
    },
    {
      "cell_type": "markdown",
      "source": [
        "Desafio 7 - Crie um programa que"
      ],
      "metadata": {
        "id": "YF6rflzUPAKO"
      }
    },
    {
      "cell_type": "markdown",
      "source": [
        "Desafio 7 - Crie um programa que"
      ],
      "metadata": {
        "id": "sda_yP34PAZ7"
      }
    }
  ]
}