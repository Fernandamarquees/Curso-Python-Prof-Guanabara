{
  "nbformat": 4,
  "nbformat_minor": 0,
  "metadata": {
    "colab": {
      "provenance": [],
      "authorship_tag": "ABX9TyNCl1xsXeV2aGD0YfK8xh7j",
      "include_colab_link": true
    },
    "kernelspec": {
      "name": "python3",
      "display_name": "Python 3"
    },
    "language_info": {
      "name": "python"
    }
  },
  "cells": [
    {
      "cell_type": "markdown",
      "metadata": {
        "id": "view-in-github",
        "colab_type": "text"
      },
      "source": [
        "<a href=\"https://colab.research.google.com/github/Fernandamarquees/Curso-Python-Prof-Guanabara/blob/main/Curso_Python_Guanabara_Mundo_1_M%C3%B3dulos_4%2C_5_e_6.ipynb\" target=\"_parent\"><img src=\"https://colab.research.google.com/assets/colab-badge.svg\" alt=\"Open In Colab\"/></a>"
      ]
    },
    {
      "cell_type": "markdown",
      "source": [
        "#Curso Python Guanabara Mundo 1 - Módulos 4, 5 e 6"
      ],
      "metadata": {
        "id": "9pMIC9Zu9N5m"
      }
    },
    {
      "cell_type": "markdown",
      "source": [
        "### Utilizando Módulos"
      ],
      "metadata": {
        "id": "Tq9SQqww90AW"
      }
    },
    {
      "cell_type": "code",
      "execution_count": 1,
      "metadata": {
        "id": "kbXpozPd9Luw"
      },
      "outputs": [],
      "source": [
        "from math import ceil\n",
        "# da biblioteca Math importe apenas a funcionalidade Ceil\n",
        "#dessa maneira pode colocar apenas o nome da funcionalidade\n",
        "#ex.: .format(variavel, funcionalidade(variavel))\n",
        "\n",
        "from math import ceil, sqrt\n",
        "# da biblioteca Math importe Ceil e Sqrt\n",
        "#dessa maneira pode colocar apenas o nome da funcionalidade\n",
        "#ex.: .format(variavel, funcionalidade(variavel))\n",
        "\n",
        "import math\n",
        "#dessa maneira precisa colocar o nome da biblioteca tds vez que for utilizar uma funcionalidade\n",
        "# para importar todas as funcionalidades da biblioteca Math\n",
        "#ex.: .format(variavel, nomedabiblioteca.funcionalidade(variavel))"
      ]
    },
    {
      "cell_type": "markdown",
      "source": [
        "Desafio 16 - Crie um programa que leia um número real qualquer pelo teclado e mostre na tela a sua porção inteira."
      ],
      "metadata": {
        "id": "APZu21GbTfLt"
      }
    },
    {
      "cell_type": "code",
      "source": [
        "num = float(input('Digite um número: '))\n",
        "print('Você digitou o número {}, sua porção inteira é {}.'.format(num, ceil(num)))\n",
        "#.format(num, math.ceil(num) outra opção, colocar o nome da biblioteca e função desejada dentro do format, mas a biblioteca e função precisam ser importadas fora do format"
      ],
      "metadata": {
        "colab": {
          "base_uri": "https://localhost:8080/"
        },
        "id": "vvXyoFMLQNnD",
        "outputId": "381b73d0-6e6f-4b70-ec90-1dc0d11420dc"
      },
      "execution_count": null,
      "outputs": [
        {
          "output_type": "stream",
          "name": "stdout",
          "text": [
            "Digite um número: 2.749\n",
            "Você digitou o número 2.749, sua porção inteira é 3.\n"
          ]
        }
      ]
    },
    {
      "cell_type": "code",
      "source": [
        "num = float(input('Digite um número: '))\n",
        "print('Você digitou o número {}, sua porção inteira é: {}.'.format(num, int(num)))\n",
        "#usei o 'int' do próprio Python, ele exclui os números dpois da vírgula. Não precisa importar nenhuma biblioteca"
      ],
      "metadata": {
        "colab": {
          "base_uri": "https://localhost:8080/"
        },
        "id": "3vFOIihMYkME",
        "outputId": "4165484d-3cb9-447a-98d0-32d6f7eeca52"
      },
      "execution_count": null,
      "outputs": [
        {
          "output_type": "stream",
          "name": "stdout",
          "text": [
            "Digite um número: 2.749\n",
            "Você digitou o número 2.749, sua porção inteira é: 2.\n"
          ]
        }
      ]
    },
    {
      "cell_type": "markdown",
      "source": [
        "Desafio 17 - Faça um programa que leia o comprimento do catetos oposto e do catetos adjacente de um triângulo retângulo, calcule e mostre o comprimento da hipotenusa."
      ],
      "metadata": {
        "id": "rQ49T7huT46k"
      }
    },
    {
      "cell_type": "code",
      "source": [
        "cat_o = float(input('Digite o valor do cateto oposto '))\n",
        "cat_a = float(input('Digite o valor do cateto adjacente '))\n",
        "print('O valor do cateto oposto é {:.2f}, o valor do cateto adjacente é {:.2f}, portanto o valor da hipotenusa é {:.2f}.'.format(cat_o, cat_a, ((cat_o**2)+(cat_a**2))**0.5))\n",
        "#nessa opção não impotei nenhuma funcionalidade"
      ],
      "metadata": {
        "colab": {
          "base_uri": "https://localhost:8080/"
        },
        "id": "7Z8ndUS9bRv6",
        "outputId": "1cc7b3c8-4071-48e6-f528-1b83982972c9"
      },
      "execution_count": null,
      "outputs": [
        {
          "output_type": "stream",
          "name": "stdout",
          "text": [
            "Digite o valor do cateto oposto 2\n",
            "Digite o valor do cateto adjacente 2.5\n",
            "O valor do cateto oposto é 2.00, o valor do cateto adjacente é 2.50, portanto o valor da hipotenusa é 3.20.\n"
          ]
        }
      ]
    },
    {
      "cell_type": "code",
      "source": [
        "from math import hypot\n",
        "cat_o = float(input('Digite o valor do cateto oposto '))\n",
        "cat_a = float(input('Digite o valor do cateto adjacente '))\n",
        "print('O valor do cateto oposto é {:.2f}, o valor do cateto adjacente é {:.2f}, portanto o valor da hipotenusa é {:.2f}.'.format(cat_o, cat_a, math.hypot(cat_o, cat_a)))\n",
        "#nessa opção usei a funcionalidade 'hypot', específica para calcular hipotenusa dentro da biblioteca 'math'"
      ],
      "metadata": {
        "colab": {
          "base_uri": "https://localhost:8080/"
        },
        "id": "GMqKbjJygu6n",
        "outputId": "e2c25f37-ea9d-4dbe-ffb5-ab0b63fdc577"
      },
      "execution_count": null,
      "outputs": [
        {
          "output_type": "stream",
          "name": "stdout",
          "text": [
            "Digite o valor do cateto oposto 2\n",
            "Digite o valor do cateto adjacente 2.5\n",
            "O valor do cateto oposto é 2.00, o valor do cateto adjacente é 2.50, portanto o valor da hipotenusa é 3.20.\n"
          ]
        }
      ]
    },
    {
      "cell_type": "markdown",
      "source": [
        "Desafio 18 - Faça um programa que leia um ângulo qualquer e mostre na tela o valor do seno, cosseno e tangente desse ângulo."
      ],
      "metadata": {
        "id": "B7CyWXbUUSfC"
      }
    },
    {
      "cell_type": "code",
      "source": [
        "import math\n",
        "ang = int(input('Digite o ângulo que deseja calcular '))\n",
        "seno = math.sin(math.radians(ang)) #precisa passar o grau para radianos, é possível duas funcionalidades seguida, precisa incluir a variavel que deseja calcular\n",
        "coss = math.cos(math.radians(ang))\n",
        "tan = math.tan(math.radians(ang))\n",
        "print('Se o ângulo é {:.2f}, então: \\no valor do seno é {:.2f}, \\no valor do cosseno é {:.2f} \\ne o valor tangente é {:.2f}.'.format(ang, seno, coss, tan))"
      ],
      "metadata": {
        "colab": {
          "base_uri": "https://localhost:8080/"
        },
        "id": "a0T4eITLivTd",
        "outputId": "fe52a920-b98a-49b0-8fed-dd8a1830e9fb"
      },
      "execution_count": null,
      "outputs": [
        {
          "output_type": "stream",
          "name": "stdout",
          "text": [
            "Digite o ângulo que deseja calcular 30\n",
            "Se o ângulo é 30.00, então: \n",
            "o valor do seno é 0.50, \n",
            "o valor do cosseno é 0.87 \n",
            "e o valor tangente é 0.58.\n"
          ]
        }
      ]
    },
    {
      "cell_type": "markdown",
      "source": [
        "Desafio 19 - Um professor quer sortear um dos seus quatros alunos para apagar o quadro. Faça um programa que o ajude, lendo o nome deles e escrevendo o nome do escolhido"
      ],
      "metadata": {
        "id": "QV0Db0C3UuOG"
      }
    },
    {
      "cell_type": "code",
      "source": [
        "from random import choice\n",
        "n1 = input('Primeiro aluno: ')\n",
        "n2 = input('Segundo aluno: ')\n",
        "n3 = input('Terceiro aluno: ')\n",
        "n4 = input('Quarto aluno: ')\n",
        "lista = [n1, n2, n3, n4]\n",
        "escolhido = choice(lista)\n",
        "print('O aluno escolhido foi {}.'.format(escolhido))"
      ],
      "metadata": {
        "colab": {
          "base_uri": "https://localhost:8080/"
        },
        "id": "dLWsnKeNoKTX",
        "outputId": "68c34da1-f173-4333-89fb-b36e55386fa0"
      },
      "execution_count": null,
      "outputs": [
        {
          "output_type": "stream",
          "name": "stdout",
          "text": [
            "Primeiro aluno: Camila\n",
            "Segundo aluno: Jéssica\n",
            "Terceiro aluno: André\n",
            "Quarto aluno: Pedro\n",
            "O aluno escolhido foi André.\n"
          ]
        }
      ]
    },
    {
      "cell_type": "markdown",
      "source": [
        "Desafio 20 - O mesmo professor do desafio anterior quer sortear a ordem de apresentação de trabalho dos alunos. Faça um programa que leia o nome dos quatro alunos e mostre a ordem sorteada."
      ],
      "metadata": {
        "id": "L9PTb-dfVoFn"
      }
    },
    {
      "cell_type": "code",
      "source": [
        "from random import shuffle\n",
        "n1 = input('Primeiro aluno: ')\n",
        "n2 = input('Segundo aluno: ')\n",
        "n3 = input('Terceiro aluno: ')\n",
        "n4 = input('Quarto aluno: ')\n",
        "lista = [n1, n2, n3, n4]\n",
        "shuffle(lista)\n",
        "print('A ordem de apresentação será:')\n",
        "print(lista)"
      ],
      "metadata": {
        "colab": {
          "base_uri": "https://localhost:8080/"
        },
        "id": "3D_kpXYLxE8f",
        "outputId": "fa8868fe-0dda-4f5e-be20-64076d5ce567"
      },
      "execution_count": null,
      "outputs": [
        {
          "output_type": "stream",
          "name": "stdout",
          "text": [
            "Primeiro aluno: Amanda\n",
            "Segundo aluno: Beatriz\n",
            "Terceiro aluno: Juliana\n",
            "Quarto aluno: Carol\n",
            "A ordem de apresentação será:\n",
            "['Carol', 'Beatriz', 'Amanda', 'Juliana']\n"
          ]
        }
      ]
    },
    {
      "cell_type": "markdown",
      "source": [
        "###Aula 9 - Manipulando strings"
      ],
      "metadata": {
        "id": "Yyo4pd2g8sga"
      }
    },
    {
      "cell_type": "code",
      "source": [
        "#Fatiamento de strings começa em 0\n",
        "#ex.: Curso em Vídeo Python = C0 u1 r2 s3 o4 5 e6 m7 8 V9 í10 d11 e12 o13 14 P15 y16 t17 h18 o19 n20\n",
        "frase = 'Curso em Vídeo Python'\n",
        "print(frase[9]) #para pegar a 9ª letra\n",
        "print(frase[9:14]) #para pegar da 9ª letra até a 13ª, a 14ª identifica mas não seleciona\n",
        "print(frase[:5]) #qnd não tem número definindo o início, então ele começa do 0\n",
        "print(frase[9:21]) #identifica que não há nada no 22, mas seleciona o 20\n",
        "print(frase[15:]) #começa na 15ª letra e vai até a última letra\n",
        "print(frase[4:21:2]) #começa na 4ª letra, para na 20ª e pula de 2 em 2\n",
        "print(frase[9::3]) #começa na 9ª letra, vai até o final e pula de 3 em 3"
      ],
      "metadata": {
        "colab": {
          "base_uri": "https://localhost:8080/"
        },
        "id": "kJdOfSDIAVno",
        "outputId": "fa7dbf35-90eb-49b0-f0e5-f18501e2bc67"
      },
      "execution_count": null,
      "outputs": [
        {
          "output_type": "stream",
          "name": "stdout",
          "text": [
            "V\n",
            "Vídeo\n",
            "Curso\n",
            "Vídeo Python\n",
            "Python\n",
            "oe íe yhn\n",
            "VePh\n"
          ]
        }
      ]
    },
    {
      "cell_type": "code",
      "source": [
        "#Análise de strings\n",
        "len(frase) #mostra qnts caracteres tem a string\n",
        "frase.count('o') #mostra qnts vezes aparece a letra o (mínúscula) na strings\n",
        "frase.count('o', 0, 13) #mesma função da anterior, mas entre as letras 0 e 12 da string\n",
        "frase.find('deo') #find = encontrar, onde está a palavra indicada\n",
        "frase.find('Android') #retorna -1 qnd não encontra a palavra indicada\n",
        "'Curso' in frase #para localizar a palavra na string\n",
        "frase.replace('Python', 'Android') #susbstitui a primeira a palavra pela segunda\n",
        "\n",
        "#acrescentar o print para imprimir"
      ],
      "metadata": {
        "colab": {
          "base_uri": "https://localhost:8080/"
        },
        "id": "Z029aUQpECMh",
        "outputId": "8dda2c01-79a7-4796-d444-22f09e6136a8"
      },
      "execution_count": null,
      "outputs": [
        {
          "output_type": "stream",
          "name": "stdout",
          "text": [
            "21\n",
            "3\n",
            "1\n",
            "11\n",
            "-1\n",
            "True\n",
            "Curso em Vídeo Android\n"
          ]
        }
      ]
    },
    {
      "cell_type": "code",
      "source": [
        "frase.upper() #tornar maiúsculo, precisa dos parênteses no final\n",
        "frase.lower() #tornar minúsculo\n",
        "frase.capitalize() #deixa apenas a primeira letra maiúcula, tdas as outras minúsculas\n",
        "frase.title() #a 1ª letra de palavra em maiúsculo\n",
        "frase.strip() #remove espaços inúteis no início ou final de uma string\n",
        "frase.rstrip() #remove espaços inúteis no final de uma string\n",
        "frase.lstrip() ##remove espaços inúteis no início de uma string\n",
        "\n",
        "#divisão de string\n",
        "print(frase.split()) #gera uma lista com tds as palavras de uma string\n",
        "print('_'.join(frase)) #para acrescentar _ entre as letras\n",
        "\n",
        "#em tds essas funções apresentadas, faz a alteração mas não salva, para salvar precisa da atribuição, ex:\n",
        "frase = frase.replace('Python', 'Android')"
      ],
      "metadata": {
        "id": "lr-13jp2HD1K"
      },
      "execution_count": null,
      "outputs": []
    },
    {
      "cell_type": "code",
      "source": [
        "print(frase.lower().find('vídeo')) #lower torna a frase minúscula, find encontra a posição. Na frase original 'vídeo' está com V maiúsculo"
      ],
      "metadata": {
        "colab": {
          "base_uri": "https://localhost:8080/"
        },
        "id": "JSYqAq-DImOE",
        "outputId": "4f4d5e0c-62f8-4e97-ceca-ecc62f74c48f"
      },
      "execution_count": null,
      "outputs": [
        {
          "output_type": "stream",
          "name": "stdout",
          "text": [
            "9\n"
          ]
        }
      ]
    },
    {
      "cell_type": "markdown",
      "source": [
        "Desafio 21 - Crie um programa que leia o nome completo de uma pessoa e mostre:\n",
        "\n",
        "- O nome com todas as letras maiúsculas;\n",
        "\n",
        "- O nome com todas as letras minúsculas;\n",
        "\n",
        "- Quantas letras ao todo sem considerar espaços;\n",
        "\n",
        "- Quantas letras tem o primeiro nome."
      ],
      "metadata": {
        "id": "1QtNRbk4xYwc"
      }
    },
    {
      "cell_type": "code",
      "source": [
        "nome = str(input('Digite seu nome completo ')).strip() #função stirp p/ eliminar espaços antes e após o nome\n",
        "print(nome.upper())\n",
        "print(nome.lower())\n",
        "print('Seu nome tem {} letras.'.format(len(nome) - nome.count(' ')))\n",
        "#nome = nome.replace(' ', '') outra opção p eliminar os espaços estre as palavras, precisa atiribuir p imprimir corretamente\n",
        "print('Seu primeiro nome tem {}.'.format(nome.find(' '))) #pesquisar dentro do nome o primeiro espaço, assim ele conta qnts letras tem\n",
        "\n",
        "#outra opção para contar as letras do primeiro nome:\n",
        "separa = nome.split()\n",
        "print('Seu primeiro nome é {} e ele tem {} letras.'.format(separa[0], len(separa[0])))"
      ],
      "metadata": {
        "id": "q3_H4m0LMwCJ",
        "colab": {
          "base_uri": "https://localhost:8080/"
        },
        "outputId": "43419cb9-a163-4d4b-a267-8b90576c8b2d"
      },
      "execution_count": null,
      "outputs": [
        {
          "output_type": "stream",
          "name": "stdout",
          "text": [
            "Digite seu nome completo Camila Mattos de Albuquerque\n",
            "CAMILA MATTOS DE ALBUQUERQUE\n",
            "camila mattos de albuquerque\n",
            "Seu nome tem 25 letras.\n",
            "Seu primeiro nome tem 6.\n",
            "Seu primeiro nome é Camila e ele tem 6 letras.\n"
          ]
        }
      ]
    },
    {
      "cell_type": "markdown",
      "source": [
        "Desafio 22 - Faça um programa que leia um número de 0 a 9999 e mostre na tela cada um dos dígitos separados.\n",
        "Ex.: Digite um número: 1834\n",
        "- Unidade 4\n",
        "- Dezena 3\n",
        "- Centena 8\n",
        "- Milhar 1"
      ],
      "metadata": {
        "id": "m_RtsWYJMl3A"
      }
    },
    {
      "cell_type": "code",
      "source": [
        "num = int(input('Digite um número de 0 a 9999: '))\n",
        "#split não funciona\n",
        "u = num // 1 % 10\n",
        "d = num // 10 % 10\n",
        "c = num // 100 % 10\n",
        "m = num // 1000 % 10\n",
        "print('Você digitiou o número: {}\\nUnidade {} \\nDezena {} \\nCentena {} \\nMilhar {}'.format(num, u, d, c, m))"
      ],
      "metadata": {
        "colab": {
          "base_uri": "https://localhost:8080/"
        },
        "id": "KDjaZXOrOaSy",
        "outputId": "ce21a209-ffd2-41b0-b637-19817273acec"
      },
      "execution_count": null,
      "outputs": [
        {
          "output_type": "stream",
          "name": "stdout",
          "text": [
            "Digite um número de 0 a 9999: 5412\n",
            "Você digitiou o número: 5412\n",
            "Unidade 2 \n",
            "Dezena 1 \n",
            "Centena 4 \n",
            "Milhar 5\n"
          ]
        }
      ]
    },
    {
      "cell_type": "markdown",
      "source": [
        "Desafio 23 - Crie uma programa que leia o nome de uma cidade e diga se ela começa ou não com o nome 'Santo'."
      ],
      "metadata": {
        "id": "MWt4zMn9xdRy"
      }
    },
    {
      "cell_type": "code",
      "source": [
        "cid = str(input('Digite o nome de uma cidade: ')).strip()\n",
        "print(cid[:5].upper() == 'SANTO')"
      ],
      "metadata": {
        "id": "YzygxUXyRNYL",
        "colab": {
          "base_uri": "https://localhost:8080/"
        },
        "outputId": "29dce886-9b50-4d83-b73a-ddf2da811f0c"
      },
      "execution_count": null,
      "outputs": [
        {
          "output_type": "stream",
          "name": "stdout",
          "text": [
            "Digite o nome de uma cidade: Santo Amaro\n",
            "True\n"
          ]
        }
      ]
    },
    {
      "cell_type": "markdown",
      "source": [
        "Desafio 24 - Crie um programa que leia o nome de uma pessoa e dia se tem 'Silva' no nome."
      ],
      "metadata": {
        "id": "eCmSe1VrMola"
      }
    },
    {
      "cell_type": "code",
      "source": [
        "nome = str(input('Digite seu nome completo: ')).strip()\n",
        "print('Seu nome tem Silva? {}'.format('silva' in nome.lower())) #p/ o Python conseguir localizar, silva no format precisa estar minúsculo no lower ou td maiúsculo no upper"
      ],
      "metadata": {
        "colab": {
          "base_uri": "https://localhost:8080/"
        },
        "id": "4hxHnOWRbp1I",
        "outputId": "991a1f6f-0b54-478a-edc9-f5e7e5688a53"
      },
      "execution_count": 7,
      "outputs": [
        {
          "output_type": "stream",
          "name": "stdout",
          "text": [
            "Digite seu nome completo: Camila Mattos de Albuquerque Silva\n",
            "Seu nome tem Silva? True\n"
          ]
        }
      ]
    },
    {
      "cell_type": "markdown",
      "source": [
        "Desafio 25 - Faça um programa que leia uma frase pelo teclado e mostre:\n",
        "\n",
        "- Quantas vezes aparece a letra 'A';\n",
        "- Em que posição ela aparece a primeira vez;\n",
        "- Em que posição ela aparece a última vez."
      ],
      "metadata": {
        "id": "GJMNiqkdMrYv"
      }
    },
    {
      "cell_type": "code",
      "source": [
        "frase = str(input('Digite uma frase: ')).strip().upper() #passar td a frase p/ maiúsculo e evitar erros\n",
        "print('A primeira letra A aparece na posição {}.'.format(frase.count('A')))\n",
        "print('A primeira letra A aparece na posição {}.'.format(frase.find('A')+1)) #p/ o python a 1ª posição é 0, p/ não ficar estranho p/ o usuário adicionei 1.\n",
        "print('A primeira letra A aparece na posição {}.'.format(frase.rfind('A')+1)) #rfind = r (right - lado direito) (find - procurar)"
      ],
      "metadata": {
        "colab": {
          "base_uri": "https://localhost:8080/"
        },
        "id": "GyssfifD_UFU",
        "outputId": "dc30a992-0d06-4fa0-8019-d3d7a6217f16"
      },
      "execution_count": 14,
      "outputs": [
        {
          "output_type": "stream",
          "name": "stdout",
          "text": [
            "Digite uma frase: Celebrar como se amanhã o mundo fosse acabar! Tanta coisa boa a vida tem pra te dar. O pensamento leve faz a gente mudar!\n",
            "A primeira letra A aparece na posição 18.\n",
            "A primeira letra A aparece na posição 7.\n",
            "A primeira letra A aparece na posição 119.\n"
          ]
        }
      ]
    },
    {
      "cell_type": "markdown",
      "source": [
        "Desafio 26 - Faça um programa que leia o nome completo de uma pessoa, mostrando em seguida o primeiro e o último nome separadamente."
      ],
      "metadata": {
        "id": "MPCcK-EVMtHI"
      }
    },
    {
      "cell_type": "code",
      "source": [
        "nome_comp = str(input('Digite seu nome completo ')).upper().strip()\n",
        "nome_comp = nome_comp.split()\n",
        "print('Seu primeiro nome é {}.'.format(nome_comp[0]))\n",
        "print('Seu último nome é {}.'.format(nome_comp[len(nome_comp)-1])) #len para contar qnts nomes tem, -1 p/ encontrar o último"
      ],
      "metadata": {
        "colab": {
          "base_uri": "https://localhost:8080/"
        },
        "id": "dPBYUBCNaddx",
        "outputId": "29a1a69a-2987-48a0-91ef-aac78756cf18"
      },
      "execution_count": 27,
      "outputs": [
        {
          "output_type": "stream",
          "name": "stdout",
          "text": [
            "Digite seu nome completo Camila Mattos de Albuquerque Silva\n",
            "Seu primeiro nome é CAMILA.\n",
            "Seu último nome é SILVA.\n"
          ]
        }
      ]
    },
    {
      "cell_type": "markdown",
      "source": [
        "###Aula 10 - If e Else"
      ],
      "metadata": {
        "id": "ydZ-nBqueVqg"
      }
    },
    {
      "cell_type": "code",
      "source": [],
      "metadata": {
        "id": "_2xnWYLNhUBq"
      },
      "execution_count": null,
      "outputs": []
    }
  ]
}