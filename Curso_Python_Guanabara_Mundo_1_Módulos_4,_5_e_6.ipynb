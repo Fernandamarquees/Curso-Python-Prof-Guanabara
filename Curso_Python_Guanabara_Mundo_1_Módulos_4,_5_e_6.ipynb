{
  "cells": [
    {
      "cell_type": "markdown",
      "metadata": {
        "id": "view-in-github",
        "colab_type": "text"
      },
      "source": [
        "<a href=\"https://colab.research.google.com/github/Fernandamarquees/Curso-Python-Prof-Guanabara/blob/main/Curso_Python_Guanabara_Mundo_1_M%C3%B3dulos_4%2C_5_e_6.ipynb\" target=\"_parent\"><img src=\"https://colab.research.google.com/assets/colab-badge.svg\" alt=\"Open In Colab\"/></a>"
      ]
    },
    {
      "cell_type": "markdown",
      "metadata": {
        "id": "9pMIC9Zu9N5m"
      },
      "source": [
        "#Curso Python Guanabara Mundo 1 - Módulos 4, 5 e 6"
      ]
    },
    {
      "cell_type": "markdown",
      "metadata": {
        "id": "Tq9SQqww90AW"
      },
      "source": [
        "### Utilizando Módulos"
      ]
    },
    {
      "cell_type": "code",
      "execution_count": 43,
      "metadata": {
        "id": "kbXpozPd9Luw"
      },
      "outputs": [],
      "source": [
        "from math import ceil\n",
        "# da biblioteca Math importe apenas a funcionalidade Ceil\n",
        "#dessa maneira pode colocar apenas o nome da funcionalidade\n",
        "#ex.: .format(variavel, funcionalidade(variavel))\n",
        "\n",
        "from math import ceil, sqrt\n",
        "# da biblioteca Math importe Ceil e Sqrt\n",
        "#dessa maneira pode colocar apenas o nome da funcionalidade\n",
        "#ex.: .format(variavel, funcionalidade(variavel))\n",
        "\n",
        "import math\n",
        "#dessa maneira precisa colocar o nome da biblioteca tds vez que for utilizar uma funcionalidade\n",
        "# para importar todas as funcionalidades da biblioteca Math\n",
        "#ex.: .format(variavel, nomedabiblioteca.funcionalidade(variavel))"
      ]
    },
    {
      "cell_type": "markdown",
      "metadata": {
        "id": "APZu21GbTfLt"
      },
      "source": [
        "Desafio 16 - Crie um programa que leia um número real qualquer pelo teclado e mostre na tela a sua porção inteira."
      ]
    },
    {
      "cell_type": "code",
      "execution_count": null,
      "metadata": {
        "colab": {
          "base_uri": "https://localhost:8080/"
        },
        "id": "vvXyoFMLQNnD",
        "outputId": "381b73d0-6e6f-4b70-ec90-1dc0d11420dc"
      },
      "outputs": [
        {
          "name": "stdout",
          "output_type": "stream",
          "text": [
            "Digite um número: 2.749\n",
            "Você digitou o número 2.749, sua porção inteira é 3.\n"
          ]
        }
      ],
      "source": [
        "num = float(input('Digite um número: '))\n",
        "print('Você digitou o número {}, sua porção inteira é {}.'.format(num, ceil(num)))\n",
        "#.format(num, math.ceil(num) outra opção, colocar o nome da biblioteca e função desejada dentro do format, mas a biblioteca e função precisam ser importadas fora do format"
      ]
    },
    {
      "cell_type": "code",
      "execution_count": null,
      "metadata": {
        "colab": {
          "base_uri": "https://localhost:8080/"
        },
        "id": "3vFOIihMYkME",
        "outputId": "4165484d-3cb9-447a-98d0-32d6f7eeca52"
      },
      "outputs": [
        {
          "name": "stdout",
          "output_type": "stream",
          "text": [
            "Digite um número: 2.749\n",
            "Você digitou o número 2.749, sua porção inteira é: 2.\n"
          ]
        }
      ],
      "source": [
        "num = float(input('Digite um número: '))\n",
        "print('Você digitou o número {}, sua porção inteira é: {}.'.format(num, int(num)))\n",
        "#usei o 'int' do próprio Python, ele exclui os números dpois da vírgula. Não precisa importar nenhuma biblioteca"
      ]
    },
    {
      "cell_type": "markdown",
      "metadata": {
        "id": "rQ49T7huT46k"
      },
      "source": [
        "Desafio 17 - Faça um programa que leia o comprimento do catetos oposto e do catetos adjacente de um triângulo retângulo, calcule e mostre o comprimento da hipotenusa."
      ]
    },
    {
      "cell_type": "code",
      "execution_count": null,
      "metadata": {
        "colab": {
          "base_uri": "https://localhost:8080/"
        },
        "id": "7Z8ndUS9bRv6",
        "outputId": "1cc7b3c8-4071-48e6-f528-1b83982972c9"
      },
      "outputs": [
        {
          "name": "stdout",
          "output_type": "stream",
          "text": [
            "Digite o valor do cateto oposto 2\n",
            "Digite o valor do cateto adjacente 2.5\n",
            "O valor do cateto oposto é 2.00, o valor do cateto adjacente é 2.50, portanto o valor da hipotenusa é 3.20.\n"
          ]
        }
      ],
      "source": [
        "cat_o = float(input('Digite o valor do cateto oposto '))\n",
        "cat_a = float(input('Digite o valor do cateto adjacente '))\n",
        "print('O valor do cateto oposto é {:.2f}, o valor do cateto adjacente é {:.2f}, portanto o valor da hipotenusa é {:.2f}.'.format(cat_o, cat_a, ((cat_o**2)+(cat_a**2))**0.5))\n",
        "#nessa opção não impotei nenhuma funcionalidade"
      ]
    },
    {
      "cell_type": "code",
      "execution_count": null,
      "metadata": {
        "colab": {
          "base_uri": "https://localhost:8080/"
        },
        "id": "GMqKbjJygu6n",
        "outputId": "e2c25f37-ea9d-4dbe-ffb5-ab0b63fdc577"
      },
      "outputs": [
        {
          "name": "stdout",
          "output_type": "stream",
          "text": [
            "Digite o valor do cateto oposto 2\n",
            "Digite o valor do cateto adjacente 2.5\n",
            "O valor do cateto oposto é 2.00, o valor do cateto adjacente é 2.50, portanto o valor da hipotenusa é 3.20.\n"
          ]
        }
      ],
      "source": [
        "from math import hypot\n",
        "cat_o = float(input('Digite o valor do cateto oposto '))\n",
        "cat_a = float(input('Digite o valor do cateto adjacente '))\n",
        "print('O valor do cateto oposto é {:.2f}, o valor do cateto adjacente é {:.2f}, portanto o valor da hipotenusa é {:.2f}.'.format(cat_o, cat_a, math.hypot(cat_o, cat_a)))\n",
        "#nessa opção usei a funcionalidade 'hypot', específica para calcular hipotenusa dentro da biblioteca 'math'"
      ]
    },
    {
      "cell_type": "markdown",
      "metadata": {
        "id": "B7CyWXbUUSfC"
      },
      "source": [
        "Desafio 18 - Faça um programa que leia um ângulo qualquer e mostre na tela o valor do seno, cosseno e tangente desse ângulo."
      ]
    },
    {
      "cell_type": "code",
      "execution_count": null,
      "metadata": {
        "colab": {
          "base_uri": "https://localhost:8080/"
        },
        "id": "a0T4eITLivTd",
        "outputId": "fe52a920-b98a-49b0-8fed-dd8a1830e9fb"
      },
      "outputs": [
        {
          "name": "stdout",
          "output_type": "stream",
          "text": [
            "Digite o ângulo que deseja calcular 30\n",
            "Se o ângulo é 30.00, então: \n",
            "o valor do seno é 0.50, \n",
            "o valor do cosseno é 0.87 \n",
            "e o valor tangente é 0.58.\n"
          ]
        }
      ],
      "source": [
        "import math\n",
        "ang = int(input('Digite o ângulo que deseja calcular '))\n",
        "seno = math.sin(math.radians(ang)) #precisa passar o grau para radianos, é possível duas funcionalidades seguida, precisa incluir a variavel que deseja calcular\n",
        "coss = math.cos(math.radians(ang))\n",
        "tan = math.tan(math.radians(ang))\n",
        "print('Se o ângulo é {:.2f}, então: \\no valor do seno é {:.2f}, \\no valor do cosseno é {:.2f} \\ne o valor tangente é {:.2f}.'.format(ang, seno, coss, tan))"
      ]
    },
    {
      "cell_type": "markdown",
      "metadata": {
        "id": "QV0Db0C3UuOG"
      },
      "source": [
        "Desafio 19 - Um professor quer sortear um dos seus quatros alunos para apagar o quadro. Faça um programa que o ajude, lendo o nome deles e escrevendo o nome do escolhido"
      ]
    },
    {
      "cell_type": "code",
      "execution_count": null,
      "metadata": {
        "colab": {
          "base_uri": "https://localhost:8080/"
        },
        "id": "dLWsnKeNoKTX",
        "outputId": "68c34da1-f173-4333-89fb-b36e55386fa0"
      },
      "outputs": [
        {
          "name": "stdout",
          "output_type": "stream",
          "text": [
            "Primeiro aluno: Camila\n",
            "Segundo aluno: Jéssica\n",
            "Terceiro aluno: André\n",
            "Quarto aluno: Pedro\n",
            "O aluno escolhido foi André.\n"
          ]
        }
      ],
      "source": [
        "from random import choice\n",
        "n1 = input('Primeiro aluno: ')\n",
        "n2 = input('Segundo aluno: ')\n",
        "n3 = input('Terceiro aluno: ')\n",
        "n4 = input('Quarto aluno: ')\n",
        "lista = [n1, n2, n3, n4]\n",
        "escolhido = choice(lista) #essa função faz um sorteio na lista\n",
        "print('O aluno escolhido foi {}.'.format(escolhido))"
      ]
    },
    {
      "cell_type": "markdown",
      "metadata": {
        "id": "L9PTb-dfVoFn"
      },
      "source": [
        "Desafio 20 - O mesmo professor do desafio anterior quer sortear a ordem de apresentação de trabalho dos alunos. Faça um programa que leia o nome dos quatro alunos e mostre a ordem sorteada."
      ]
    },
    {
      "cell_type": "code",
      "execution_count": null,
      "metadata": {
        "colab": {
          "base_uri": "https://localhost:8080/"
        },
        "id": "3D_kpXYLxE8f",
        "outputId": "fa8868fe-0dda-4f5e-be20-64076d5ce567"
      },
      "outputs": [
        {
          "name": "stdout",
          "output_type": "stream",
          "text": [
            "Primeiro aluno: Amanda\n",
            "Segundo aluno: Beatriz\n",
            "Terceiro aluno: Juliana\n",
            "Quarto aluno: Carol\n",
            "A ordem de apresentação será:\n",
            "['Carol', 'Beatriz', 'Amanda', 'Juliana']\n"
          ]
        }
      ],
      "source": [
        "from random import shuffle\n",
        "n1 = input('Primeiro aluno: ')\n",
        "n2 = input('Segundo aluno: ')\n",
        "n3 = input('Terceiro aluno: ')\n",
        "n4 = input('Quarto aluno: ')\n",
        "lista = [n1, n2, n3, n4]\n",
        "shuffle(lista)\n",
        "print('A ordem de apresentação será:')\n",
        "print(lista)"
      ]
    },
    {
      "cell_type": "markdown",
      "metadata": {
        "id": "Yyo4pd2g8sga"
      },
      "source": [
        "###Aula 9 - Manipulando strings"
      ]
    },
    {
      "cell_type": "code",
      "execution_count": 48,
      "metadata": {
        "colab": {
          "base_uri": "https://localhost:8080/"
        },
        "id": "kJdOfSDIAVno",
        "outputId": "0af7758b-6c4f-45b7-c0f0-979f4c509e46"
      },
      "outputs": [
        {
          "output_type": "stream",
          "name": "stdout",
          "text": [
            "V\n",
            "Vídeo\n",
            "Curso\n",
            "Vídeo Python\n",
            "Python\n",
            "oe íe yhn\n",
            "VePh\n"
          ]
        }
      ],
      "source": [
        "#Fatiamento de strings começa em 0\n",
        "#ex.: Curso em Vídeo Python = C0 u1 r2 s3 o4 5 e6 m7 8 V9 í10 d11 e12 o13 14 P15 y16 t17 h18 o19 n20\n",
        "frase = 'Curso em Vídeo Python'\n",
        "print(frase[9]) #para pegar a 9ª letra\n",
        "print(frase[9:14]) #para pegar da 9ª letra até a 13ª, a 14ª identifica mas não seleciona\n",
        "print(frase[:5]) #qnd não tem número definindo o início, então ele começa do 0\n",
        "print(frase[9:21]) #identifica que não há nada no 22, mas seleciona o 20\n",
        "print(frase[15:]) #começa na 15ª letra e vai até a última letra\n",
        "print(frase[4:21:2]) #começa na 4ª letra, para na 20ª e pula de 2 em 2\n",
        "print(frase[9::3]) #começa na 9ª letra, vai até o final e pula de 3 em 3"
      ]
    },
    {
      "cell_type": "code",
      "execution_count": 51,
      "metadata": {
        "colab": {
          "base_uri": "https://localhost:8080/",
          "height": 35
        },
        "id": "Z029aUQpECMh",
        "outputId": "525af955-7469-4e6b-c0b0-59fdfe9d8736"
      },
      "outputs": [
        {
          "output_type": "execute_result",
          "data": {
            "text/plain": [
              "'Curso em Vídeo Android'"
            ],
            "application/vnd.google.colaboratory.intrinsic+json": {
              "type": "string"
            }
          },
          "metadata": {},
          "execution_count": 51
        }
      ],
      "source": [
        "#Análise de strings\n",
        "frase = 'Curso em Vídeo Python'\n",
        "len(frase) #mostra qnts caracteres tem a string\n",
        "frase.count('o') #mostra qnts vezes aparece a letra o (mínúscula) na strings\n",
        "frase.count('o', 0, 13) #mesma função da anterior, mas entre as letras 0 e 12 da string\n",
        "frase.find('deo') #find = encontrar, onde está a palavra indicada\n",
        "frase.find('Android') #retorna -1 qnd não encontra a palavra indicada\n",
        "'Curso' in frase #para localizar a palavra na string\n",
        "frase.replace('Python', 'Android') #susbstitui a primeira a palavra pela segunda\n",
        "\n",
        "#acrescentar o print para imprimir"
      ]
    },
    {
      "cell_type": "code",
      "execution_count": null,
      "metadata": {
        "id": "lr-13jp2HD1K"
      },
      "outputs": [],
      "source": [
        "frase.upper() #tornar maiúsculo, precisa dos parênteses no final\n",
        "frase.lower() #tornar minúsculo\n",
        "frase.capitalize() #deixa apenas a primeira letra maiúcula, tdas as outras minúsculas\n",
        "frase.title() #a 1ª letra de palavra em maiúsculo\n",
        "frase.strip() #remove espaços inúteis no início ou final de uma string\n",
        "frase.rstrip() #remove espaços inúteis no final de uma string\n",
        "frase.lstrip() ##remove espaços inúteis no início de uma string\n",
        "\n",
        "#divisão de string\n",
        "print(frase.split()) #gera uma lista com tds as palavras de uma string\n",
        "print('_'.join(frase)) #para acrescentar _ entre as letras\n",
        "\n",
        "#em tds essas funções apresentadas, faz a alteração mas não salva, para salvar precisa da atribuição, ex:\n",
        "frase = frase.replace('Python', 'Android')"
      ]
    },
    {
      "cell_type": "code",
      "execution_count": null,
      "metadata": {
        "colab": {
          "base_uri": "https://localhost:8080/"
        },
        "id": "JSYqAq-DImOE",
        "outputId": "4f4d5e0c-62f8-4e97-ceca-ecc62f74c48f"
      },
      "outputs": [
        {
          "name": "stdout",
          "output_type": "stream",
          "text": [
            "9\n"
          ]
        }
      ],
      "source": [
        "print(frase.lower().find('vídeo')) #lower torna a frase minúscula, find encontra a posição. Na frase original 'vídeo' está com V maiúsculo"
      ]
    },
    {
      "cell_type": "markdown",
      "metadata": {
        "id": "1QtNRbk4xYwc"
      },
      "source": [
        "Desafio 21 - Crie um programa que leia o nome completo de uma pessoa e mostre:\n",
        "\n",
        "- O nome com todas as letras maiúsculas;\n",
        "\n",
        "- O nome com todas as letras minúsculas;\n",
        "\n",
        "- Quantas letras ao todo sem considerar espaços;\n",
        "\n",
        "- Quantas letras tem o primeiro nome."
      ]
    },
    {
      "cell_type": "code",
      "execution_count": null,
      "metadata": {
        "colab": {
          "base_uri": "https://localhost:8080/"
        },
        "id": "q3_H4m0LMwCJ",
        "outputId": "43419cb9-a163-4d4b-a267-8b90576c8b2d"
      },
      "outputs": [
        {
          "name": "stdout",
          "output_type": "stream",
          "text": [
            "Digite seu nome completo Camila Mattos de Albuquerque\n",
            "CAMILA MATTOS DE ALBUQUERQUE\n",
            "camila mattos de albuquerque\n",
            "Seu nome tem 25 letras.\n",
            "Seu primeiro nome tem 6.\n",
            "Seu primeiro nome é Camila e ele tem 6 letras.\n"
          ]
        }
      ],
      "source": [
        "nome = str(input('Digite seu nome completo ')).strip() #função stirp p/ eliminar espaços antes e após o nome\n",
        "print(nome.upper())\n",
        "print(nome.lower())\n",
        "print('Seu nome tem {} letras.'.format(len(nome) - nome.count(' ')))\n",
        "#nome = nome.replace(' ', '') outra opção p eliminar os espaços estre as palavras, precisa atiribuir p imprimir corretamente\n",
        "print('Seu primeiro nome tem {}.'.format(nome.find(' '))) #pesquisar dentro do nome o primeiro espaço, assim ele conta qnts letras tem\n",
        "\n",
        "#outra opção para contar as letras do primeiro nome:\n",
        "separa = nome.split()\n",
        "print('Seu primeiro nome é {} e ele tem {} letras.'.format(separa[0], len(separa[0])))"
      ]
    },
    {
      "cell_type": "markdown",
      "metadata": {
        "id": "m_RtsWYJMl3A"
      },
      "source": [
        "Desafio 22 - Faça um programa que leia um número de 0 a 9999 e mostre na tela cada um dos dígitos separados.\n",
        "Ex.: Digite um número: 1834\n",
        "- Unidade 4\n",
        "- Dezena 3\n",
        "- Centena 8\n",
        "- Milhar 1"
      ]
    },
    {
      "cell_type": "code",
      "execution_count": null,
      "metadata": {
        "colab": {
          "base_uri": "https://localhost:8080/"
        },
        "id": "KDjaZXOrOaSy",
        "outputId": "ce21a209-ffd2-41b0-b637-19817273acec"
      },
      "outputs": [
        {
          "name": "stdout",
          "output_type": "stream",
          "text": [
            "Digite um número de 0 a 9999: 5412\n",
            "Você digitiou o número: 5412\n",
            "Unidade 2 \n",
            "Dezena 1 \n",
            "Centena 4 \n",
            "Milhar 5\n"
          ]
        }
      ],
      "source": [
        "num = int(input('Digite um número de 0 a 9999: '))\n",
        "#split não funciona\n",
        "u = num // 1 % 10\n",
        "d = num // 10 % 10\n",
        "c = num // 100 % 10\n",
        "m = num // 1000 % 10\n",
        "print('Você digitiou o número: {}\\nUnidade {} \\nDezena {} \\nCentena {} \\nMilhar {}'.format(num, u, d, c, m))"
      ]
    },
    {
      "cell_type": "markdown",
      "metadata": {
        "id": "MWt4zMn9xdRy"
      },
      "source": [
        "Desafio 23 - Crie uma programa que leia o nome de uma cidade e diga se ela começa ou não com o nome 'Santo'."
      ]
    },
    {
      "cell_type": "code",
      "execution_count": null,
      "metadata": {
        "colab": {
          "base_uri": "https://localhost:8080/"
        },
        "id": "YzygxUXyRNYL",
        "outputId": "29dce886-9b50-4d83-b73a-ddf2da811f0c"
      },
      "outputs": [
        {
          "name": "stdout",
          "output_type": "stream",
          "text": [
            "Digite o nome de uma cidade: Santo Amaro\n",
            "True\n"
          ]
        }
      ],
      "source": [
        "cid = str(input('Digite o nome de uma cidade: ')).strip()\n",
        "print(cid[:5].upper() == 'SANTO')"
      ]
    },
    {
      "cell_type": "markdown",
      "metadata": {
        "id": "eCmSe1VrMola"
      },
      "source": [
        "Desafio 24 - Crie um programa que leia o nome de uma pessoa e dia se tem 'Silva' no nome."
      ]
    },
    {
      "cell_type": "code",
      "execution_count": null,
      "metadata": {
        "colab": {
          "base_uri": "https://localhost:8080/"
        },
        "id": "4hxHnOWRbp1I",
        "outputId": "991a1f6f-0b54-478a-edc9-f5e7e5688a53"
      },
      "outputs": [
        {
          "name": "stdout",
          "output_type": "stream",
          "text": [
            "Digite seu nome completo: Camila Mattos de Albuquerque Silva\n",
            "Seu nome tem Silva? True\n"
          ]
        }
      ],
      "source": [
        "nome = str(input('Digite seu nome completo: ')).strip()\n",
        "print('Seu nome tem Silva? {}'.format('silva' in nome.lower())) #p/ o Python conseguir localizar, silva no format precisa estar minúsculo no lower ou td maiúsculo no upper"
      ]
    },
    {
      "cell_type": "markdown",
      "metadata": {
        "id": "GJMNiqkdMrYv"
      },
      "source": [
        "Desafio 25 - Faça um programa que leia uma frase pelo teclado e mostre:\n",
        "\n",
        "- Quantas vezes aparece a letra 'A';\n",
        "- Em que posição ela aparece a primeira vez;\n",
        "- Em que posição ela aparece a última vez."
      ]
    },
    {
      "cell_type": "code",
      "execution_count": null,
      "metadata": {
        "colab": {
          "base_uri": "https://localhost:8080/"
        },
        "id": "GyssfifD_UFU",
        "outputId": "dc30a992-0d06-4fa0-8019-d3d7a6217f16"
      },
      "outputs": [
        {
          "name": "stdout",
          "output_type": "stream",
          "text": [
            "Digite uma frase: Celebrar como se amanhã o mundo fosse acabar! Tanta coisa boa a vida tem pra te dar. O pensamento leve faz a gente mudar!\n",
            "A primeira letra A aparece na posição 18.\n",
            "A primeira letra A aparece na posição 7.\n",
            "A primeira letra A aparece na posição 119.\n"
          ]
        }
      ],
      "source": [
        "frase = str(input('Digite uma frase: ')).strip().upper() #passar td a frase p/ maiúsculo e evitar erros\n",
        "print('A primeira letra A aparece na posição {}.'.format(frase.count('A')))\n",
        "print('A primeira letra A aparece na posição {}.'.format(frase.find('A')+1)) #p/ o python a 1ª posição é 0, p/ não ficar estranho p/ o usuário adicionei 1.\n",
        "print('A primeira letra A aparece na posição {}.'.format(frase.rfind('A')+1)) #rfind = r (right - lado direito) (find - procurar)"
      ]
    },
    {
      "cell_type": "markdown",
      "metadata": {
        "id": "MPCcK-EVMtHI"
      },
      "source": [
        "Desafio 26 - Faça um programa que leia o nome completo de uma pessoa, mostrando em seguida o primeiro e o último nome separadamente."
      ]
    },
    {
      "cell_type": "code",
      "execution_count": null,
      "metadata": {
        "colab": {
          "base_uri": "https://localhost:8080/"
        },
        "id": "dPBYUBCNaddx",
        "outputId": "29a1a69a-2987-48a0-91ef-aac78756cf18"
      },
      "outputs": [
        {
          "name": "stdout",
          "output_type": "stream",
          "text": [
            "Digite seu nome completo Camila Mattos de Albuquerque Silva\n",
            "Seu primeiro nome é CAMILA.\n",
            "Seu último nome é SILVA.\n"
          ]
        }
      ],
      "source": [
        "nome_comp = str(input('Digite seu nome completo ')).upper().strip()\n",
        "nome_comp = nome_comp.split()\n",
        "print('Seu primeiro nome é {}.'.format(nome_comp[0]))\n",
        "print('Seu último nome é {}.'.format(nome_comp[len(nome_comp)-1])) #len para contar qnts nomes tem, -1 p/ encontrar o último"
      ]
    },
    {
      "cell_type": "markdown",
      "metadata": {
        "id": "ydZ-nBqueVqg"
      },
      "source": [
        "###Aula 10 - If e Else"
      ]
    },
    {
      "cell_type": "code",
      "execution_count": null,
      "metadata": {
        "id": "_2xnWYLNhUBq"
      },
      "outputs": [],
      "source": [
        "#estrutura do if e else\n",
        "if condicional():\n",
        "  bloco True #se a condicional for verdadeira execute este bloco\n",
        "else condicional():\n",
        "  bloco False #se a 1ª condicional não for verdadeira, execute este bloco"
      ]
    },
    {
      "cell_type": "code",
      "execution_count": null,
      "metadata": {
        "colab": {
          "base_uri": "https://localhost:8080/"
        },
        "id": "kd0x-pOvOJ03",
        "outputId": "f64ecbf8-13dd-431d-afad-f3d3ee2988b8"
      },
      "outputs": [
        {
          "name": "stdout",
          "output_type": "stream",
          "text": [
            "Quantos anos tem seu carro? 2\n",
            "Carro novo\n"
          ]
        }
      ],
      "source": [
        "tempo = int(input('Quantos anos tem seu carro? '))\n",
        "if tempo <=3: #se tempo for menor ou igual a 3, execute:\n",
        "  print('Carro novo')\n",
        "else: #senão, execute:\n",
        "  print('Carro velho')\n",
        "#td comando fora da identação será executado independente se a condicional for if ou else"
      ]
    },
    {
      "cell_type": "code",
      "execution_count": null,
      "metadata": {
        "colab": {
          "base_uri": "https://localhost:8080/"
        },
        "id": "_68BIF11DqRN",
        "outputId": "a1bd9e71-0c1b-41b6-dd8c-dde0c47cb69c"
      },
      "outputs": [
        {
          "name": "stdout",
          "output_type": "stream",
          "text": [
            "Quantos anos tem seu carro? 8\n",
            "Carro velho\n"
          ]
        }
      ],
      "source": [
        "#condição simplicada\n",
        "tempo = int(input('Quantos anos tem seu carro? '))\n",
        "print('Carro novo' if tempo <=3 else'Carro velho')"
      ]
    },
    {
      "cell_type": "code",
      "execution_count": null,
      "metadata": {
        "colab": {
          "base_uri": "https://localhost:8080/"
        },
        "id": "HojMRyxEJ2z7",
        "outputId": "c5d7d172-44f1-4246-ab6d-62b89ccfb6e9"
      },
      "outputs": [
        {
          "name": "stdout",
          "output_type": "stream",
          "text": [
            "Digite a primeira nota: 5.75\n",
            "Digite a segunda nota: 9\n",
            "A sua nota foi 7.38.\n",
            "A sua nota foi boa. Parabéns!\n"
          ]
        }
      ],
      "source": [
        "n1 = float(input('Digite a primeira nota: '))\n",
        "n2 = float(input('Digite a segunda nota: '))\n",
        "m = (n1 + n2)/2\n",
        "print('A sua nota foi {:.2f}.'.format(m))\n",
        "if m <= 6.0:\n",
        "  print('A sua nota foi média. Estude mais!')\n",
        "else:\n",
        "  print('A sua nota foi boa. Parabéns!')"
      ]
    },
    {
      "cell_type": "code",
      "execution_count": null,
      "metadata": {
        "colab": {
          "base_uri": "https://localhost:8080/"
        },
        "id": "9maQKGH5T-KV",
        "outputId": "aeaa93df-e10b-4069-faa4-8d0a382b11dc"
      },
      "outputs": [
        {
          "name": "stdout",
          "output_type": "stream",
          "text": [
            "Digite a primeira nota: 8\n",
            "Digite a segunda nota: 7\n",
            "A sua nota foi 7.50 média.\n"
          ]
        }
      ],
      "source": [
        "#opção mais simples\n",
        "n1 = float(input('Digite a primeira nota: '))\n",
        "n2 = float(input('Digite a segunda nota: '))\n",
        "m = (n1 + n2)/2\n",
        "#if m <= 7:\n",
        "print('A sua nota foi {:.2f} Estude mais!'.format(m))\n",
        "#else:\n",
        " # print('A sua nota foi {:.2f}. Parabéns!'.format(m))"
      ]
    },
    {
      "cell_type": "markdown",
      "metadata": {
        "id": "YcvHm_c6Tk5K"
      },
      "source": [
        "Desafio 27 - Escreva um programa que faça o computador “pensar” em um número inteiro entre 0 e 5 e peça para o usuário tentar descobrir qual foi o número escolhido pelo computador. O programa deverá escrever na tela se o usuário venceu ou perdeu."
      ]
    },
    {
      "cell_type": "code",
      "execution_count": null,
      "metadata": {
        "colab": {
          "base_uri": "https://localhost:8080/"
        },
        "id": "Z7dZL1ibym0t",
        "outputId": "eba4c035-056f-420a-913c-eec6f455e2dd"
      },
      "outputs": [
        {
          "name": "stdout",
          "output_type": "stream",
          "text": [
            "5\n"
          ]
        }
      ],
      "source": [
        "from random import randint\n",
        "\n",
        "numero_aleatorio = randint(1, 5)\n",
        "print(numero_aleatorio)"
      ]
    },
    {
      "cell_type": "code",
      "execution_count": null,
      "metadata": {
        "colab": {
          "base_uri": "https://localhost:8080/"
        },
        "id": "7RqNWzrorOea",
        "outputId": "a54d8374-0ac7-456b-f0bf-02ebedee969d"
      },
      "outputs": [
        {
          "output_type": "stream",
          "name": "stdout",
          "text": [
            "Em qual número eu pensei? Escolha um número entre 0 e 5: 5\n",
            " \n",
            "Processando...\n",
            " \n",
            "Parabéns! Você venceu!!\n"
          ]
        }
      ],
      "source": [
        "from random import randint\n",
        "from time import sleep #função para fazer o computador 'dormir' por alguns segundos\n",
        "num_ale = randint(0, 5) #como importei a função específica, não preciso colocar o nome da biblioteca\n",
        "num2 = int(input('Em qual número eu pensei? Escolha um número entre 0 e 5: '))\n",
        "#print('Eu escolhi o {}.'.format(num_ale))\n",
        "print(' ')\n",
        "print('Processando...')\n",
        "print(' ')\n",
        "sleep(2) #função dormir por 2 segundos\n",
        "if num_ale == num2:\n",
        "  print('Parabéns! Você venceu!!')\n",
        "else:\n",
        "  print('GANHEI! Pensei no número {} e não no número {}. Você perdeu!'.format(num_ale, num2))"
      ]
    },
    {
      "cell_type": "markdown",
      "metadata": {
        "id": "5lq0ii5fbtmH"
      },
      "source": [
        "Desafio 28 - Escreva um programa que leia a velocidade de um carro.\n",
        "\n",
        "- Se ele ultrapassar 80km/h, mostre uma mensagem dizendo que ele foi multado.\n",
        "\n",
        "- A multa vai custar 7 reais por cada km acima do limite."
      ]
    },
    {
      "cell_type": "code",
      "execution_count": null,
      "metadata": {
        "id": "v6zpudlm2nMf",
        "colab": {
          "base_uri": "https://localhost:8080/"
        },
        "outputId": "c4ddf393-ee41-451c-bb54-5494f28ff953"
      },
      "outputs": [
        {
          "output_type": "stream",
          "name": "stdout",
          "text": [
            "Qual a velocidade do seu carro? 100\n",
            " \n",
            "Você excedeu o limite de velocidade e recebeu uma multa no valor de R$ 140.00 reais.\n"
          ]
        }
      ],
      "source": [
        "veloc = int(input('Qual a velocidade do seu carro? '))\n",
        "print(' ')\n",
        "if veloc > 80:\n",
        "  multa = (veloc - 80) * 7\n",
        "  print('Você excedeu o limite de velocidade e recebeu uma multa no valor de R$ {:.2f} reais.'.format(multa))\n",
        "else:\n",
        "  print('Você está dentro do limite de velocidade permitido.')"
      ]
    },
    {
      "cell_type": "markdown",
      "metadata": {
        "id": "CcRGtX4kcaRo"
      },
      "source": [
        "Desafio 29 - Crie um programa que leia um número inteiro e mostre na tela se ele é PAR ou ÍMPAR."
      ]
    },
    {
      "cell_type": "code",
      "execution_count": null,
      "metadata": {
        "colab": {
          "base_uri": "https://localhost:8080/"
        },
        "id": "qu41LocX6pbK",
        "outputId": "6e70db46-625e-47bf-d69b-fd811ee468a4"
      },
      "outputs": [
        {
          "output_type": "stream",
          "name": "stdout",
          "text": [
            "Digite um número: 175\n",
            " \n",
            "É um número ímpar.\n"
          ]
        }
      ],
      "source": [
        "num = int(input('Digite um número: '))\n",
        "print(' ')\n",
        "if num % 2 == 0:\n",
        "  print('É um número par.')\n",
        "else:\n",
        "  print('É um número ímpar.')"
      ]
    },
    {
      "cell_type": "markdown",
      "metadata": {
        "id": "QTmrrp9rPH7J"
      },
      "source": [
        "Desafio 30 - Desenvolva um programa que pergunte a distância de uma viagem em Km. Calcule o preço da passagem, cobrando:\n",
        "\n",
        "- R$ 0,50 por Km para viagens de até 200Km;\n",
        "\n",
        "- R$ 0,45 para viagens mais longas."
      ]
    },
    {
      "cell_type": "code",
      "execution_count": null,
      "metadata": {
        "colab": {
          "base_uri": "https://localhost:8080/"
        },
        "id": "WnVlkmeJ8lkE",
        "outputId": "06f2f1a5-4428-4a51-ecd5-2814bb155a7f"
      },
      "outputs": [
        {
          "name": "stdout",
          "output_type": "stream",
          "text": [
            " Qual a distância da sua viagem? 420\n",
            "----------------------------------------------\n",
            " O valor total da viagem são R$ 189.00 reais.\n"
          ]
        }
      ],
      "source": [
        "viagem = int(input(' Qual é a distância da sua viagem? '))\n",
        "print('-'*46)\n",
        "if viagem <= 200:\n",
        "  preco = viagem * 0.50\n",
        "  print(' O valor total da viagem são R$ {:.2f}.'.format(preco))\n",
        "else:\n",
        "  preco2 = viagem * 0.45\n",
        "  print(' O valor total da viagem são R$ {:.2f} reais.'.format(preco2))"
      ]
    },
    {
      "cell_type": "markdown",
      "metadata": {
        "id": "DdKH-HIhPMwY"
      },
      "source": [
        "Desafio 31 - Faça um programa que leia um ano qualquer e mostre se ele é bissexto."
      ]
    },
    {
      "cell_type": "code",
      "execution_count": null,
      "metadata": {
        "colab": {
          "base_uri": "https://localhost:8080/"
        },
        "id": "m7XZ7Tm-DdF8",
        "outputId": "899a152a-520f-44d5-fb35-dfa529ad12b6"
      },
      "outputs": [
        {
          "output_type": "stream",
          "name": "stdout",
          "text": [
            " Digite um ano: 2024\n",
            " \n",
            "2024 é um ano bissexto.\n"
          ]
        }
      ],
      "source": [
        "ano = int(input(' Digite um ano: '))\n",
        "print(' ')\n",
        "if ano % 4 == 0 and ano % 100 != 0 or ano % 400 == 0:\n",
        "  print('{} é um ano bissexto.'.format(ano))\n",
        "else:\n",
        "  print('{} não é um bissexto.'.format(ano))"
      ]
    },
    {
      "cell_type": "markdown",
      "metadata": {
        "id": "Ur_35ayWYSQU"
      },
      "source": [
        "Desafio 32 - Faça um programa que leia três números e mostre qual é o maior e qual é o menor."
      ]
    },
    {
      "cell_type": "code",
      "execution_count": null,
      "metadata": {
        "colab": {
          "base_uri": "https://localhost:8080/"
        },
        "id": "LD-EQheTF1CW",
        "outputId": "b2c64392-8a0d-4439-ca9b-f563fdb6b45e"
      },
      "outputs": [
        {
          "output_type": "stream",
          "name": "stdout",
          "text": [
            "Digite um número: 10\n",
            "Digite outro número: 5\n",
            "Digite outro número: 8\n",
            " \n",
            "10 É o maior número, e 5 é o menor número.\n"
          ]
        }
      ],
      "source": [
        "a = int(input('Digite um número: '))\n",
        "b = int(input('Digite outro número: '))\n",
        "c = int(input('Digite outro número: '))\n",
        "print(' ')\n",
        "menor = a\n",
        "if b < a and b < c:\n",
        "  menor = b\n",
        "  #print('{} É o menor número.')\n",
        "if c < b and c < a:\n",
        "  menor = c\n",
        "\n",
        "maior = a\n",
        "if b > a and b > c:\n",
        "  maior = b\n",
        "if c > a and c > b:\n",
        "  maior = c\n",
        "print('{} É o maior número, e {} é o menor número.'.format(maior, menor))"
      ]
    },
    {
      "cell_type": "markdown",
      "metadata": {
        "id": "C4ZahFd9Ybgt"
      },
      "source": [
        "Desafio 33 - Escreva um programa que pergunte o salário de um funcionário e calcule o valor do seu aumento. Para salários superiores a R$1250,00, calcule um aumento de 10%. Para os inferiores ou iguais, o aumento é de 15%."
      ]
    },
    {
      "cell_type": "code",
      "execution_count": null,
      "metadata": {
        "colab": {
          "base_uri": "https://localhost:8080/"
        },
        "id": "Ikdm6n1tJw5_",
        "outputId": "01ee8d93-cf0f-4c50-d97f-52c5daa93d58"
      },
      "outputs": [
        {
          "output_type": "stream",
          "name": "stdout",
          "text": [
            "Digite seu salário: R$ 2500\n",
            " \n",
            "Seu salário terá aumento de 10% e será reajustado para R$ 2750.00 reais.\n"
          ]
        }
      ],
      "source": [
        "salário = float(input('Digite seu salário: R$ '))\n",
        "print(' ')\n",
        "if salário <= 1250:\n",
        "  salário15 = salário * 1.15\n",
        "  print('Seu salário terá aumento de 15% e será reajustado para R$ {:.2f} reais.'.format(salário15))\n",
        "else:\n",
        "  salário10 = salário * 1.1\n",
        "  print('Seu salário terá aumento de 10% e será reajustado para R$ {:.2f} reais.'.format(salário10))"
      ]
    },
    {
      "cell_type": "markdown",
      "metadata": {
        "id": "FU-HEaq9Ygt9"
      },
      "source": [
        "Desafio 34 - Desenvolva um programa que leia o comprimento de três retas e diga ao usuário se elas podem ou não formar um triângulo."
      ]
    },
    {
      "cell_type": "code",
      "source": [
        "print('-'*25)\n",
        "print('Analisador de triângulos')\n",
        "print('-'*25)\n",
        "r1 = float(input('Primeiro segmento: '))\n",
        "r2 = float(input('Segundo segmento: '))\n",
        "r3 = float(input('Terceiro segmento: '))\n",
        "print('-'*49)\n",
        "if r1 < r2 + r3 and r2 < r1 + r3 and r3 < r1 + r2:\n",
        "  print('Os segmentos acima podem formar um triângulo.')\n",
        "else:\n",
        "  print('Os segmentos acima não podem formar um triângulo.')"
      ],
      "metadata": {
        "id": "oin08vw6SRU_",
        "colab": {
          "base_uri": "https://localhost:8080/"
        },
        "outputId": "a19709be-3d7e-4377-d111-a3da49da44f6"
      },
      "execution_count": null,
      "outputs": [
        {
          "output_type": "stream",
          "name": "stdout",
          "text": [
            "-------------------------\n",
            "Analisador de triângulos\n",
            "-------------------------\n",
            "Primeiro segmento: 1\n",
            "Segundo segmento: 3\n",
            "Terceiro segmento: 7\n",
            "-------------------------------------------------\n",
            "Os segmentos acima não podem formar um triângulo.\n"
          ]
        }
      ]
    },
    {
      "cell_type": "markdown",
      "source": [
        "##Aula 11 - Como trabalhar com cores no Python"
      ],
      "metadata": {
        "id": "kKZgoouhWgU6"
      }
    },
    {
      "cell_type": "code",
      "source": [
        "#Para trabalhar com cores em Ptyhon sempre comece com \\033[style, texto, back m\n",
        "#\\033[0:33:44m\\033 = \\033 esse código ao final deixa os padrões apenas naquele trecho\n",
        "#Style = 0 sem estilo, 1 bold (negrito),4 underline(sublinhado), 7 negative (inverte os códigos)\n",
        "#Cores = 30 branco, 31 vermelho, 32 verde, 33 amarelo, 34 azul, 35 roxo, 36 azul piscina, 37 cinza\n",
        "#Back = 40 branco, 41 vermelho, 42 verde, 43 amarelo, 44 azul, 45 roxo, 46 azul piscina, 47 cinza\n",
        "#\\033[m configuração padrão, fundo preto e letra cinza\n",
        "#\\033[:33m para imprimir fundo preto\n",
        "print(\"\\033[33:44m Olá, mundo!\")"
      ],
      "metadata": {
        "colab": {
          "base_uri": "https://localhost:8080/"
        },
        "id": "cZaddsY0XO54",
        "outputId": "74cc28aa-0fd0-4fbd-be37-4862bd020441"
      },
      "execution_count": 37,
      "outputs": [
        {
          "output_type": "stream",
          "name": "stdout",
          "text": [
            "\u001b[33:44m Olá, mundo!\n"
          ]
        }
      ]
    },
    {
      "cell_type": "code",
      "source": [
        "#Precisa usar as aspas duplas na hora do print. assim:\n",
        "\n",
        "nome = input('Digite seu nome: ')\n",
        "\n",
        "cor = {'limpa':'\\033[m', 'azul':'\\033[34m', 'vermelho':'\\033[31m'}\n",
        "\n",
        "print (f'Seja bem vinda!!, {cor[\"azul\"]}{nome}{cor[\"limpa\"]}!!!')"
      ],
      "metadata": {
        "colab": {
          "base_uri": "https://localhost:8080/"
        },
        "id": "1k7Xr5GedpJ-",
        "outputId": "f7ba95d7-5e3c-4389-dd9d-f284c8c122f2"
      },
      "execution_count": 36,
      "outputs": [
        {
          "output_type": "stream",
          "name": "stdout",
          "text": [
            "Digite seu nome: Fernanda\n",
            "Seja bem vinda!!, \u001b[34mFernanda\u001b[m!!!\n"
          ]
        }
      ]
    }
  ],
  "metadata": {
    "colab": {
      "provenance": [],
      "toc_visible": true,
      "authorship_tag": "ABX9TyOVXMRgVZkZfr2yVXY8D/il",
      "include_colab_link": true
    },
    "kernelspec": {
      "display_name": "Python 3",
      "name": "python3"
    },
    "language_info": {
      "name": "python"
    }
  },
  "nbformat": 4,
  "nbformat_minor": 0
}