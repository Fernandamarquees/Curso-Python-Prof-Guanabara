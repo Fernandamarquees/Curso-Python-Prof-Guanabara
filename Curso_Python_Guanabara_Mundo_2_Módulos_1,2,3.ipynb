{
  "nbformat": 4,
  "nbformat_minor": 0,
  "metadata": {
    "colab": {
      "provenance": [],
      "authorship_tag": "ABX9TyPEgKeboH9fDU6pmVboYhTW",
      "include_colab_link": true
    },
    "kernelspec": {
      "name": "python3",
      "display_name": "Python 3"
    },
    "language_info": {
      "name": "python"
    }
  },
  "cells": [
    {
      "cell_type": "markdown",
      "metadata": {
        "id": "view-in-github",
        "colab_type": "text"
      },
      "source": [
        "<a href=\"https://colab.research.google.com/github/Fernandamarquees/Curso-Python-Prof-Guanabara/blob/main/Curso_Python_Guanabara_Mundo_2_M%C3%B3dulos_1%2C2%2C3.ipynb\" target=\"_parent\"><img src=\"https://colab.research.google.com/assets/colab-badge.svg\" alt=\"Open In Colab\"/></a>"
      ]
    },
    {
      "cell_type": "markdown",
      "source": [
        "#Curso Python Mundo 2 - Módulos 1, 2 e 3"
      ],
      "metadata": {
        "id": "nqpBgkoyQOaR"
      }
    },
    {
      "cell_type": "markdown",
      "source": [
        "###Aula 12 – Condições Aninhadas"
      ],
      "metadata": {
        "id": "uPKGtW4kQi_5"
      }
    },
    {
      "cell_type": "code",
      "execution_count": null,
      "metadata": {
        "id": "qN4G6IMDP5Lt"
      },
      "outputs": [],
      "source": [
        "#Sempre começar o código com 'if'\n",
        "#Elif e Else são opcionais\n",
        "#Elif = Else + if = senão se\n",
        "#Pode ter alguns IF, muitos Elif e apenas 1 Else (sempre no final, após o if ou elif)"
      ]
    },
    {
      "cell_type": "code",
      "source": [
        "nome = str(input('Qual é seu nome? '))\n",
        "print(' ')\n",
        "if nome == 'Fernanda':\n",
        "  print('Que nome bonito!')\n",
        "elif nome == 'Pedro' or nome == 'Maria' or nome == 'Paulo':\n",
        "  print('Seu nome é popular no Brasil')\n",
        "elif nome in 'Ana Cláudia Jéssica Juliana':\n",
        "  print('Belo nome feminino!')\n",
        "else:\n",
        "  print('Seu nome é bem normal.')\n",
        "print(' ')\n",
        "print('Tenha uma boa dia, {}!'.format(nome)) #estrutura fora da identação, então irá imprimir toda vez"
      ],
      "metadata": {
        "id": "Y97SNAO4jE2E",
        "colab": {
          "base_uri": "https://localhost:8080/"
        },
        "outputId": "7540fe06-dd05-4f13-b1aa-0715492ab0cc"
      },
      "execution_count": null,
      "outputs": [
        {
          "output_type": "stream",
          "name": "stdout",
          "text": [
            "Qual é seu nome? Fernanda\n",
            " \n",
            "Que nome bonito!\n",
            " \n",
            "Tenha uma boa dia, Fernanda!\n"
          ]
        }
      ]
    },
    {
      "cell_type": "markdown",
      "source": [
        "Desafio 35 - Escreva um programa para aprovar o empréstimo bancário para a compra de uma casa. O programa vai perguntar o valor da casa, o salário do comprador e em quantos anos ele vai pagar. Calcule o valor da prestação mensal, sabendo que ela não pode exceder 30% do salário ou então o empréstimo será negado."
      ],
      "metadata": {
        "id": "RyXq_LUlY-bW"
      }
    },
    {
      "cell_type": "code",
      "source": [
        "casa = float(input('Qual o valor do imóvel que deseja comprar? R$ '))\n",
        "meses = int(input('Em quantos meses deseja pagar o seu imóvel? '))\n",
        "salário = float(input('Qual seu salário? R$ '))\n",
        "print(' ')\n",
        "print(' '*10, '*'*5, ' '*10)\n",
        "print(' ')\n",
        "prestação = casa / meses\n",
        "if prestação > salário * 0.3:\n",
        "  print ('A prestação excede 30% do valor do seu salário.\\nDivida o valor do imóvel em mais meses e poderá adquirir seu imóvel!')\n",
        "else:\n",
        "  print('Parabéns seu empréstimo foi aprovado! Em {} parcelas de R$ {:.2f} reais. Em breve um de nossos consultores entrará em contato.'.format(meses, prestação))\n",
        "print('Agradecemos o seu contato e tenha um bom dia!')\n"
      ],
      "metadata": {
        "id": "327wiNwUho0M",
        "colab": {
          "base_uri": "https://localhost:8080/"
        },
        "outputId": "0ec2e9fb-be06-485d-8492-f14d51736922"
      },
      "execution_count": null,
      "outputs": [
        {
          "output_type": "stream",
          "name": "stdout",
          "text": [
            "Qual o valor do imóvel que deseja comprar? R$ 200000\n",
            "Em quantos meses deseja pagar o seu imóvel? 360\n",
            "Qual seu salário? R$ 1800\n",
            " \n",
            "           *****           \n",
            " \n",
            "A prestação excede 30% do valor do seu salário.\n",
            "Divida o valor do imóvel em mais meses e poderá adquirir seu imóvel!\n",
            "Agradecemos o seu contato e tenha um bom dia!\n"
          ]
        }
      ]
    },
    {
      "cell_type": "markdown",
      "source": [
        "Desafio 36 - Escreva um programa que leia um número inteiro qualquer e peça para o usuário escolher qual será a base de conversão:\n",
        "\n",
        "- 1 para binário\n",
        "- 2 para octal\n",
        "- 3 para hexadecimal"
      ],
      "metadata": {
        "id": "GpRcmfSyZOKE"
      }
    },
    {
      "cell_type": "code",
      "source": [
        "num = int(input('Digite um número inteiro: ')) #o Python tem o convertores automáticos. bin = binário, oct = octal e hex = hexadecimal\n",
        "print('Escolha uma das bases para conversão: ')\n",
        "print('1 para binário\\n2 para octal\\n3 para hexadecimal')\n",
        "opção = int(input('Sua opção é: '))\n",
        "if opção == 1:\n",
        "  print('{} convertido para BINÁRIO é igual a {}.'.format(num, bin(num)[2:])) #[2:] fatiamento de str, p imprimir do 2º dígito em diante\n",
        "\n",
        "elif opção == 2:\n",
        "  print('{} convertido para octal é igual a {}.'.format(num, oct(num)[2:]))\n",
        "\n",
        "elif opção == 3:\n",
        "  print('{} convertido para hexadecimal é igual a {}.'.format(num, hex(num)[2:]))\n",
        "\n",
        "else:\n",
        "  print('Opção inválida.')"
      ],
      "metadata": {
        "colab": {
          "base_uri": "https://localhost:8080/"
        },
        "id": "gcmPbeSFdvOo",
        "outputId": "5162083e-3d6d-454a-f10d-e14da11288aa"
      },
      "execution_count": null,
      "outputs": [
        {
          "output_type": "stream",
          "name": "stdout",
          "text": [
            "Digite um número inteiro: 640\n",
            "Escolha uma das bases para conversão: \n",
            "1 para binário\n",
            "2 para octal\n",
            "3 para hexadecimal\n",
            "Sua opção é: 3\n",
            "640 convertido para hexadecimal é igual a 280.\n"
          ]
        }
      ]
    },
    {
      "cell_type": "markdown",
      "source": [
        "Desafio 37 - Escreva um programa que leia dois números inteiros e compare-os, mostrando na tela uma mensagem:\n",
        "\n",
        "- O primeiro valor é maior\n",
        "- O segundo valor maior é\n",
        "- Não existe valor maior, os dois são iguais"
      ],
      "metadata": {
        "id": "1O1DmjyFZRcE"
      }
    },
    {
      "cell_type": "code",
      "source": [
        "a = int(input('Digite um número: '))\n",
        "b = int(input('Digite outro número: '))\n",
        "print('-'*40)\n",
        "if a > b:\n",
        "  print('O primeiro valor é maior.'.format(a))\n",
        "elif b > a:\n",
        "  print('O segundo valor é maior.'.format(b))\n",
        "elif a == b:\n",
        "  print('Não existe valor maior, os dois são iguais')\n",
        "print('-'*40)\n",
        "print('Obrigada por interagir!')"
      ],
      "metadata": {
        "colab": {
          "base_uri": "https://localhost:8080/"
        },
        "id": "vnCqt63tsD_v",
        "outputId": "db2caca8-b1db-4753-eaaa-cf26992768b4"
      },
      "execution_count": null,
      "outputs": [
        {
          "output_type": "stream",
          "name": "stdout",
          "text": [
            "Digite um número: 10\n",
            "Digite outro número: 10\n",
            "----------------------------------------\n",
            "Não existe valor maior, os dois são iguais\n",
            "----------------------------------------\n",
            "Obrigada por interagir!\n"
          ]
        }
      ]
    },
    {
      "cell_type": "markdown",
      "source": [
        "Desafio 38 - Faça um programa que leia o ano de nascimento de um jovem e informe, de acordo com sua idade:\n",
        "\n",
        "- Se ele ainda vai se alistar ao serviço militar;\n",
        "- Se é hora de se alistar;\n",
        "- Se já passou do tempo do alistamento.\n",
        "\n",
        "Seu programa também deverá mostrar o tempo que falta ou que passou do prazo."
      ],
      "metadata": {
        "id": "1uAArYQ3ZRmk"
      }
    },
    {
      "cell_type": "code",
      "source": [
        "from datetime import date #para importar o ano atual\n",
        "atual = date.today().year #qual o ano de hoje?\n",
        "ano = int(input('Qual ano você nasceu? '))\n",
        "print('-'*40)\n",
        "if ano >= 2007:\n",
        "  print('Você deve se alistar em {} anos.'.format(ano - atual + 18))\n",
        "elif ano == 2006:\n",
        "  print('Você deve se alistar em 1 ano.')\n",
        "elif ano == 2005:\n",
        "  print('Você deve se alistar este ano!')\n",
        "elif ano == 2004:\n",
        "  print('Você deveria ter se alistado há 1 ano.')\n",
        "elif ano <= 2003:\n",
        "  print('Você deveria ter se alistado há {} anos.'.format(atual - ano - 18))\n",
        "print('-'*40)\n",
        "print('Fique em dia com a jústiça brasileira.')"
      ],
      "metadata": {
        "colab": {
          "base_uri": "https://localhost:8080/"
        },
        "id": "p-C1_3EpzMKr",
        "outputId": "e575b30f-2054-402e-867d-5d8cfdd96f61"
      },
      "execution_count": null,
      "outputs": [
        {
          "output_type": "stream",
          "name": "stdout",
          "text": [
            "Qual ano você nasceu? 2003\n",
            "----------------------------------------\n",
            "Você deveria ter se alistado há 2 anos.\n",
            "----------------------------------------\n",
            "Fique em dia com a jústiça brasileira.\n"
          ]
        }
      ]
    },
    {
      "cell_type": "markdown",
      "source": [
        "Desafio 39 - Crie um programa que leia duas notas de aluno e calcule a média, mostrando uma mensagem no final de acordo com a média atingida:\n",
        "\n",
        "- Média abaixo de 5.5: REPROVADO\n",
        "- Média entre 5.5 e 6.9: RECUPERAÇÃO\n",
        "- Média 7.0 ou superior: APROVADO"
      ],
      "metadata": {
        "id": "U8GGfLZvc1sd"
      }
    },
    {
      "cell_type": "code",
      "source": [
        "nota = float(input('Qual sua primeiro nota? '))\n",
        "nota2 = float(input('Qual sua segunda nota? '))\n",
        "print('-'*40)\n",
        "média = (nota + nota2) /2\n",
        "if média <= 5.5:\n",
        "  print('REPROVADO(A). A média do aluno é {:.2f} pontos.'.format(média))\n",
        "elif 7> média >= 5.5:\n",
        "  print('RECUPERAÇÃO. A média do aluno é {:.2f} pontos.'.format(média))\n",
        "elif média >= 7.0:\n",
        "  print('APROVADO(A). A média do aluno é {:.2f} pontos.'.format(média))"
      ],
      "metadata": {
        "colab": {
          "base_uri": "https://localhost:8080/"
        },
        "id": "Nd5Jw0jp42qt",
        "outputId": "9680fcb0-da16-4781-d5cc-89b2f7fefeef"
      },
      "execution_count": null,
      "outputs": [
        {
          "output_type": "stream",
          "name": "stdout",
          "text": [
            "Qual sua primeiro nota? 5.5\n",
            "Qual sua segunda nota? 7\n",
            "----------------------------------------\n",
            "RECUPERAÇÃO. A média do aluno é 6.25 pontos.\n"
          ]
        }
      ]
    },
    {
      "cell_type": "markdown",
      "source": [
        "Desafio 40 - A confederação nacional de natação precisa de um programa que leia o ano de nascimentode um atleta e mostre sua categoria de acordo com a idade:\n",
        "\n",
        "- Até 9 anos: MIRIM\n",
        "- Até 14 anos: INFANTIL\n",
        "- Até 19 anos: JUNIOR\n",
        "- Até 20 anos: SÊNIOR\n",
        "- Acima: MASTER"
      ],
      "metadata": {
        "id": "QsgLJKKzdjuG"
      }
    },
    {
      "cell_type": "code",
      "source": [
        "ano = int(input('Qual ano você nasceu? '))\n",
        "print(' ')\n",
        "if ano >= 2014:\n",
        "  print('Sua categoria é MIRIM.')\n",
        "\n",
        "elif ano <= 2013 and ano >= 2009:\n",
        "  print('Sua ategoria é INFANTIL.')\n",
        "\n",
        "elif ano <= 2008 and ano >= 2004:\n",
        "  print('Sua categoria é JÚNIOR.')\n",
        "\n",
        "elif ano == 2003:\n",
        "  print('Sua categoria é SÊNIOR.')\n",
        "\n",
        "else:\n",
        "  print('Sua categoria é MASTER.')\n"
      ],
      "metadata": {
        "colab": {
          "base_uri": "https://localhost:8080/"
        },
        "id": "VNRbVdXZANZO",
        "outputId": "b3699886-b247-4077-86e5-cd25b557f549"
      },
      "execution_count": null,
      "outputs": [
        {
          "output_type": "stream",
          "name": "stdout",
          "text": [
            "Qual ano você nasceu? 2002\n",
            " \n",
            "Sua categoria é MASTER.\n"
          ]
        }
      ]
    },
    {
      "cell_type": "code",
      "source": [
        "from datetime import date #p/ pegar o ano atual\n",
        "atual = date.today().year\n",
        "nascimento = int(input('Qual ano você nasceu? '))\n",
        "idade = atual - nascimento\n",
        "print('O atleta tem {} anos.'.format(idade))\n",
        "if idade <= 9:\n",
        "  print('Sua categoria é MIRIM.')\n",
        "\n",
        "elif idade <= 14: #idade >= 9 and idade <= 14: opção c/ duas comparações, mas é desnecessário , pois se passou no filtro anterior, não precisa repetir\n",
        "  print('Sua ategoria é INFANTIL.')\n",
        "\n",
        "elif idade <= 19:\n",
        "  print('Sua categoria é JÚNIOR.')\n",
        "\n",
        "elif idade == 20:\n",
        "  print('Sua categoria é SÊNIOR.')\n",
        "\n",
        "else:\n",
        "  print('Sua categoria é MASTER.')\n",
        "\n"
      ],
      "metadata": {
        "colab": {
          "base_uri": "https://localhost:8080/"
        },
        "id": "RkbcqdRTtqPn",
        "outputId": "499cc89b-d79a-4e47-b349-2555440db7ea"
      },
      "execution_count": null,
      "outputs": [
        {
          "output_type": "stream",
          "name": "stdout",
          "text": [
            "Qual ano você nasceu? 2015\n",
            "O atleta tem 8 anos.\n",
            "Sua categoria é MIRIM.\n"
          ]
        }
      ]
    },
    {
      "cell_type": "markdown",
      "source": [
        "Desafio 41 - Desenvolva uma lógica que leia o peso e a altura de uma pessoa, calcule seu IMC e mostre seu status, de acordo com a tabela abaixo:\n",
        "\n",
        "- Abaixo de 18.5: Abaixo do peso\n",
        "- Entre 18.5 a 25: Peso ideal\n",
        "- 25 até 30: Sobrepeso\n",
        "- 30 até 40: Obesidade\n",
        "- Acima de 40: Obesidade mórbida"
      ],
      "metadata": {
        "id": "CeIqmbQDdqxg"
      }
    },
    {
      "cell_type": "code",
      "source": [
        "peso = float(input('Qual seu peso? (Kg) '))\n",
        "alt = float(input('Qual sua altura? (m) '))\n",
        "print('-'*40)\n",
        "imc = peso / alt**2\n",
        "if imc < 18.5:\n",
        "  print('Seu IMC é {:.2f}. Você está abaixo do peso para a sua altura.'.format(imc))\n",
        "\n",
        "elif imc < 25:\n",
        "  print('Seu IMC é {:.2f}. Você está no peso ideal para a sua altura.'.format(imc))\n",
        "\n",
        "elif imc < 30: # outra opção imc >= 25 and imc < 30:\n",
        "  print('Seu IMC é {:.2f}. Você está com sobrepeso para a sua altura.'.format(imc))\n",
        "\n",
        "elif imc < 40:\n",
        "  print('Seu IMC é {:.2f}. Você está com obesidade para a sua altura.'.format(imc))\n",
        "\n",
        "elif imc >= 40:\n",
        "  print('Seu IMC é {:.2f}. Você está com obesidade mórbida para a sua altura.'.format(imc))"
      ],
      "metadata": {
        "colab": {
          "base_uri": "https://localhost:8080/"
        },
        "id": "eTdGDwCbDTMn",
        "outputId": "47d4b2c8-f5c5-421a-cb3e-d3bad15b0d1d"
      },
      "execution_count": null,
      "outputs": [
        {
          "output_type": "stream",
          "name": "stdout",
          "text": [
            "Qual seu peso? 70\n",
            "Qual sua altura? 1.60\n",
            "----------------------------------------\n",
            "Seu IMC é 27.34. Você está com sobrepeso para a sua altura.\n"
          ]
        }
      ]
    },
    {
      "cell_type": "markdown",
      "source": [
        "DESAFIO 42 - Refaça o desafio 35 dos triângulos, acrescentando o recurso de mostrar que tipo de triângulo será formado:\n",
        "- EQUILÁTERO: todos os lados iguais\n",
        "- ISÓSCELES: dois lados iguais, um diferente\n",
        "- ESCALENO: todos os lados diferentes"
      ],
      "metadata": {
        "id": "Gix6-fYuqb2s"
      }
    },
    {
      "cell_type": "code",
      "source": [
        "print('Analisador de triângulos')\n",
        "print('-'*25)\n",
        "r1 = float(input('Primeiro segmento: '))\n",
        "r2 = float(input('Segundo segmento: '))\n",
        "r3 = float(input('Terceiro segmento: '))\n",
        "print('-'*49)\n",
        "if r1 < (r2 + r3) and r2 < (r1 + r3) and r3 < (r1 + r2):\n",
        "  print('Os segmentos acima podem formar um triângulo ', end='') #, end='') p/ imprimir na mesma linha\n",
        "\n",
        "  if r1 == r2 == r3 == r1: #r1 == r2 and r2 == r3\n",
        "    print('equilátero.')\n",
        "\n",
        "  elif r1 != r2 != r3 != r1: #!= sinal de diferente\n",
        "    print('escaleno.')\n",
        "\n",
        "  else:\n",
        "    print('isósceles.')\n",
        "\n",
        "else:\n",
        "  print('Os segmentos acima não podem formar um triângulo.')"
      ],
      "metadata": {
        "colab": {
          "base_uri": "https://localhost:8080/"
        },
        "id": "Sr2UMCvH2Km4",
        "outputId": "746eb83e-6f84-43b9-a365-e08112d7ceef"
      },
      "execution_count": null,
      "outputs": [
        {
          "output_type": "stream",
          "name": "stdout",
          "text": [
            "Analisador de triângulos\n",
            "-------------------------\n",
            "Primeiro segmento: 1\n",
            "Segundo segmento: 4\n",
            "Terceiro segmento: 9\n",
            "-------------------------------------------------\n",
            "Os segmentos acima não podem formar um triângulo.\n"
          ]
        }
      ]
    },
    {
      "cell_type": "markdown",
      "source": [
        "Desafio 43 - Elabore um programa que calcule o valor a ser pago por um produto, considerando o seu preço normal e condição de pagamento:\n",
        "\n",
        "- À vista dinheiro ou cheque: 10% de desconto\n",
        "- À vista no cartão: 5% desconto\n",
        "- em até 2x no cartão: preço normal\n",
        "- 3x ou mais no cartão: 20% de juros"
      ],
      "metadata": {
        "id": "oOj10p4LdrA3"
      }
    },
    {
      "cell_type": "code",
      "source": [
        "print('{:=^40}'.format(' LOJAS NANDA MARQUES ')) #^ centraliza a str em 40 espaços\n",
        "valor = float(input('Qual valor do produto? R$ '))\n",
        "print(' ')\n",
        "print('''Qual sua forma de pagamento?\n",
        "\n",
        "[1] dinheiro, pix ou cheque\n",
        "[2] cartão à vista\n",
        "[3] cartão 2x\n",
        "[4] acima de 3x no cartão''')\n",
        "print (' ')\n",
        "opção = int(input('Qual é a opção? '))\n",
        "if opção == 1:\n",
        "  total = valor * 0.90\n",
        "elif opção == 2:\n",
        "  total = valor * 0.95\n",
        "elif opção == 3:\n",
        "  total = valor / 2\n",
        "  print('Sua compra será parcelada em 2x R$ {:.2f} reais.'.format(total))\n",
        "elif opção == 4:\n",
        "  par = int(input('Deseja parcelar em quantas vezes? '))\n",
        "  total = valor *1.2 / par\n",
        "  print('Sua compra será parcelada em {}x R$ {:.2f} reais.'.format(par, total))\n",
        "print('Sua compra de R$ {:.2f} reais vai custar R$ {} reais.'.format(valor, total))"
      ],
      "metadata": {
        "colab": {
          "base_uri": "https://localhost:8080/"
        },
        "id": "AtZ-jLCjy3XE",
        "outputId": "9ccfaf54-74ac-46f9-90a7-826d0225d050"
      },
      "execution_count": 18,
      "outputs": [
        {
          "output_type": "stream",
          "name": "stdout",
          "text": [
            "========= LOJAS NANDA MARQUES ==========\n",
            "Qual valor do produto? R$ 100\n",
            " \n",
            "Qual sua forma de pagamento?\n",
            "\n",
            "[1] dinheiro, pix ou cheque\n",
            "[2] cartão à vista\n",
            "[3] cartão 2x\n",
            "[4] acima de 3x no cartão\n",
            " \n",
            "Qual é a opção? 2\n",
            "Sua compra de R$ 100.00 reais vai custar R$ 95.0 reais.\n"
          ]
        }
      ]
    },
    {
      "cell_type": "code",
      "source": [
        "print('{:=^40}'.format(' LOJAS NANDA MARQUES ')) #^ centraliza a str em 40 espaços\n",
        "valor = float(input('Qual valor do produto? R$ '))\n",
        "print(' ')\n",
        "pag = str(input('Qual sua forma de pagamento? Dinheiro, pix, cheque,\\ncartão à vista, cartão 2x ou acima de 3x no cartão? ')).strip().lower()\n",
        "print (' ')\n",
        "if pag == 'dinheiro' or pag == 'cheque' or pag == 'pix':\n",
        "  print('Pagamentos em pix, dinheiro ou cheque você tem 10% e pagará apenas R$ {:.2f} pelo seu produto.'.format(valor*0.90))\n",
        "\n",
        "elif pag == 'cartão à vista' or pag == 'cartao a vista' or pag == 'cartão a vista' or pag == 'cartão á vista':\n",
        "  print('Pagamentos à vista no cartão você tem 5% de desconto e pagará apenas R$ {:.2f} pelo seu produto.'.format(valor*0.95))\n",
        "\n",
        "elif pag == 'cartão 2x' or pag == 'cartao 2x' or pag == '2x cartão' or pag == '2x cartao':\n",
        "  print('Você pagará apenas 2 parcelas de R$ {:.2f} pelo seu produto.'.format(valor / 2))\n",
        "\n",
        "elif pag == 'cartão 3x' or pag == 'cartao 3x' or pag == '3x no cartão' or pag == '3x cartao' or pag == '3x cartão':\n",
        "  par = int(input('Deseja parcelar em quantas vezes? '))\n",
        "  print('Você pagará apenas {} parcelas de R$ {:.2f} pelo seu produto.'.format(par, valor *1.2 / par))\n"
      ],
      "metadata": {
        "colab": {
          "base_uri": "https://localhost:8080/"
        },
        "id": "hOejRGfKMMhq",
        "outputId": "bf114df3-3743-44b1-b3dd-347a41505d09"
      },
      "execution_count": 23,
      "outputs": [
        {
          "output_type": "stream",
          "name": "stdout",
          "text": [
            "========= LOJAS NANDA MARQUES ==========\n",
            "Qual valor do produto? R$ 200\n",
            " \n",
            "Qual sua forma de pagamento? Dinheiro, pix, cheque,\n",
            "cartão à vista, cartão 2x ou acima de 3x no cartão? 3x no cartão\n",
            " \n",
            "Deseja parcelar em quantas vezes? 5\n",
            "Você pagará apenas 5 parcelas de R$ 48.00 pelo seu produto.\n"
          ]
        }
      ]
    },
    {
      "cell_type": "markdown",
      "source": [
        "Desafio 44 - Crie um programa que faça o computador jogar Jokenpô com você."
      ],
      "metadata": {
        "id": "VSgD6pNhdrLE"
      }
    },
    {
      "cell_type": "code",
      "source": [
        "from random import choice\n",
        "computador = ['Pedra', 'Papel', 'Tesoura']\n",
        "com = choice(computador)\n",
        "jog = str(input('Escolhe pedra, papel ou tesoura? ')).strip().lower()\n",
        "print(' ')\n",
        "print('Eu escolhi {}.'.format(com))\n",
        "print(' ')\n",
        "if com == 'Pedra' and jog == 'tesoura':\n",
        "  print('Eu ganhei!')\n",
        "\n",
        "elif com == 'Tesoura' and jog == 'papel':\n",
        "  print('Eu ganhei!')\n",
        "\n",
        "elif com == 'Papel' and jog == 'Pedra':\n",
        "  print('Eu ganhei!')\n",
        "\n",
        "elif jog == 'papel' and com == 'Pedra':\n",
        "  print('Parabéns! Você ganhou!')\n",
        "\n",
        "elif jog == 'tesoura' and com == 'Papel':\n",
        "  print('Parabéns! Você ganhou!')\n",
        "\n",
        "elif jog == 'pedra' and com == 'Tesoura':\n",
        "  print('Parabéns! Você ganhou!')\n",
        "else:\n",
        "  print('Empate')"
      ],
      "metadata": {
        "colab": {
          "base_uri": "https://localhost:8080/"
        },
        "id": "HbpCBJxEcfCQ",
        "outputId": "3bffe381-b2eb-42f3-dcf5-85511f3742d4"
      },
      "execution_count": 30,
      "outputs": [
        {
          "output_type": "stream",
          "name": "stdout",
          "text": [
            "Escolhe pedra, papel ou tesoura?  papel   \n",
            " \n",
            "Eu escolhi Tesoura.\n",
            " \n",
            "Eu ganhei!\n"
          ]
        }
      ]
    },
    {
      "cell_type": "markdown",
      "source": [
        "### Estrutura For - Laços de Repetição (Parte 1)"
      ],
      "metadata": {
        "id": "9KG_lhI7jL3F"
      }
    },
    {
      "cell_type": "code",
      "source": [
        "laço c no intervalo(1, 10): #c é a variável de controle, pode ter qq nome, assim como as outras variáveis\n",
        "  passo\n",
        "pega #(fora da identação, para gerar a ação que desejo)\n",
        "\n",
        "for c in range(1,10): #intervalo = range"
      ],
      "metadata": {
        "id": "xuEr1X0vkSd7"
      },
      "execution_count": null,
      "outputs": []
    },
    {
      "cell_type": "code",
      "source": [
        "for c in range(0, 6): #começa a contagem em 0 e o último ignora\n",
        "  print(c)\n",
        "print('Fim')"
      ],
      "metadata": {
        "colab": {
          "base_uri": "https://localhost:8080/"
        },
        "id": "rQvHHHZXkVq7",
        "outputId": "20f5829b-51f4-4ba3-9e1d-3d74d65184f8"
      },
      "execution_count": 61,
      "outputs": [
        {
          "output_type": "stream",
          "name": "stdout",
          "text": [
            "0\n",
            "1\n",
            "2\n",
            "3\n",
            "4\n",
            "5\n",
            "Fim\n"
          ]
        }
      ]
    },
    {
      "cell_type": "code",
      "source": [
        "for c in range(1, 7): #começa a contagem em 0 e o último ignora, p/ imprimir do 1 até o 6\n",
        "  print(c)\n",
        "print('Fim')"
      ],
      "metadata": {
        "colab": {
          "base_uri": "https://localhost:8080/"
        },
        "id": "H3VxzYZrj-Ms",
        "outputId": "53ec1a71-eea2-472a-81fa-42e34dd74f37"
      },
      "execution_count": 35,
      "outputs": [
        {
          "output_type": "stream",
          "name": "stdout",
          "text": [
            "1\n",
            "2\n",
            "3\n",
            "4\n",
            "5\n",
            "6\n",
            "Fim\n"
          ]
        }
      ]
    },
    {
      "cell_type": "code",
      "source": [
        "for c in range(6, 0, -1): #faz a contagem de trás pra frente\n",
        "  print(c)\n",
        "print('Fim')"
      ],
      "metadata": {
        "colab": {
          "base_uri": "https://localhost:8080/"
        },
        "id": "NEgoQN4GkjBr",
        "outputId": "569c0615-3ad5-40c7-fd05-d9937f0968c8"
      },
      "execution_count": 34,
      "outputs": [
        {
          "output_type": "stream",
          "name": "stdout",
          "text": [
            "6\n",
            "5\n",
            "4\n",
            "3\n",
            "2\n",
            "1\n",
            "Fim\n"
          ]
        }
      ]
    },
    {
      "cell_type": "code",
      "source": [
        "for c in range(0, 7, 2): #contagem de 0 ate 7 pulando de 2 em 2\n",
        "  print(c)\n",
        "print('Fim')"
      ],
      "metadata": {
        "colab": {
          "base_uri": "https://localhost:8080/"
        },
        "id": "J5c852pakmNt",
        "outputId": "a06a1da7-0a6a-418a-aaf7-23893eae2b08"
      },
      "execution_count": 33,
      "outputs": [
        {
          "output_type": "stream",
          "name": "stdout",
          "text": [
            "0\n",
            "2\n",
            "4\n",
            "6\n",
            "Fim\n"
          ]
        }
      ]
    },
    {
      "cell_type": "code",
      "source": [
        "n = int(input('Digite um número: '))\n",
        "for c in range(0, n+1): #n+1 p/ gerar até o número que desejo\n",
        "  print(c)\n",
        "print('Fim')"
      ],
      "metadata": {
        "colab": {
          "base_uri": "https://localhost:8080/"
        },
        "id": "Y_yi_fwUkov3",
        "outputId": "9d89a599-d5fb-49f5-defe-93fd878578e9"
      },
      "execution_count": 5,
      "outputs": [
        {
          "output_type": "stream",
          "name": "stdout",
          "text": [
            "Digite um número: 5\n",
            "0\n",
            "1\n",
            "2\n",
            "3\n",
            "4\n",
            "5\n",
            "Fim\n"
          ]
        }
      ]
    },
    {
      "cell_type": "code",
      "source": [
        "i = int(input('Início: '))\n",
        "f = int(input('Fim: '))\n",
        "p = int(input('Passo: '))\n",
        "for c in range(i, f+1, p):\n",
        "  print(c)\n",
        "print('Fim')"
      ],
      "metadata": {
        "colab": {
          "base_uri": "https://localhost:8080/"
        },
        "id": "eOam7CVykrr-",
        "outputId": "0e2aa97b-9f93-48a0-8f6d-f5f926fa21ee"
      },
      "execution_count": 3,
      "outputs": [
        {
          "output_type": "stream",
          "name": "stdout",
          "text": [
            "Início: 0\n",
            "Fim: 20\n",
            "Passo: 3\n",
            "0\n",
            "3\n",
            "6\n",
            "9\n",
            "12\n",
            "15\n",
            "18\n",
            "Fim\n"
          ]
        }
      ]
    },
    {
      "cell_type": "code",
      "source": [
        "s = 0\n",
        "for c in range(0, 10): #vai perguntar o valor 10x, pq ignora o último\n",
        "  n = int(input('Digite um valor: '))\n",
        "  s += n #p/ somar tds os valores\n",
        "print('A soma de todos os valores é {}.'.format(s)) #variável s definida no início para conseguir somar\n",
        "print('Fim') #está fora do for, por isso apareceu somente uma vez no final"
      ],
      "metadata": {
        "colab": {
          "base_uri": "https://localhost:8080/"
        },
        "id": "r2NiujSqQ8I5",
        "outputId": "9e97eb90-690d-4e54-8fab-98cea485b62a"
      },
      "execution_count": 42,
      "outputs": [
        {
          "output_type": "stream",
          "name": "stdout",
          "text": [
            "Digite um valor: 1\n",
            "Digite um valor: 2\n",
            "Digite um valor: 3\n",
            "Digite um valor: 4\n",
            "Digite um valor: 5\n",
            "Digite um valor: 6\n",
            "Digite um valor: 7\n",
            "Digite um valor: 8\n",
            "Digite um valor: 9\n",
            "Digite um valor: 10\n",
            "A soma de todos os valores é 55.\n",
            "Fim\n"
          ]
        }
      ]
    },
    {
      "cell_type": "markdown",
      "source": [
        "Desafio 45 - Faça um programa que mostre na tela uma contagem regressiva para o estouro de fogos de artifício, indo de 10 até 0, com uma pausa de 1seg entre eles."
      ],
      "metadata": {
        "id": "vDPfvHiCdrXx"
      }
    },
    {
      "cell_type": "code",
      "source": [
        "from time import sleep\n",
        "for c in range(10, -1, -1): #como ignora o último, colocando -1, ele conta até 0\n",
        " print(c)\n",
        " sleep(1)"
      ],
      "metadata": {
        "colab": {
          "base_uri": "https://localhost:8080/"
        },
        "id": "WHIwMBqQkotl",
        "outputId": "1c17d5bd-adf0-42b7-960a-c5925c8ebb31"
      },
      "execution_count": 49,
      "outputs": [
        {
          "output_type": "stream",
          "name": "stdout",
          "text": [
            "10\n",
            "9\n",
            "8\n",
            "7\n",
            "6\n",
            "5\n",
            "4\n",
            "3\n",
            "2\n",
            "1\n",
            "0\n"
          ]
        }
      ]
    },
    {
      "cell_type": "markdown",
      "source": [
        "Desafio 46 - Crie um programa que mostre na tela todos os números pares que estão no intervalo entre 1 e 50."
      ],
      "metadata": {
        "id": "vICmidq9duYG"
      }
    },
    {
      "cell_type": "code",
      "source": [
        "for c in range(2, 51, 2):\n",
        "  print(c, end=', ')\n",
        "print('Fim')"
      ],
      "metadata": {
        "colab": {
          "base_uri": "https://localhost:8080/"
        },
        "id": "BtQS8XPNmjU7",
        "outputId": "022ee3aa-1907-4de2-cd99-16a58ace4d9e"
      },
      "execution_count": 62,
      "outputs": [
        {
          "output_type": "stream",
          "name": "stdout",
          "text": [
            "2, 4, 6, 8, 10, 12, 14, 16, 18, 20, 22, 24, 26, 28, 30, 32, 34, 36, 38, 40, 42, 44, 46, 48, 50, Fim\n"
          ]
        }
      ]
    },
    {
      "cell_type": "markdown",
      "source": [
        "Desafio 47 - Faça um programa que calcule a soma entre todos os números ímpares que são múltiplos de três e que se encontram no intervalo de 1 até 500."
      ],
      "metadata": {
        "id": "N3s9mHcUdugz"
      }
    },
    {
      "cell_type": "code",
      "source": [
        "s = 0\n",
        "for c in range(1, 501):\n",
        "  if c % 3 == 0:\n",
        "   s += c\n",
        "print(s)"
      ],
      "metadata": {
        "colab": {
          "base_uri": "https://localhost:8080/"
        },
        "id": "OyTv5I6xnZDj",
        "outputId": "f92b9cc5-5315-4264-b064-b35bf6dbdbe0"
      },
      "execution_count": 84,
      "outputs": [
        {
          "output_type": "stream",
          "name": "stdout",
          "text": [
            "41583\n"
          ]
        }
      ]
    },
    {
      "cell_type": "markdown",
      "source": [
        "Desafio 48 - Refaça o desafio 9, mostrando a tabuada de um número que o usuário escolher, mas utilizando o \"laço for\"."
      ],
      "metadata": {
        "id": "IpT_62hpdu6m"
      }
    },
    {
      "cell_type": "markdown",
      "source": [
        "Desafio 49 - Desenvolva um programa que leia seis números inteiros e mostre a soma apenas daqueles que forem pares. Se o valor digitado for ímpar, desconsidere-o."
      ],
      "metadata": {
        "id": "z03Pl6Exdu_9"
      }
    },
    {
      "cell_type": "code",
      "source": [
        "s = 0\n",
        "for c in range(1, 7):\n",
        "  n = int(input('Digite um número inteiro: '))\n",
        "  if n % 2 == 0:\n",
        "    s += n\n",
        "print('='*53)\n",
        "print('O resultado da soma dos números pares digitados é {}.'.format(s))\n"
      ],
      "metadata": {
        "colab": {
          "base_uri": "https://localhost:8080/"
        },
        "id": "LAZqMR7LqoJy",
        "outputId": "4555e07e-2ad8-4762-feee-0415e9a98edd"
      },
      "execution_count": 74,
      "outputs": [
        {
          "output_type": "stream",
          "name": "stdout",
          "text": [
            "Digite um número inteiro: 1\n",
            "Digite um número inteiro: 2\n",
            "Digite um número inteiro: 3\n",
            "Digite um número inteiro: 4\n",
            "Digite um número inteiro: 5\n",
            "Digite um número inteiro: 6\n",
            "=====================================================\n",
            "O resultado da soma dos números pares digitados é 12.\n"
          ]
        }
      ]
    },
    {
      "cell_type": "markdown",
      "source": [
        "Desafio 50 - Desenvolva um programa que leia o primeiro termo e a razão de uma PA. No final, mostra os 10 primeiros termos dessa progressão."
      ],
      "metadata": {
        "id": "8ydSXfQXVRcM"
      }
    },
    {
      "cell_type": "code",
      "source": [
        "for c in range(0, 30, 2):\n",
        "  s += c\n",
        "  print(c),([0, 11])\n",
        "print('A razão dessa PA é {}.'.format(c / 30))\n",
        ""
      ],
      "metadata": {
        "colab": {
          "base_uri": "https://localhost:8080/"
        },
        "id": "jkacdt_TtxGK",
        "outputId": "51f15f9a-d96c-423e-f407-47ae70a14946"
      },
      "execution_count": 93,
      "outputs": [
        {
          "output_type": "stream",
          "name": "stdout",
          "text": [
            "0\n",
            "2\n",
            "4\n",
            "6\n",
            "8\n",
            "10\n",
            "12\n",
            "14\n",
            "16\n",
            "18\n",
            "20\n",
            "22\n",
            "24\n",
            "26\n",
            "28\n",
            "A razão dessa PA é 0.9333333333333333.\n"
          ]
        }
      ]
    },
    {
      "cell_type": "markdown",
      "source": [
        "Desafio 51 - Desenvolva um programa que leia um número inteiro e diga se ele é ou não um número primo."
      ],
      "metadata": {
        "id": "MbQ4bv3oV-G9"
      }
    },
    {
      "cell_type": "markdown",
      "source": [
        "Desafio 52 - Desenvolva um programa que leia uma frase e diga se ela é um palíndromo, desconsiderando os espaços.\n",
        "OBS.: Frase que pode ser lida trás pra frete e continua com o mesmo sentido.\n",
        "Ex.:\n",
        "Apos a sopa\n",
        "A sacada da casa\n",
        "a torre da derrota\n",
        "o lobo ama o bolo"
      ],
      "metadata": {
        "id": "D7hPDqc7WSb9"
      }
    },
    {
      "cell_type": "markdown",
      "source": [
        "Desafio 53 - Desenvolva um programa que leia o ano de nascimento de sete pessoas. No final, mostre quantas pessoas ainda não atingiram a maioridade e quantas já atingiram. Considere a maioridade com 21 anos."
      ],
      "metadata": {
        "id": "nXQ1n4UxXC9g"
      }
    },
    {
      "cell_type": "markdown",
      "source": [
        "Desafio 54 - Desenvolva um programa que leia o peso de cinco pessoas. No final mostre qual foi o maior e o menor peso lidos."
      ],
      "metadata": {
        "id": "P0FjGsnqXqaz"
      }
    },
    {
      "cell_type": "markdown",
      "source": [
        "Desafio 55 - Desenvolva um programa que leia o nome, idade e sexo de 4 pessoas. No final do programa, mostre:\n",
        "\n",
        "- Amédia de idade do grupo;\n",
        "- O nome do homem mais velho;\n",
        "- Quantas mulheres tem menos de 20 anos."
      ],
      "metadata": {
        "id": "sSQk3RPqX7MZ"
      }
    }
  ]
}