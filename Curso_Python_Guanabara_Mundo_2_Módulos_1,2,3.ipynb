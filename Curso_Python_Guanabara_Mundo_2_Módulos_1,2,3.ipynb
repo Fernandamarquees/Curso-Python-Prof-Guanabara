{
  "nbformat": 4,
  "nbformat_minor": 0,
  "metadata": {
    "colab": {
      "provenance": [],
      "toc_visible": true,
      "authorship_tag": "ABX9TyOONuiqHGveeGYc4t+ww9JU",
      "include_colab_link": true
    },
    "kernelspec": {
      "name": "python3",
      "display_name": "Python 3"
    },
    "language_info": {
      "name": "python"
    }
  },
  "cells": [
    {
      "cell_type": "markdown",
      "metadata": {
        "id": "view-in-github",
        "colab_type": "text"
      },
      "source": [
        "<a href=\"https://colab.research.google.com/github/Fernandamarquees/Curso-Python-Prof-Guanabara/blob/main/Curso_Python_Guanabara_Mundo_2_M%C3%B3dulos_1%2C2%2C3.ipynb\" target=\"_parent\"><img src=\"https://colab.research.google.com/assets/colab-badge.svg\" alt=\"Open In Colab\"/></a>"
      ]
    },
    {
      "cell_type": "markdown",
      "source": [
        "#Curso Python Mundo 2 - Módulos 1, 2 e 3"
      ],
      "metadata": {
        "id": "nqpBgkoyQOaR"
      }
    },
    {
      "cell_type": "markdown",
      "source": [
        "###Aula 12 – Condições Aninhadas"
      ],
      "metadata": {
        "id": "uPKGtW4kQi_5"
      }
    },
    {
      "cell_type": "code",
      "execution_count": null,
      "metadata": {
        "id": "qN4G6IMDP5Lt"
      },
      "outputs": [],
      "source": [
        "#Sempre começar o código com 'if'\n",
        "#Elif e Else são opcionais\n",
        "#Elif = Else + if = senão se\n",
        "#Pode ter alguns IF, muitos Elif e apenas 1 Else (sempre no final, após o if ou elif)"
      ]
    },
    {
      "cell_type": "code",
      "source": [
        "nome = str(input('Qual é seu nome? '))\n",
        "print(' ')\n",
        "if nome == 'Fernanda':\n",
        "  print('Que nome bonito!')\n",
        "elif nome == 'Pedro' or nome == 'Maria' or nome == 'Paulo':\n",
        "  print('Seu nome é popular no Brasil')\n",
        "elif nome in 'Ana Cláudia Jéssica Juliana':\n",
        "  print('Belo nome feminino!')\n",
        "else:\n",
        "  print('Seu nome é bem normal.')\n",
        "print(' ')\n",
        "print('Tenha uma boa dia, {}!'.format(nome)) #estrutura fora da identação, então irá imprimir toda vez"
      ],
      "metadata": {
        "id": "Y97SNAO4jE2E",
        "colab": {
          "base_uri": "https://localhost:8080/"
        },
        "outputId": "7540fe06-dd05-4f13-b1aa-0715492ab0cc"
      },
      "execution_count": null,
      "outputs": [
        {
          "output_type": "stream",
          "name": "stdout",
          "text": [
            "Qual é seu nome? Fernanda\n",
            " \n",
            "Que nome bonito!\n",
            " \n",
            "Tenha uma boa dia, Fernanda!\n"
          ]
        }
      ]
    },
    {
      "cell_type": "markdown",
      "source": [
        "Desafio 35 - Escreva um programa para aprovar o empréstimo bancário para a compra de uma casa. O programa vai perguntar o valor da casa, o salário do comprador e em quantos anos ele vai pagar. Calcule o valor da prestação mensal, sabendo que ela não pode exceder 30% do salário ou então o empréstimo será negado."
      ],
      "metadata": {
        "id": "RyXq_LUlY-bW"
      }
    },
    {
      "cell_type": "code",
      "source": [
        "casa = float(input('Qual o valor do imóvel que deseja comprar? R$ '))\n",
        "meses = int(input('Em quantos meses deseja pagar o seu imóvel? '))\n",
        "salário = float(input('Qual seu salário? R$ '))\n",
        "print(' ')\n",
        "print(' '*10, '*'*5, ' '*10)\n",
        "print(' ')\n",
        "prestação = casa / meses\n",
        "if prestação > salário * 0.3:\n",
        "  print ('A prestação excede 30% do valor do seu salário.\\nDivida o valor do imóvel em mais meses e poderá adquirir seu imóvel!')\n",
        "else:\n",
        "  print('Parabéns seu empréstimo foi aprovado! Em {} parcelas de R$ {:.2f} reais. Em breve um de nossos consultores entrará em contato.'.format(meses, prestação))\n",
        "print('Agradecemos o seu contato e tenha um bom dia!')\n"
      ],
      "metadata": {
        "id": "327wiNwUho0M",
        "colab": {
          "base_uri": "https://localhost:8080/"
        },
        "outputId": "0ec2e9fb-be06-485d-8492-f14d51736922"
      },
      "execution_count": null,
      "outputs": [
        {
          "output_type": "stream",
          "name": "stdout",
          "text": [
            "Qual o valor do imóvel que deseja comprar? R$ 200000\n",
            "Em quantos meses deseja pagar o seu imóvel? 360\n",
            "Qual seu salário? R$ 1800\n",
            " \n",
            "           *****           \n",
            " \n",
            "A prestação excede 30% do valor do seu salário.\n",
            "Divida o valor do imóvel em mais meses e poderá adquirir seu imóvel!\n",
            "Agradecemos o seu contato e tenha um bom dia!\n"
          ]
        }
      ]
    },
    {
      "cell_type": "markdown",
      "source": [
        "Desafio 36 - Escreva um programa que leia um número inteiro qualquer e peça para o usuário escolher qual será a base de conversão:\n",
        "\n",
        "- 1 para binário\n",
        "- 2 para octal\n",
        "- 3 para hexadecimal"
      ],
      "metadata": {
        "id": "GpRcmfSyZOKE"
      }
    },
    {
      "cell_type": "code",
      "source": [
        "num = int(input('Digite um número inteiro: ')) #o Python tem o convertores automáticos. bin = binário, oct = octal e hex = hexadecimal\n",
        "print('Escolha uma das bases para conversão: ')\n",
        "print('1 para binário\\n2 para octal\\n3 para hexadecimal')\n",
        "opção = int(input('Sua opção é: '))\n",
        "if opção == 1:\n",
        "  print('{} convertido para BINÁRIO é igual a {}.'.format(num, bin(num)[2:])) #[2:] fatiamento de str, p imprimir do 2º dígito em diante\n",
        "\n",
        "elif opção == 2:\n",
        "  print('{} convertido para octal é igual a {}.'.format(num, oct(num)[2:]))\n",
        "\n",
        "elif opção == 3:\n",
        "  print('{} convertido para hexadecimal é igual a {}.'.format(num, hex(num)[2:]))\n",
        "\n",
        "else:\n",
        "  print('Opção inválida.')"
      ],
      "metadata": {
        "colab": {
          "base_uri": "https://localhost:8080/"
        },
        "id": "gcmPbeSFdvOo",
        "outputId": "5162083e-3d6d-454a-f10d-e14da11288aa"
      },
      "execution_count": null,
      "outputs": [
        {
          "output_type": "stream",
          "name": "stdout",
          "text": [
            "Digite um número inteiro: 640\n",
            "Escolha uma das bases para conversão: \n",
            "1 para binário\n",
            "2 para octal\n",
            "3 para hexadecimal\n",
            "Sua opção é: 3\n",
            "640 convertido para hexadecimal é igual a 280.\n"
          ]
        }
      ]
    },
    {
      "cell_type": "markdown",
      "source": [
        "Desafio 37 - Escreva um programa que leia dois números inteiros e compare-os, mostrando na tela uma mensagem:\n",
        "\n",
        "- O primeiro valor é maior\n",
        "- O segundo valor maior é\n",
        "- Não existe valor maior, os dois são iguais"
      ],
      "metadata": {
        "id": "1O1DmjyFZRcE"
      }
    },
    {
      "cell_type": "code",
      "source": [
        "a = int(input('Digite um número: '))\n",
        "b = int(input('Digite outro número: '))\n",
        "print('-'*40)\n",
        "if a > b:\n",
        "  print('O primeiro valor é maior.'.format(a))\n",
        "elif b > a:\n",
        "  print('O segundo valor é maior.'.format(b))\n",
        "elif a == b:\n",
        "  print('Não existe valor maior, os dois são iguais')\n",
        "print('-'*40)\n",
        "print('Obrigada por interagir!')"
      ],
      "metadata": {
        "colab": {
          "base_uri": "https://localhost:8080/"
        },
        "id": "vnCqt63tsD_v",
        "outputId": "db2caca8-b1db-4753-eaaa-cf26992768b4"
      },
      "execution_count": null,
      "outputs": [
        {
          "output_type": "stream",
          "name": "stdout",
          "text": [
            "Digite um número: 10\n",
            "Digite outro número: 10\n",
            "----------------------------------------\n",
            "Não existe valor maior, os dois são iguais\n",
            "----------------------------------------\n",
            "Obrigada por interagir!\n"
          ]
        }
      ]
    },
    {
      "cell_type": "markdown",
      "source": [
        "Desafio 38 - Faça um programa que leia o ano de nascimento de um jovem e informe, de acordo com sua idade:\n",
        "\n",
        "- Se ele ainda vai se alistar ao serviço militar;\n",
        "- Se é hora de se alistar;\n",
        "- Se já passou do tempo do alistamento.\n",
        "\n",
        "Seu programa também deverá mostrar o tempo que falta ou que passou do prazo."
      ],
      "metadata": {
        "id": "1uAArYQ3ZRmk"
      }
    },
    {
      "cell_type": "code",
      "source": [
        "from datetime import date #para importar o ano atual\n",
        "atual = date.today().year #qual o ano de hoje?\n",
        "ano = int(input('Qual ano você nasceu? '))\n",
        "print('-'*40)\n",
        "if ano >= 2007:\n",
        "  print('Você deve se alistar em {} anos.'.format(ano - atual + 18))\n",
        "elif ano == 2006:\n",
        "  print('Você deve se alistar em 1 ano.')\n",
        "elif ano == 2005:\n",
        "  print('Você deve se alistar este ano!')\n",
        "elif ano == 2004:\n",
        "  print('Você deveria ter se alistado há 1 ano.')\n",
        "elif ano <= 2003:\n",
        "  print('Você deveria ter se alistado há {} anos.'.format(atual - ano - 18))\n",
        "print('-'*40)\n",
        "print('Fique em dia com a jústiça brasileira.')"
      ],
      "metadata": {
        "colab": {
          "base_uri": "https://localhost:8080/"
        },
        "id": "p-C1_3EpzMKr",
        "outputId": "e575b30f-2054-402e-867d-5d8cfdd96f61"
      },
      "execution_count": null,
      "outputs": [
        {
          "output_type": "stream",
          "name": "stdout",
          "text": [
            "Qual ano você nasceu? 2003\n",
            "----------------------------------------\n",
            "Você deveria ter se alistado há 2 anos.\n",
            "----------------------------------------\n",
            "Fique em dia com a jústiça brasileira.\n"
          ]
        }
      ]
    },
    {
      "cell_type": "markdown",
      "source": [
        "Desafio 39 - Crie um programa que leia duas notas de aluno e calcule a média, mostrando uma mensagem no final de acordo com a média atingida:\n",
        "\n",
        "- Média abaixo de 5.5: REPROVADO\n",
        "- Média entre 5.5 e 6.9: RECUPERAÇÃO\n",
        "- Média 7.0 ou superior: APROVADO"
      ],
      "metadata": {
        "id": "U8GGfLZvc1sd"
      }
    },
    {
      "cell_type": "code",
      "source": [
        "nota = float(input('Qual sua primeiro nota? '))\n",
        "nota2 = float(input('Qual sua segunda nota? '))\n",
        "print('-'*40)\n",
        "média = (nota + nota2) /2\n",
        "if média <= 5.5:\n",
        "  print('REPROVADO(A). A média do aluno é {:.2f} pontos.'.format(média))\n",
        "elif 7> média >= 5.5:\n",
        "  print('RECUPERAÇÃO. A média do aluno é {:.2f} pontos.'.format(média))\n",
        "elif média >= 7.0:\n",
        "  print('APROVADO(A). A média do aluno é {:.2f} pontos.'.format(média))"
      ],
      "metadata": {
        "colab": {
          "base_uri": "https://localhost:8080/"
        },
        "id": "Nd5Jw0jp42qt",
        "outputId": "9680fcb0-da16-4781-d5cc-89b2f7fefeef"
      },
      "execution_count": null,
      "outputs": [
        {
          "output_type": "stream",
          "name": "stdout",
          "text": [
            "Qual sua primeiro nota? 5.5\n",
            "Qual sua segunda nota? 7\n",
            "----------------------------------------\n",
            "RECUPERAÇÃO. A média do aluno é 6.25 pontos.\n"
          ]
        }
      ]
    },
    {
      "cell_type": "markdown",
      "source": [
        "Desafio 40 - A confederação nacional de natação precisa de um programa que leia o ano de nascimentode um atleta e mostre sua categoria de acordo com a idade:\n",
        "\n",
        "- Até 9 anos: MIRIM\n",
        "- Até 14 anos: INFANTIL\n",
        "- Até 19 anos: JUNIOR\n",
        "- Até 20 anos: SÊNIOR\n",
        "- Acima: MASTER"
      ],
      "metadata": {
        "id": "QsgLJKKzdjuG"
      }
    },
    {
      "cell_type": "code",
      "source": [
        "ano = int(input('Qual ano você nasceu? '))\n",
        "print(' ')\n",
        "if ano >= 2014:\n",
        "  print('Sua categoria é MIRIM.')\n",
        "\n",
        "elif ano <= 2013 and ano >= 2009:\n",
        "  print('Sua ategoria é INFANTIL.')\n",
        "\n",
        "elif ano <= 2008 and ano >= 2004:\n",
        "  print('Sua categoria é JÚNIOR.')\n",
        "\n",
        "elif ano == 2003:\n",
        "  print('Sua categoria é SÊNIOR.')\n",
        "\n",
        "else:\n",
        "  print('Sua categoria é MASTER.')\n"
      ],
      "metadata": {
        "colab": {
          "base_uri": "https://localhost:8080/"
        },
        "id": "VNRbVdXZANZO",
        "outputId": "b3699886-b247-4077-86e5-cd25b557f549"
      },
      "execution_count": null,
      "outputs": [
        {
          "output_type": "stream",
          "name": "stdout",
          "text": [
            "Qual ano você nasceu? 2002\n",
            " \n",
            "Sua categoria é MASTER.\n"
          ]
        }
      ]
    },
    {
      "cell_type": "code",
      "source": [
        "from datetime import date #p/ pegar o ano atual\n",
        "atual = date.today().year\n",
        "nascimento = int(input('Qual ano você nasceu? '))\n",
        "idade = atual - nascimento\n",
        "print('O atleta tem {} anos.'.format(idade))\n",
        "if idade <= 9:\n",
        "  print('Sua categoria é MIRIM.')\n",
        "\n",
        "elif idade <= 14: #idade >= 9 and idade <= 14: opção c/ duas comparações, mas é desnecessário , pois se passou no filtro anterior, não precisa repetir\n",
        "  print('Sua ategoria é INFANTIL.')\n",
        "\n",
        "elif idade <= 19:\n",
        "  print('Sua categoria é JÚNIOR.')\n",
        "\n",
        "elif idade == 20:\n",
        "  print('Sua categoria é SÊNIOR.')\n",
        "\n",
        "else:\n",
        "  print('Sua categoria é MASTER.')\n",
        "\n"
      ],
      "metadata": {
        "colab": {
          "base_uri": "https://localhost:8080/"
        },
        "id": "RkbcqdRTtqPn",
        "outputId": "499cc89b-d79a-4e47-b349-2555440db7ea"
      },
      "execution_count": null,
      "outputs": [
        {
          "output_type": "stream",
          "name": "stdout",
          "text": [
            "Qual ano você nasceu? 2015\n",
            "O atleta tem 8 anos.\n",
            "Sua categoria é MIRIM.\n"
          ]
        }
      ]
    },
    {
      "cell_type": "markdown",
      "source": [
        "Desafio 41 - Desenvolva uma lógica que leia o peso e a altura de uma pessoa, calcule seu IMC e mostre seu status, de acordo com a tabela abaixo:\n",
        "\n",
        "- Abaixo de 18.5: Abaixo do peso\n",
        "- Entre 18.5 a 25: Peso ideal\n",
        "- 25 até 30: Sobrepeso\n",
        "- 30 até 40: Obesidade\n",
        "- Acima de 40: Obesidade mórbida"
      ],
      "metadata": {
        "id": "CeIqmbQDdqxg"
      }
    },
    {
      "cell_type": "code",
      "source": [
        "peso = float(input('Qual seu peso? (Kg) '))\n",
        "alt = float(input('Qual sua altura? (m) '))\n",
        "print('-'*40)\n",
        "imc = peso / alt**2\n",
        "if imc < 18.5:\n",
        "  print('Seu IMC é {:.2f}. Você está abaixo do peso para a sua altura.'.format(imc))\n",
        "\n",
        "elif imc < 25:\n",
        "  print('Seu IMC é {:.2f}. Você está no peso ideal para a sua altura.'.format(imc))\n",
        "\n",
        "elif imc < 30: # outra opção imc >= 25 and imc < 30:\n",
        "  print('Seu IMC é {:.2f}. Você está com sobrepeso para a sua altura.'.format(imc))\n",
        "\n",
        "elif imc < 40:\n",
        "  print('Seu IMC é {:.2f}. Você está com obesidade para a sua altura.'.format(imc))\n",
        "\n",
        "elif imc >= 40:\n",
        "  print('Seu IMC é {:.2f}. Você está com obesidade mórbida para a sua altura.'.format(imc))"
      ],
      "metadata": {
        "colab": {
          "base_uri": "https://localhost:8080/"
        },
        "id": "eTdGDwCbDTMn",
        "outputId": "47d4b2c8-f5c5-421a-cb3e-d3bad15b0d1d"
      },
      "execution_count": null,
      "outputs": [
        {
          "output_type": "stream",
          "name": "stdout",
          "text": [
            "Qual seu peso? 70\n",
            "Qual sua altura? 1.60\n",
            "----------------------------------------\n",
            "Seu IMC é 27.34. Você está com sobrepeso para a sua altura.\n"
          ]
        }
      ]
    },
    {
      "cell_type": "markdown",
      "source": [
        "DESAFIO 42 - Refaça o desafio 35 dos triângulos, acrescentando o recurso de mostrar que tipo de triângulo será formado:\n",
        "- EQUILÁTERO: todos os lados iguais\n",
        "- ISÓSCELES: dois lados iguais, um diferente\n",
        "- ESCALENO: todos os lados diferentes"
      ],
      "metadata": {
        "id": "Gix6-fYuqb2s"
      }
    },
    {
      "cell_type": "code",
      "source": [
        "print('Analisador de triângulos')\n",
        "print('-'*25)\n",
        "r1 = float(input('Primeiro segmento: '))\n",
        "r2 = float(input('Segundo segmento: '))\n",
        "r3 = float(input('Terceiro segmento: '))\n",
        "print('-'*49)\n",
        "if r1 < (r2 + r3) and r2 < (r1 + r3) and r3 < (r1 + r2):\n",
        "  print('Os segmentos acima podem formar um triângulo ', end='') #, end='') p/ imprimir na mesma linha\n",
        "\n",
        "  if r1 == r2 == r3 == r1: #r1 == r2 and r2 == r3\n",
        "    print('equilátero.')\n",
        "\n",
        "  elif r1 != r2 != r3 != r1: #!= sinal de diferente\n",
        "    print('escaleno.')\n",
        "\n",
        "  else:\n",
        "    print('isósceles.')\n",
        "\n",
        "else:\n",
        "  print('Os segmentos acima não podem formar um triângulo.')"
      ],
      "metadata": {
        "colab": {
          "base_uri": "https://localhost:8080/"
        },
        "id": "Sr2UMCvH2Km4",
        "outputId": "746eb83e-6f84-43b9-a365-e08112d7ceef"
      },
      "execution_count": null,
      "outputs": [
        {
          "output_type": "stream",
          "name": "stdout",
          "text": [
            "Analisador de triângulos\n",
            "-------------------------\n",
            "Primeiro segmento: 1\n",
            "Segundo segmento: 4\n",
            "Terceiro segmento: 9\n",
            "-------------------------------------------------\n",
            "Os segmentos acima não podem formar um triângulo.\n"
          ]
        }
      ]
    },
    {
      "cell_type": "markdown",
      "source": [
        "Desafio 43 - Elabore um programa que calcule o valor a ser pago por um produto, considerando o seu preço normal e condição de pagamento:\n",
        "\n",
        "- À vista dinheiro ou cheque: 10% de desconto\n",
        "- À vista no cartão: 5% desconto\n",
        "- em até 2x no cartão: preço normal\n",
        "- 3x ou mais no cartão: 20% de juros"
      ],
      "metadata": {
        "id": "oOj10p4LdrA3"
      }
    },
    {
      "cell_type": "code",
      "source": [
        "print('{:=^40}'.format(' LOJAS NANDA MARQUES ')) #^ centraliza a str em 40 espaços\n",
        "valor = float(input('Qual valor do produto? R$ '))\n",
        "print(' ')\n",
        "print('''Qual sua forma de pagamento?\n",
        "\n",
        "[1] dinheiro, pix ou cheque\n",
        "[2] cartão à vista\n",
        "[3] cartão 2x\n",
        "[4] acima de 3x no cartão''')\n",
        "print (' ')\n",
        "opção = int(input('Qual é a opção? '))\n",
        "if opção == 1:\n",
        "  total = valor * 0.90\n",
        "elif opção == 2:\n",
        "  total = valor * 0.95\n",
        "elif opção == 3:\n",
        "  total = valor / 2\n",
        "  print('Sua compra será parcelada em 2x R$ {:.2f} reais.'.format(total))\n",
        "elif opção == 4:\n",
        "  par = int(input('Deseja parcelar em quantas vezes? '))\n",
        "  total = valor *1.2 / par\n",
        "  print('Sua compra será parcelada em {}x R$ {:.2f} reais.'.format(par, total))\n",
        "print('Sua compra de R$ {:.2f} reais vai custar R$ {} reais.'.format(valor, total))"
      ],
      "metadata": {
        "colab": {
          "base_uri": "https://localhost:8080/"
        },
        "id": "AtZ-jLCjy3XE",
        "outputId": "9ccfaf54-74ac-46f9-90a7-826d0225d050"
      },
      "execution_count": null,
      "outputs": [
        {
          "output_type": "stream",
          "name": "stdout",
          "text": [
            "========= LOJAS NANDA MARQUES ==========\n",
            "Qual valor do produto? R$ 100\n",
            " \n",
            "Qual sua forma de pagamento?\n",
            "\n",
            "[1] dinheiro, pix ou cheque\n",
            "[2] cartão à vista\n",
            "[3] cartão 2x\n",
            "[4] acima de 3x no cartão\n",
            " \n",
            "Qual é a opção? 2\n",
            "Sua compra de R$ 100.00 reais vai custar R$ 95.0 reais.\n"
          ]
        }
      ]
    },
    {
      "cell_type": "code",
      "source": [
        "print('{:=^40}'.format(' LOJAS NANDA MARQUES ')) #^ centraliza a str em 40 espaços\n",
        "valor = float(input('Qual valor do produto? R$ '))\n",
        "print(' ')\n",
        "pag = str(input('Qual sua forma de pagamento? Dinheiro, pix, cheque,\\ncartão à vista, cartão 2x ou acima de 3x no cartão? ')).strip().lower()\n",
        "print (' ')\n",
        "if pag == 'dinheiro' or pag == 'cheque' or pag == 'pix':\n",
        "  print('Pagamentos em pix, dinheiro ou cheque você tem 10% e pagará apenas R$ {:.2f} pelo seu produto.'.format(valor*0.90))\n",
        "\n",
        "elif pag == 'cartão à vista' or pag == 'cartao a vista' or pag == 'cartão a vista' or pag == 'cartão á vista':\n",
        "  print('Pagamentos à vista no cartão você tem 5% de desconto e pagará apenas R$ {:.2f} pelo seu produto.'.format(valor*0.95))\n",
        "\n",
        "elif pag == 'cartão 2x' or pag == 'cartao 2x' or pag == '2x cartão' or pag == '2x cartao':\n",
        "  print('Você pagará apenas 2 parcelas de R$ {:.2f} pelo seu produto.'.format(valor / 2))\n",
        "\n",
        "elif pag == 'cartão 3x' or pag == 'cartao 3x' or pag == '3x no cartão' or pag == '3x cartao' or pag == '3x cartão':\n",
        "  par = int(input('Deseja parcelar em quantas vezes? '))\n",
        "  print('Você pagará apenas {} parcelas de R$ {:.2f} pelo seu produto.'.format(par, valor *1.2 / par))\n"
      ],
      "metadata": {
        "colab": {
          "base_uri": "https://localhost:8080/"
        },
        "id": "hOejRGfKMMhq",
        "outputId": "bf114df3-3743-44b1-b3dd-347a41505d09"
      },
      "execution_count": null,
      "outputs": [
        {
          "output_type": "stream",
          "name": "stdout",
          "text": [
            "========= LOJAS NANDA MARQUES ==========\n",
            "Qual valor do produto? R$ 200\n",
            " \n",
            "Qual sua forma de pagamento? Dinheiro, pix, cheque,\n",
            "cartão à vista, cartão 2x ou acima de 3x no cartão? 3x no cartão\n",
            " \n",
            "Deseja parcelar em quantas vezes? 5\n",
            "Você pagará apenas 5 parcelas de R$ 48.00 pelo seu produto.\n"
          ]
        }
      ]
    },
    {
      "cell_type": "markdown",
      "source": [
        "Desafio 44 - Crie um programa que faça o computador jogar Jokenpô com você."
      ],
      "metadata": {
        "id": "VSgD6pNhdrLE"
      }
    },
    {
      "cell_type": "code",
      "source": [
        "from random import choice\n",
        "computador = ['Pedra', 'Papel', 'Tesoura']\n",
        "com = choice(computador)\n",
        "jog = str(input('Escolhe pedra, papel ou tesoura? ')).strip().lower()\n",
        "print(' ')\n",
        "print('Eu escolhi {}.'.format(com))\n",
        "print(' ')\n",
        "if com == 'Pedra' and jog == 'tesoura':\n",
        "  print('Eu ganhei!')\n",
        "\n",
        "elif com == 'Tesoura' and jog == 'papel':\n",
        "  print('Eu ganhei!')\n",
        "\n",
        "elif com == 'Papel' and jog == 'Pedra':\n",
        "  print('Eu ganhei!')\n",
        "\n",
        "elif jog == 'papel' and com == 'Pedra':\n",
        "  print('Parabéns! Você ganhou!')\n",
        "\n",
        "elif jog == 'tesoura' and com == 'Papel':\n",
        "  print('Parabéns! Você ganhou!')\n",
        "\n",
        "elif jog == 'pedra' and com == 'Tesoura':\n",
        "  print('Parabéns! Você ganhou!')\n",
        "else:\n",
        "  print('Empate')"
      ],
      "metadata": {
        "colab": {
          "base_uri": "https://localhost:8080/"
        },
        "id": "HbpCBJxEcfCQ",
        "outputId": "3bffe381-b2eb-42f3-dcf5-85511f3742d4"
      },
      "execution_count": null,
      "outputs": [
        {
          "output_type": "stream",
          "name": "stdout",
          "text": [
            "Escolhe pedra, papel ou tesoura?  papel   \n",
            " \n",
            "Eu escolhi Tesoura.\n",
            " \n",
            "Eu ganhei!\n"
          ]
        }
      ]
    },
    {
      "cell_type": "markdown",
      "source": [
        "### Estrutura For - Laços de Repetição (Parte 1)"
      ],
      "metadata": {
        "id": "9KG_lhI7jL3F"
      }
    },
    {
      "cell_type": "code",
      "source": [
        "laço c no intervalo(1, 10): #c é a variável de controle, pode ter qq nome, assim como as outras variáveis\n",
        "  passo\n",
        "pega #(fora da identação, para gerar a ação que desejo)\n",
        "\n",
        "for c in range(1, 10): #intervalo = range"
      ],
      "metadata": {
        "id": "xuEr1X0vkSd7"
      },
      "execution_count": null,
      "outputs": []
    },
    {
      "cell_type": "code",
      "source": [
        "for c in range(0, 6): #começa a contagem em 0 e o último ignora\n",
        "  print(c)\n",
        "print('Fim')"
      ],
      "metadata": {
        "colab": {
          "base_uri": "https://localhost:8080/"
        },
        "id": "rQvHHHZXkVq7",
        "outputId": "20f5829b-51f4-4ba3-9e1d-3d74d65184f8"
      },
      "execution_count": null,
      "outputs": [
        {
          "output_type": "stream",
          "name": "stdout",
          "text": [
            "0\n",
            "1\n",
            "2\n",
            "3\n",
            "4\n",
            "5\n",
            "Fim\n"
          ]
        }
      ]
    },
    {
      "cell_type": "code",
      "source": [
        "for c in range(1, 7): #começa a contagem em 0 e o último ignora, p/ imprimir do 1 até o 6\n",
        "  print(c)\n",
        "print('Fim')"
      ],
      "metadata": {
        "colab": {
          "base_uri": "https://localhost:8080/"
        },
        "id": "H3VxzYZrj-Ms",
        "outputId": "53ec1a71-eea2-472a-81fa-42e34dd74f37"
      },
      "execution_count": null,
      "outputs": [
        {
          "output_type": "stream",
          "name": "stdout",
          "text": [
            "1\n",
            "2\n",
            "3\n",
            "4\n",
            "5\n",
            "6\n",
            "Fim\n"
          ]
        }
      ]
    },
    {
      "cell_type": "code",
      "source": [
        "for c in range(6, 0, -1): #faz a contagem de trás pra frente\n",
        "  print(c)\n",
        "print('Fim')"
      ],
      "metadata": {
        "colab": {
          "base_uri": "https://localhost:8080/"
        },
        "id": "NEgoQN4GkjBr",
        "outputId": "569c0615-3ad5-40c7-fd05-d9937f0968c8"
      },
      "execution_count": null,
      "outputs": [
        {
          "output_type": "stream",
          "name": "stdout",
          "text": [
            "6\n",
            "5\n",
            "4\n",
            "3\n",
            "2\n",
            "1\n",
            "Fim\n"
          ]
        }
      ]
    },
    {
      "cell_type": "code",
      "source": [
        "for c in range(0, 7, 2): #contagem de 0 ate 7 pulando de 2 em 2\n",
        "  print(c)\n",
        "print('Fim')"
      ],
      "metadata": {
        "colab": {
          "base_uri": "https://localhost:8080/"
        },
        "id": "J5c852pakmNt",
        "outputId": "a06a1da7-0a6a-418a-aaf7-23893eae2b08"
      },
      "execution_count": null,
      "outputs": [
        {
          "output_type": "stream",
          "name": "stdout",
          "text": [
            "0\n",
            "2\n",
            "4\n",
            "6\n",
            "Fim\n"
          ]
        }
      ]
    },
    {
      "cell_type": "code",
      "source": [
        "n = int(input('Digite um número: '))\n",
        "for c in range(0, n+1): #n+1 p/ gerar até o número que desejo\n",
        "  print(c)\n",
        "print('Fim')"
      ],
      "metadata": {
        "colab": {
          "base_uri": "https://localhost:8080/"
        },
        "id": "Y_yi_fwUkov3",
        "outputId": "9d89a599-d5fb-49f5-defe-93fd878578e9"
      },
      "execution_count": null,
      "outputs": [
        {
          "output_type": "stream",
          "name": "stdout",
          "text": [
            "Digite um número: 5\n",
            "0\n",
            "1\n",
            "2\n",
            "3\n",
            "4\n",
            "5\n",
            "Fim\n"
          ]
        }
      ]
    },
    {
      "cell_type": "code",
      "source": [
        "i = int(input('Início: '))\n",
        "f = int(input('Fim: '))\n",
        "p = int(input('Passo: '))\n",
        "for c in range(i, f+1, p):\n",
        "  print(c)\n",
        "print('Fim')"
      ],
      "metadata": {
        "colab": {
          "base_uri": "https://localhost:8080/"
        },
        "id": "eOam7CVykrr-",
        "outputId": "0e2aa97b-9f93-48a0-8f6d-f5f926fa21ee"
      },
      "execution_count": null,
      "outputs": [
        {
          "output_type": "stream",
          "name": "stdout",
          "text": [
            "Início: 0\n",
            "Fim: 20\n",
            "Passo: 3\n",
            "0\n",
            "3\n",
            "6\n",
            "9\n",
            "12\n",
            "15\n",
            "18\n",
            "Fim\n"
          ]
        }
      ]
    },
    {
      "cell_type": "code",
      "source": [
        "s = 0\n",
        "for c in range(0, 10): #vai perguntar o valor 10x, pq ignora o último\n",
        "  n = int(input('Digite um valor: '))\n",
        "  s += n #p/ somar tds os valores\n",
        "print('A soma de todos os valores é {}.'.format(s)) #variável s definida no início para conseguir somar\n",
        "print('Fim') #está fora do for, por isso apareceu somente uma vez no final"
      ],
      "metadata": {
        "colab": {
          "base_uri": "https://localhost:8080/"
        },
        "id": "r2NiujSqQ8I5",
        "outputId": "9e97eb90-690d-4e54-8fab-98cea485b62a"
      },
      "execution_count": null,
      "outputs": [
        {
          "output_type": "stream",
          "name": "stdout",
          "text": [
            "Digite um valor: 1\n",
            "Digite um valor: 2\n",
            "Digite um valor: 3\n",
            "Digite um valor: 4\n",
            "Digite um valor: 5\n",
            "Digite um valor: 6\n",
            "Digite um valor: 7\n",
            "Digite um valor: 8\n",
            "Digite um valor: 9\n",
            "Digite um valor: 10\n",
            "A soma de todos os valores é 55.\n",
            "Fim\n"
          ]
        }
      ]
    },
    {
      "cell_type": "markdown",
      "source": [
        "Desafio 45 - Faça um programa que mostre na tela uma contagem regressiva para o estouro de fogos de artifício, indo de 10 até 0, com uma pausa de 1seg entre eles."
      ],
      "metadata": {
        "id": "vDPfvHiCdrXx"
      }
    },
    {
      "cell_type": "code",
      "source": [
        "from time import sleep\n",
        "for c in range(10, -1, -1): #como ignora o último, colocando -1, ele conta até 0\n",
        " print(c)\n",
        " sleep(1) #(0,5)meio segundo\n",
        "print('BUM!! BUM!! POOOW!! FELIZ ANO NOVOOO!!')"
      ],
      "metadata": {
        "colab": {
          "base_uri": "https://localhost:8080/"
        },
        "id": "WHIwMBqQkotl",
        "outputId": "78854e61-ef07-40b3-e2fa-34de55c82e9c"
      },
      "execution_count": null,
      "outputs": [
        {
          "output_type": "stream",
          "name": "stdout",
          "text": [
            "10\n",
            "9\n",
            "8\n",
            "7\n",
            "6\n",
            "5\n",
            "4\n",
            "3\n",
            "2\n",
            "1\n",
            "0\n",
            "BUM!! BUM!! POOOW!! FELIZ ANO NOVOOO!!\n"
          ]
        }
      ]
    },
    {
      "cell_type": "markdown",
      "source": [
        "Desafio 46 - Crie um programa que mostre na tela todos os números pares que estão no intervalo entre 1 e 50."
      ],
      "metadata": {
        "id": "vICmidq9duYG"
      }
    },
    {
      "cell_type": "code",
      "source": [
        "for c in range(2, 51, 2):\n",
        "  print(c, end=', ')\n",
        "print('Fim')"
      ],
      "metadata": {
        "colab": {
          "base_uri": "https://localhost:8080/"
        },
        "id": "BtQS8XPNmjU7",
        "outputId": "022ee3aa-1907-4de2-cd99-16a58ace4d9e"
      },
      "execution_count": null,
      "outputs": [
        {
          "output_type": "stream",
          "name": "stdout",
          "text": [
            "2, 4, 6, 8, 10, 12, 14, 16, 18, 20, 22, 24, 26, 28, 30, 32, 34, 36, 38, 40, 42, 44, 46, 48, 50, Fim\n"
          ]
        }
      ]
    },
    {
      "cell_type": "markdown",
      "source": [
        "Desafio 47 - Faça um programa que calcule a soma entre todos os números ímpares que são múltiplos de três e que se encontram no intervalo de 1 até 500."
      ],
      "metadata": {
        "id": "N3s9mHcUdugz"
      }
    },
    {
      "cell_type": "code",
      "source": [
        "cont = 0\n",
        "soma = 0\n",
        "for c in range(1, 501, 2):\n",
        "  if c % 3 == 0:\n",
        "   cont = cont + 1 #cont += 1 cont recebe ele mesmo e soma com 1, conta a quantidade de números filtrados\n",
        "   soma = soma + c #soma+=c ou seja, soma recebe ele mesmo e soma com c\n",
        "   print(c, end=' ') #p/ mostrar os números\n",
        "print('\\nA soma de todos os {} valores solicitados é {}.'.format(cont, soma)) #p/ mostrar a soma"
      ],
      "metadata": {
        "colab": {
          "base_uri": "https://localhost:8080/"
        },
        "id": "OyTv5I6xnZDj",
        "outputId": "da2bdca6-d696-4945-be91-684bcd90bba2"
      },
      "execution_count": null,
      "outputs": [
        {
          "output_type": "stream",
          "name": "stdout",
          "text": [
            "3 9 15 21 27 33 39 45 51 57 63 69 75 81 87 93 99 105 111 117 123 129 135 141 147 153 159 165 171 177 183 189 195 201 207 213 219 225 231 237 243 249 255 261 267 273 279 285 291 297 303 309 315 321 327 333 339 345 351 357 363 369 375 381 387 393 399 405 411 417 423 429 435 441 447 453 459 465 471 477 483 489 495 \n",
            "A soma de todos os 83 valores solicitados é 20667.\n"
          ]
        }
      ]
    },
    {
      "cell_type": "markdown",
      "source": [
        "Desafio 48 - Refaça o desafio 9, mostrando a tabuada de um número que o usuário escolher, mas utilizando o \"laço for\"."
      ],
      "metadata": {
        "id": "IpT_62hpdu6m"
      }
    },
    {
      "cell_type": "code",
      "source": [
        "a = int(input('Digite um número de 1 a 9: '))\n",
        "for c in range(1, 11):\n",
        "  print(a * c)"
      ],
      "metadata": {
        "colab": {
          "base_uri": "https://localhost:8080/"
        },
        "id": "CjJwcSzce8f0",
        "outputId": "7867e483-e760-407d-d93b-cd18380fc548"
      },
      "execution_count": null,
      "outputs": [
        {
          "output_type": "stream",
          "name": "stdout",
          "text": [
            "Digite um número de 1 a 9: 1\n",
            "1\n",
            "2\n",
            "3\n",
            "4\n",
            "5\n",
            "6\n",
            "7\n",
            "8\n",
            "9\n",
            "10\n"
          ]
        }
      ]
    },
    {
      "cell_type": "code",
      "source": [
        "a = int(input('Digite um número e veja sua tabuada: '))\n",
        "for c in range(1, 11):\n",
        "  print('{} x {} = {}'.format(a, c, (a*c)))"
      ],
      "metadata": {
        "colab": {
          "base_uri": "https://localhost:8080/"
        },
        "id": "U6rBRSZngdpa",
        "outputId": "cac91b0b-d8c4-4ac8-be9a-b13d80d6bccb"
      },
      "execution_count": null,
      "outputs": [
        {
          "output_type": "stream",
          "name": "stdout",
          "text": [
            "Digite um número e veja sua tabuada: 45\n",
            "45 x 1 = 45\n",
            "45 x 2 = 90\n",
            "45 x 3 = 135\n",
            "45 x 4 = 180\n",
            "45 x 5 = 225\n",
            "45 x 6 = 270\n",
            "45 x 7 = 315\n",
            "45 x 8 = 360\n",
            "45 x 9 = 405\n",
            "45 x 10 = 450\n"
          ]
        }
      ]
    },
    {
      "cell_type": "markdown",
      "source": [
        "Desafio 49 - Desenvolva um programa que leia seis números inteiros e mostre a soma apenas daqueles que forem pares. Se o valor digitado for ímpar, desconsidere-o."
      ],
      "metadata": {
        "id": "z03Pl6Exdu_9"
      }
    },
    {
      "cell_type": "code",
      "source": [
        "s = 0\n",
        "for c in range(1, 7):\n",
        "  n = int(input('Digite um número inteiro: '))\n",
        "  if n % 2 == 0:\n",
        "    s += n #s recebe s e soma com n\n",
        "print('='*53)\n",
        "print('O resultado da soma dos números pares digitados é {}.'.format(s))\n"
      ],
      "metadata": {
        "colab": {
          "base_uri": "https://localhost:8080/"
        },
        "id": "LAZqMR7LqoJy",
        "outputId": "0a7fd6b9-a1e1-4656-abac-6bde41f973d7"
      },
      "execution_count": null,
      "outputs": [
        {
          "output_type": "stream",
          "name": "stdout",
          "text": [
            "Digite um número inteiro: 1\n",
            "Digite um número inteiro: 1\n",
            "Digite um número inteiro: 1\n",
            "Digite um número inteiro: 1\n",
            "Digite um número inteiro: 1\n",
            "Digite um número inteiro: 2\n",
            "=====================================================\n",
            "O resultado da soma dos números pares digitados é 2.\n"
          ]
        }
      ]
    },
    {
      "cell_type": "markdown",
      "source": [
        "Desafio 50 - Desenvolva um programa que leia o primeiro termo e a razão de uma PA. No final, mostra os 10 primeiros termos dessa progressão."
      ],
      "metadata": {
        "id": "8ydSXfQXVRcM"
      }
    },
    {
      "cell_type": "code",
      "source": [
        "pt = int(input('Primeiro termo: '))\n",
        "razão = int(input('Razão: '))\n",
        "décimo = pt + (10 - 1) * razão\n",
        "for c in range(pt, décimo + razão, razão):\n",
        "  soma = 0 + c\n",
        "  cont = 1 + c\n",
        "  print('{} '.format(c),end=' ')\n"
      ],
      "metadata": {
        "colab": {
          "base_uri": "https://localhost:8080/"
        },
        "id": "jkacdt_TtxGK",
        "outputId": "6ba7bb40-5e62-406d-de01-7e5cbe6a6b2a"
      },
      "execution_count": null,
      "outputs": [
        {
          "output_type": "stream",
          "name": "stdout",
          "text": [
            "Primeiro termo: 5\n",
            "Razão: 5\n",
            "5  10  15  20  25  30  35  40  45  50  "
          ]
        }
      ]
    },
    {
      "cell_type": "markdown",
      "source": [
        "Desafio 51 - Desenvolva um programa que leia um número inteiro e diga se ele é ou não um número primo."
      ],
      "metadata": {
        "id": "MbQ4bv3oV-G9"
      }
    },
    {
      "cell_type": "code",
      "source": [
        "np = int(input('Digite um numero para verificarmos: '))\n",
        "contprimo = 0\n",
        "\n",
        "for c in range (2,np+1):\n",
        "    if np%c == 0:\n",
        "        print(f'O numero {np} é divisível por {c}.')\n",
        "        contprimo += 1\n",
        "    else:\n",
        "        np%c == 1\n",
        "        print(f'O numero {np} não é divisível por {c}.')\n",
        "\n",
        "if contprimo >= 2:\n",
        "    print (f'O numero {np} não é um numero primo.')\n",
        "else:\n",
        "    print (f'O numero {np} é um numero primo.')"
      ],
      "metadata": {
        "colab": {
          "base_uri": "https://localhost:8080/"
        },
        "id": "KsWG_74jAQAT",
        "outputId": "01abce86-5387-4cb8-8e56-0f913a97fb8b"
      },
      "execution_count": null,
      "outputs": [
        {
          "output_type": "stream",
          "name": "stdout",
          "text": [
            "Digite um numero para verificarmos: 17\n",
            "O numero 17 não é divisível por 2.\n",
            "O numero 17 não é divisível por 3.\n",
            "O numero 17 não é divisível por 4.\n",
            "O numero 17 não é divisível por 5.\n",
            "O numero 17 não é divisível por 6.\n",
            "O numero 17 não é divisível por 7.\n",
            "O numero 17 não é divisível por 8.\n",
            "O numero 17 não é divisível por 9.\n",
            "O numero 17 não é divisível por 10.\n",
            "O numero 17 não é divisível por 11.\n",
            "O numero 17 não é divisível por 12.\n",
            "O numero 17 não é divisível por 13.\n",
            "O numero 17 não é divisível por 14.\n",
            "O numero 17 não é divisível por 15.\n",
            "O numero 17 não é divisível por 16.\n",
            "O numero 17 é divisível por 17.\n",
            "O numero 17 é um numero primo.\n"
          ]
        }
      ]
    },
    {
      "cell_type": "code",
      "source": [
        "for c in range(1):\n",
        "n = int(input('Digite um número inteiro: '))\n",
        "  if n==2 or n==3 or n==5 or n==7:\n",
        "   print('O número {} é um número primo!'.format(n))\n",
        "\n",
        "  elif n%2==0 or n%3==0 or n%5==0 or n%7==0:\n",
        "   print('O número {} não é um número primo!'.format(n))\n",
        "\n",
        "  else:\n",
        "   print('O número {} é um número primo!'.format(n))"
      ],
      "metadata": {
        "colab": {
          "base_uri": "https://localhost:8080/"
        },
        "id": "HMr2yBcz2JFi",
        "outputId": "c1278950-c448-414f-96d9-b558bd5e6b03"
      },
      "execution_count": null,
      "outputs": [
        {
          "output_type": "stream",
          "name": "stdout",
          "text": [
            "Digite um número inteiro: 13\n",
            "O número 13 é um número primo!\n"
          ]
        }
      ]
    },
    {
      "cell_type": "markdown",
      "source": [
        "Desafio 52 - Desenvolva um programa que leia uma frase e diga se ela é um palíndromo, desconsiderando os espaços.\n",
        "OBS.: Frase que pode ser lida detrás para frete e continua com o mesmo sentido.\n",
        "Ex.:\n",
        "Apos a sopa\n",
        "A sacada da casa\n",
        "a torre da derrota\n",
        "o lobo ama o bolo"
      ],
      "metadata": {
        "id": "D7hPDqc7WSb9"
      }
    },
    {
      "cell_type": "code",
      "source": [
        "frase = str(input('Digite uma frase: ')).strip().upper()\n",
        "palavras = frase.split()\n",
        "junto = ''.join(palavras)\n",
        "inverso = ''\n",
        "for letra in range(len(junto)-1, -1, -1):\n",
        "  inverso += junto[letra]\n",
        "print(junto, inverso)"
      ],
      "metadata": {
        "colab": {
          "base_uri": "https://localhost:8080/"
        },
        "id": "qDDnXWH6E1XA",
        "outputId": "0313cbd5-6698-4575-82b5-71271069edcf"
      },
      "execution_count": null,
      "outputs": [
        {
          "output_type": "stream",
          "name": "stdout",
          "text": [
            "Digite uma frase: Apos a sopa\n",
            "APOSASOPA APOSASOPA\n"
          ]
        }
      ]
    },
    {
      "cell_type": "markdown",
      "source": [
        "Desafio 53 - Desenvolva um programa que leia o ano de nascimento de sete pessoas. No final, mostre quantas pessoas ainda não atingiram a maioridade e quantas já atingiram. Considere a maioridade com 21 anos."
      ],
      "metadata": {
        "id": "nXQ1n4UxXC9g"
      }
    },
    {
      "cell_type": "code",
      "source": [
        "from datetime import date #p/ pegar o ano atual\n",
        "atual = date.today().year\n",
        "totmenor = 0\n",
        "totmaior = 0\n",
        "for c in range(0, 7):\n",
        "  ano = int(input('Digite seu ano de nascimento: '))\n",
        "  if atual - ano < 21:\n",
        "    totmenor += 1\n",
        "  elif atual - ano >=21:\n",
        "    totmaior += 1\n",
        "print('Ao todo tivemos {} menores de idade e {} maiores de idade.'.format(totmenor, totmaior))\n"
      ],
      "metadata": {
        "colab": {
          "base_uri": "https://localhost:8080/"
        },
        "id": "fUbpNE-_2B55",
        "outputId": "a4fb9d0b-c49d-4c62-c2dc-5585dd1b1ae8"
      },
      "execution_count": null,
      "outputs": [
        {
          "output_type": "stream",
          "name": "stdout",
          "text": [
            "Digite seu ano de nascimento: 1991\n",
            "Digite seu ano de nascimento: 1990\n",
            "Digite seu ano de nascimento: 1985\n",
            "Digite seu ano de nascimento: 2004\n",
            "Digite seu ano de nascimento: 2014\n",
            "Digite seu ano de nascimento: 2012\n",
            "Digite seu ano de nascimento: 2010\n",
            "Ao todo tivemos 4 menores de idade e 3 maiores de idade.\n"
          ]
        }
      ]
    },
    {
      "cell_type": "markdown",
      "source": [
        "Desafio 54 - Desenvolva um programa que leia o peso de cinco pessoas. No final mostre qual foi o maior e o menor peso lidos."
      ],
      "metadata": {
        "id": "P0FjGsnqXqaz"
      }
    },
    {
      "cell_type": "code",
      "source": [
        "maior = 0\n",
        "menor = 0\n",
        "for p in range(1, 6):\n",
        "  peso = float(input('Digite seu peso: '))\n",
        "  if p == 1:\n",
        "    maior = peso\n",
        "    menor = peso\n",
        "\n",
        "  else:\n",
        "    if peso > maior:\n",
        "      maior = peso\n",
        "    if peso < menor:\n",
        "      menor = peso\n",
        "\n",
        "print('O menor peso lido foi {} kg.'.format(menor))\n",
        "print('O maior peso lido foi {} kg.'.format(maior))"
      ],
      "metadata": {
        "id": "VRF3fOH3_QX1",
        "colab": {
          "base_uri": "https://localhost:8080/"
        },
        "outputId": "c489db15-8d24-470b-f4a4-b821e53a074c"
      },
      "execution_count": null,
      "outputs": [
        {
          "output_type": "stream",
          "name": "stdout",
          "text": [
            "Digite seu peso: 25\n",
            "Digite seu peso: 37\n",
            "Digite seu peso: 60\n",
            "Digite seu peso: 75\n",
            "Digite seu peso: 95\n",
            "O menor peso lido foi 25.0 kg.\n",
            "O maior peso lido foi 95.0 kg.\n"
          ]
        }
      ]
    },
    {
      "cell_type": "markdown",
      "source": [
        "Desafio 55 - Desenvolva um programa que leia o nome, idade e sexo de 4 pessoas. No final do programa, mostre:\n",
        "\n",
        "- A média de idade do grupo;\n",
        "- O nome do homem mais velho;\n",
        "- Quantas mulheres tem menos de 20 anos."
      ],
      "metadata": {
        "id": "sSQk3RPqX7MZ"
      }
    },
    {
      "cell_type": "code",
      "source": [
        "mi = 0 #média idade\n",
        "si = 0 #soma idade\n",
        "maioridadehomem = 0\n",
        "nomevelho = ''\n",
        "mulhermenos20 = 0\n",
        "\n",
        "for p in range(1, 5):\n",
        "  print('{:-^20}'.format('{}ª PESSOA').format(p))\n",
        "\n",
        "  nome = str(input('Nome: ')).strip()\n",
        "  idade = int(input('Idade: '))\n",
        "  sexo = str(input('Sexo [M/F]: ')).strip()\n",
        "  si += idade\n",
        "  print(' ')\n",
        "  if p == 1 and sexo in 'Mm':\n",
        "    maioridadehomem = idade\n",
        "    nomevelho = nome\n",
        "  if sexo in 'Mm' and idade > maioridadehomem:\n",
        "    maioridadehomem = idade\n",
        "    nomevelho = nome\n",
        "  if sexo in 'Ff' and idade < 20:\n",
        "    mulhermenos20 += 1\n",
        "\n",
        "mi = si / 4\n",
        "print(' ')\n",
        "print('A média de idade do grupo é de {} anos'.format(mi))\n",
        "print('O homem mais velho se chama {} e tem {} anos.'.format(nomevelho, maioridadehomem))\n",
        "print('{} mulheres tem menos de 20 anos.'.format(mulhermenos20))"
      ],
      "metadata": {
        "colab": {
          "base_uri": "https://localhost:8080/"
        },
        "id": "bX_y6-yDPdG4",
        "outputId": "2c111510-be9d-4e5a-9104-2aab3c5bcf62"
      },
      "execution_count": null,
      "outputs": [
        {
          "output_type": "stream",
          "name": "stdout",
          "text": [
            "-----1ª PESSOA-----\n",
            "Nome: Amanda\n",
            "Idade: 18\n",
            "Sexo [M/F]: f\n",
            " \n",
            "-----2ª PESSOA-----\n",
            "Nome: Pedro\n",
            "Idade: 35\n",
            "Sexo [M/F]: m\n",
            " \n",
            "-----3ª PESSOA-----\n",
            "Nome: Juliana\n",
            "Idade: 70\n",
            "Sexo [M/F]: M\n",
            " \n",
            "-----4ª PESSOA-----\n",
            "Nome: João\n",
            "Idade: 10\n",
            "Sexo [M/F]: M\n",
            " \n",
            " \n",
            "A média de idade do grupo é de 33.25 anos\n",
            "O homem mais velho se chama Juliana e tem 70 anos.\n",
            "1 mulheres tem menos de 20 anos.\n"
          ]
        }
      ]
    },
    {
      "cell_type": "markdown",
      "source": [
        "### Aula 14 – Estrutura While - Laços de repetição (Parte 2)"
      ],
      "metadata": {
        "id": "qGrqCFM-VlA-"
      }
    },
    {
      "cell_type": "code",
      "source": [
        "c=1\n",
        "\n",
        "while c !=10: #while = enquanto\n",
        "print(c)\n",
        "\n",
        "c+=1\n",
        "\n",
        "print('Acabou!')"
      ],
      "metadata": {
        "id": "u6O484ycaWta"
      },
      "execution_count": null,
      "outputs": []
    },
    {
      "cell_type": "code",
      "source": [
        "#For é muito útil quando sei o limite, quando não sei o limite while é melhor"
      ],
      "metadata": {
        "id": "g63ZNS1jl37p"
      },
      "execution_count": null,
      "outputs": []
    },
    {
      "cell_type": "code",
      "source": [
        "#Execute enquanto c for menor que 10, quando c for maior que 10 pare\n",
        "c = 1\n",
        "while c < 10:\n",
        "  print(c)\n",
        "  c = c +1\n",
        "print('Fim')"
      ],
      "metadata": {
        "colab": {
          "base_uri": "https://localhost:8080/"
        },
        "id": "9jAlvXjpkky-",
        "outputId": "89454c47-70ea-4ae0-823e-5ed23f61a6a8"
      },
      "execution_count": null,
      "outputs": [
        {
          "output_type": "stream",
          "name": "stdout",
          "text": [
            "1\n",
            "2\n",
            "3\n",
            "4\n",
            "5\n",
            "6\n",
            "7\n",
            "8\n",
            "9\n",
            "Fim\n"
          ]
        }
      ]
    },
    {
      "cell_type": "markdown",
      "source": [
        "Desafio 56 - Desenvolva um programa que leia o sexo de uma pessoa, mas só aceita os valores 'M' ou 'F'. Caso esteja errado, peça a digitação novamente até ter um valor correto."
      ],
      "metadata": {
        "id": "RMaOWPEBiojQ"
      }
    },
    {
      "cell_type": "code",
      "source": [
        "sexo = str(input('Informe seu sexo: F/M? ')).strip().upper()[0] #[0] é um fatiamento e lê apenas a primeira letra\n",
        "while sexo not in 'MF': #enquanto sexo não aparecer F ou M, continue\n",
        "  sexo = str(input('Houve um erro, por favor confira sua resposta e digite novamente. Sexo F/M? ')).strip().upper()[0]\n",
        "\n",
        "print('Sexo {}. Obrigada por preencher!'.format(sexo))"
      ],
      "metadata": {
        "colab": {
          "base_uri": "https://localhost:8080/"
        },
        "id": "-48MhMgNa0Gz",
        "outputId": "5deca3ff-6988-4bd6-d608-fb0efb734d40"
      },
      "execution_count": null,
      "outputs": [
        {
          "output_type": "stream",
          "name": "stdout",
          "text": [
            "Informe seu sexo: F/M? D\n",
            "Houve um erro, por favor confira sua resposta e digite novamente. Sexo F/M? E\n",
            "Houve um erro, por favor confira sua resposta e digite novamente. Sexo F/M? y\n",
            "Houve um erro, por favor confira sua resposta e digite novamente. Sexo F/M? t\n",
            "Houve um erro, por favor confira sua resposta e digite novamente. Sexo F/M? i\n",
            "Houve um erro, por favor confira sua resposta e digite novamente. Sexo F/M? f\n",
            "Sexo F. Obrigada por preencher!\n"
          ]
        }
      ]
    },
    {
      "cell_type": "markdown",
      "source": [
        "Desafio 57 - Melhore o jogo do DESAFIO 28 onde o computador vai pensar em um número entre 0 e 10. Mas agora o jogador vai tentar adivinhar até acertar, mostrando no final quantos palpites foram necessários para vencer."
      ],
      "metadata": {
        "id": "1b_gvZWYjh17"
      }
    },
    {
      "cell_type": "code",
      "source": [
        "from random import randint\n",
        "#from time import sleep\n",
        "palpites = 0\n",
        "numero_aleatorio = randint(1, 10) #randint não ignora o último número\n",
        "print('Sou seu computador...\\nAcabei de pensar em um número de 1 a 10.\\nSerá que você consegue advinhar qual foi?')\n",
        "print('-'*50)\n",
        "while jogador != numero_aleatorio:\n",
        "  jogador = int(input('Qual seu palpite? '))\n",
        "  #numero_aleatorio = int(input('Você errou! Tente novamente: '))\n",
        "  palpites += 1\n",
        "\n",
        "print('Parabéns você acertou com {} tentativas! Nós pensamos no número {}!'.format(palpites, jogador))"
      ],
      "metadata": {
        "colab": {
          "base_uri": "https://localhost:8080/"
        },
        "id": "7WoUBq6ciYr8",
        "outputId": "8c755bd7-579f-4d11-df9a-34b44257b9c6"
      },
      "execution_count": null,
      "outputs": [
        {
          "output_type": "stream",
          "name": "stdout",
          "text": [
            "Sou seu computador...\n",
            "Acabei de pensar em um número de 1 a 10.\n",
            "Será que você consegue advinhar qual foi?\n",
            "--------------------------------------------------\n",
            "Qual seu palpite? 1\n",
            "Qual seu palpite? 8\n",
            "Qual seu palpite? 7\n",
            "Qual seu palpite? 6\n",
            "Qual seu palpite? 5\n",
            "Qual seu palpite? 4\n",
            "Qual seu palpite? 3\n",
            "Qual seu palpite? 2\n",
            "Qual seu palpite? 10\n",
            "Parabéns você acertou com 9 tentativas! Nós pensamos no número 10!\n"
          ]
        }
      ]
    },
    {
      "cell_type": "code",
      "source": [
        "#outra opção\n",
        "from random import randint\n",
        "com = randint(1, 10)\n",
        "print('Sou seu computador...\\nAcabei de pensar em um número de 1 a 10.\\nSerá que você consegue advinhar qual foi?')\n",
        "print('-'*40)\n",
        "palpites = 0\n",
        "while com != jogador:\n",
        "  jogador = int(input('Qual seu palpite? ')) #esse comando que precisa repetir, por isso ele precisa ficar dentro do while\n",
        "  palpites += 1\n",
        "  if jogador == com:\n",
        "    acertou = True\n",
        "  elif com < jogador:\n",
        "   print('Você errou! O número que eu pensei é menor')\n",
        "  elif com > jogador:\n",
        "   print('Você errou! O número que eu pensei é maior')\n",
        "print('Parabéns você acertou! Com {} tentativas! Nós dois pensamos no número {}!'.format(palpites, jogador))"
      ],
      "metadata": {
        "colab": {
          "base_uri": "https://localhost:8080/"
        },
        "outputId": "fb318df1-0a28-40b6-bc24-ae2d4c194b94",
        "id": "A1cSkoSneXaE"
      },
      "execution_count": null,
      "outputs": [
        {
          "output_type": "stream",
          "name": "stdout",
          "text": [
            "Sou seu computador...\n",
            "Acabei de pensar em um número de 1 a 10.\n",
            "Será que você consegue advinhar qual foi?\n",
            "----------------------------------------\n",
            "Qual seu palpite? 1\n",
            "Você errou! O número que eu pensei é maior\n",
            "Qual seu palpite? 8\n",
            "Você errou! O número que eu pensei é menor\n",
            "Qual seu palpite? 4\n",
            "Parabéns você acertou! Com 3 tentativas! Nós dois pensamos no número 4!\n"
          ]
        }
      ]
    },
    {
      "cell_type": "code",
      "source": [
        "#outra opção\n",
        "from random import randint\n",
        "com = randint(1, 10)\n",
        "print('Sou seu computador...\\nAcabei de pensar em um número de 1 a 10.\\nSerá que você consegue advinhar qual foi?')\n",
        "print('-'*40)\n",
        "acertou = False\n",
        "palpites = 0\n",
        "while not acertou:\n",
        "  jogador = int(input('Qual seu palpite? ')) #esse comando que precisa repetir, por isso ele precisa ficar dentro do while\n",
        "  palpites += 1\n",
        "  if jogador == com:\n",
        "    acertou = True\n",
        "  else:\n",
        "    if com < jogador:\n",
        "     print('Você errou! O número que eu pensei é menor')\n",
        "    elif com > jogador:\n",
        "     print('Você errou! O número que eu pensei é maior')\n",
        "print('Parabéns você acertou! Com {} tentativas! Nós dois pensamos no número {}!'.format(palpites, jogador))"
      ],
      "metadata": {
        "colab": {
          "base_uri": "https://localhost:8080/"
        },
        "outputId": "071ab450-95c8-41b5-aefc-d5a1bb889e55",
        "id": "EF27WbrBnUTZ"
      },
      "execution_count": null,
      "outputs": [
        {
          "output_type": "stream",
          "name": "stdout",
          "text": [
            "Sou seu computador...\n",
            "Acabei de pensar em um número de 1 a 10.\n",
            "Será que você consegue advinhar qual foi?\n",
            "----------------------------------------\n",
            "Qual seu palpite? 1\n",
            "Você errou! O número que eu pensei é maior\n",
            "Qual seu palpite? 1\n",
            "Você errou! O número que eu pensei é maior\n",
            "Qual seu palpite? 5\n",
            "Parabéns você acertou! Com 3 tentativas! Nós dois pensamos no número 5!\n"
          ]
        }
      ]
    },
    {
      "cell_type": "markdown",
      "source": [
        "Desafio 58 - Desenvolva um programa que leia 2 valores e mostre um menu na tela:\n",
        "\n",
        "[1] somar\n",
        "\n",
        "[2] multiplicar\n",
        "\n",
        "[3] maior\n",
        "\n",
        "[4] novos números\n",
        "\n",
        "[5] sair do programa\n",
        "\n",
        "Seu programa deverá realizar a operação solicitada em cada caso."
      ],
      "metadata": {
        "id": "W62lF3mbi4O_"
      }
    },
    {
      "cell_type": "code",
      "source": [
        "num1 = int(input('Olá! Sou seu computador! Digite o primeiro número: '))\n",
        "num2 = int(input('Digite o segundo número: '))\n",
        "opção = 0 #contador que irá definir a repetição ou não do while, p/ rodar opção não pode ser igual a 5\n",
        "while opção !=5: #qnd opção(contador) for igual a 5, encerra a repetição\n",
        "  print('-'*55)\n",
        "  print('''  [1] somar\n",
        "\n",
        "  [2] multiplicar\n",
        "\n",
        "  [3] maior\n",
        "\n",
        "  [4] novos números\n",
        "\n",
        "  [5] sair do programa\n",
        "     ''')\n",
        "  opção = int(input('Escolha uma opção: '))\n",
        "  print(' ')\n",
        "  if opção == 1:\n",
        "    total = num1 + num2\n",
        "    print('O resultado da soma entre {} e {} é {}.'.format(num1, num2, total))\n",
        "  elif opção == 2:\n",
        "    total = num1 * num2\n",
        "    print('O resultado da multiplicação entre {} e {} é {}.'.format(num1, num2, total))\n",
        "  elif opção == 3:\n",
        "    if num1 > num2: #primeiro dentro desse elif, então começa com if\n",
        "      print('O número {} é maior que o número {}.'.format(num1, num2))\n",
        "    if num2 > num1:\n",
        "      print('O número {} é maior que o número {}.'.format(num2, num1))\n",
        "    elif num2 == num1:\n",
        "      print('Os números são iguais.')\n",
        "  elif opção == 4:\n",
        "    num1 = int(input('Digite o primeiro número: '))\n",
        "    num2 = int(input('Digite o segundo valor: '))\n",
        "    print(' ')\n",
        "  elif opção == 5:\n",
        "    print('Fim do programa. Agradeço sua participação!')\n",
        "  else:\n",
        "    print('Opção inválida, por favor digite novamente')\n",
        "    print(' ')"
      ],
      "metadata": {
        "colab": {
          "base_uri": "https://localhost:8080/"
        },
        "id": "9tH0LYXxiMhb",
        "outputId": "760018dd-8e2f-43b7-df9c-0fe30e6e8f7d"
      },
      "execution_count": null,
      "outputs": [
        {
          "output_type": "stream",
          "name": "stdout",
          "text": [
            "Olá! Sou seu computador! Digite o primeiro número: 5\n",
            "Digite o segundo número: 7\n",
            "-------------------------------------------------------\n",
            "  [1] somar\n",
            "\n",
            "  [2] multiplicar\n",
            "\n",
            "  [3] maior\n",
            "\n",
            "  [4] novos números\n",
            "\n",
            "  [5] sair do programa\n",
            "     \n",
            "Escolha uma opção: 1\n",
            " \n",
            "O resultado da soma entre 5 e 7 é 12.\n",
            "-------------------------------------------------------\n",
            "  [1] somar\n",
            "\n",
            "  [2] multiplicar\n",
            "\n",
            "  [3] maior\n",
            "\n",
            "  [4] novos números\n",
            "\n",
            "  [5] sair do programa\n",
            "     \n",
            "Escolha uma opção: 2\n",
            " \n",
            "O resultado da multiplicação entre 5 e 7 é 35.\n",
            "-------------------------------------------------------\n",
            "  [1] somar\n",
            "\n",
            "  [2] multiplicar\n",
            "\n",
            "  [3] maior\n",
            "\n",
            "  [4] novos números\n",
            "\n",
            "  [5] sair do programa\n",
            "     \n",
            "Escolha uma opção: 3\n",
            " \n",
            "O número 7 é maior que o número 5.\n",
            "-------------------------------------------------------\n",
            "  [1] somar\n",
            "\n",
            "  [2] multiplicar\n",
            "\n",
            "  [3] maior\n",
            "\n",
            "  [4] novos números\n",
            "\n",
            "  [5] sair do programa\n",
            "     \n",
            "Escolha uma opção: 4\n",
            " \n",
            "Digite o primeiro número: 8\n",
            "Digite o segundo valor: 8\n",
            " \n",
            "-------------------------------------------------------\n",
            "  [1] somar\n",
            "\n",
            "  [2] multiplicar\n",
            "\n",
            "  [3] maior\n",
            "\n",
            "  [4] novos números\n",
            "\n",
            "  [5] sair do programa\n",
            "     \n",
            "Escolha uma opção: 3\n",
            " \n",
            "Os números são iguais.\n",
            "-------------------------------------------------------\n",
            "  [1] somar\n",
            "\n",
            "  [2] multiplicar\n",
            "\n",
            "  [3] maior\n",
            "\n",
            "  [4] novos números\n",
            "\n",
            "  [5] sair do programa\n",
            "     \n",
            "Escolha uma opção: 5\n",
            " \n",
            "Fim do programa. Agradeço sua participação!\n"
          ]
        }
      ]
    },
    {
      "cell_type": "markdown",
      "source": [
        "Desafio 59 - Desenvolva um programa que leia um número e mostre o seu fatorial.\n",
        "\n",
        "Ex:\n",
        "5! = 5x4x3x2x1 = 120"
      ],
      "metadata": {
        "id": "s6H1jJ-3i4oV"
      }
    },
    {
      "cell_type": "code",
      "source": [
        "# Método sem while e for\n",
        "from math import factorial\n",
        "c = int(input('Digite um número: '))\n",
        "f = factorial(c)\n",
        "print('O fatorial de {} é {}.'.format(c, f))"
      ],
      "metadata": {
        "colab": {
          "base_uri": "https://localhost:8080/"
        },
        "id": "zOBpahnHr99V",
        "outputId": "0b84d3de-7df6-4db9-bcdc-b98660411292"
      },
      "execution_count": null,
      "outputs": [
        {
          "output_type": "stream",
          "name": "stdout",
          "text": [
            "Digite um número: 5\n",
            "O fatorial de 5 é 120.\n"
          ]
        }
      ]
    },
    {
      "cell_type": "code",
      "source": [
        "# Método com while e for\n",
        "from math import factorial\n",
        "n = int(input('Digite um número: '))\n",
        "c = n\n",
        "f = 1\n",
        "while c > 0:\n",
        "  print('{}'.format(c), end='')\n",
        "  print(' x ' if c> 1 else ' = ', end='')\n",
        "  f *= c\n",
        "  c -= 1\n",
        "print('{}'.format(f))"
      ],
      "metadata": {
        "id": "8CPalmsUjlz5",
        "colab": {
          "base_uri": "https://localhost:8080/"
        },
        "outputId": "0b35a6fc-95cd-42c9-b48b-82c00bddb975"
      },
      "execution_count": null,
      "outputs": [
        {
          "output_type": "stream",
          "name": "stdout",
          "text": [
            "Digite um número: 3\n",
            "3 x 2 x 1 = 6\n"
          ]
        }
      ]
    },
    {
      "cell_type": "markdown",
      "source": [
        "Desafio 60 - Melhore o DESAFIO 51, lendo o primeiro termo e a razão de uma PA, mostrando os 10 primeiros termos da progressão usando while."
      ],
      "metadata": {
        "id": "caWzV8Y0izwr"
      }
    },
    {
      "cell_type": "code",
      "source": [
        "print('Gerador de PA')\n",
        "print('-='*10)\n",
        "primeiro = int(input('Primeiro termo: '))\n",
        "razão = int(input('Razão de PA: '))\n",
        "cont = 1\n",
        "termo = primeiro\n",
        "print('-='*27)\n",
        "while cont <= 10: #enquanto o contador for menor ou igual a 10, ou seja, enquanto ele não chegar a 10 ele vai mostrar o termo\n",
        "  print('{} - '.format(termo), end='')\n",
        "  termo += razão #termo = termo + razão\n",
        "  cont += 1\n",
        "print('Fim')"
      ],
      "metadata": {
        "id": "e6xNt-tAQO98",
        "colab": {
          "base_uri": "https://localhost:8080/"
        },
        "outputId": "26bb1a6d-359c-4c6b-b8d0-eb854b108c87"
      },
      "execution_count": null,
      "outputs": [
        {
          "output_type": "stream",
          "name": "stdout",
          "text": [
            "Gerador de PA\n",
            "-=-=-=-=-=-=-=-=-=-=\n",
            "Primeiro termo: 2\n",
            "Razão de PA: 2\n",
            "-=-=-=-=-=-=-=-=-=-=-=-=-=-=-=-=-=-=-=-=-=-=-=-=-=-=-=\n",
            "2 - 4 - 6 - 8 - 10 - 12 - 14 - 16 - 18 - 20 - Fim\n"
          ]
        }
      ]
    },
    {
      "cell_type": "markdown",
      "source": [
        "Desafio 61 - Melhore o DESAFIO 60, perguntando para o usuário se ele quer mostrar mais alguns termos. O programa encerra quando ele disser que quer mostrar 0 termos."
      ],
      "metadata": {
        "id": "CNunb-i8leWL"
      }
    },
    {
      "cell_type": "code",
      "source": [
        "print('Gerador de PA')\n",
        "print('-='*10)\n",
        "primeiro = int(input('Primeiro termo: '))\n",
        "razão = int(input('Razão de PA: '))\n",
        "termo = primeiro\n",
        "cont = 1\n",
        "total = 0\n",
        "mais = 10\n",
        "print('-='*27)\n",
        "while mais != 0:\n",
        "    total += mais #total = total + mais\n",
        "    while cont <= total:\n",
        "        print('{} - '.format(termo), end='')\n",
        "        termo += razão #termo = termo + razão\n",
        "        cont += 1\n",
        "    print('Pausa')\n",
        "    print(' ')\n",
        "    mais = int(input('Quantos termos você deseja ver? '))\n",
        "\n",
        "print('Progressão finalizada com {} termos mostrados.'.format(cont))"
      ],
      "metadata": {
        "colab": {
          "base_uri": "https://localhost:8080/"
        },
        "id": "gH2NmUHBnka9",
        "outputId": "274479cc-d82b-4a65-fa31-19998b1aeb65"
      },
      "execution_count": null,
      "outputs": [
        {
          "output_type": "stream",
          "name": "stdout",
          "text": [
            "Gerador de PA\n",
            "-=-=-=-=-=-=-=-=-=-=\n",
            "Primeiro termo: 2\n",
            "Razão de PA: 2\n",
            "-=-=-=-=-=-=-=-=-=-=-=-=-=-=-=-=-=-=-=-=-=-=-=-=-=-=-=\n",
            "2 - 4 - 6 - 8 - 10 - 12 - 14 - 16 - 18 - 20 - Pausa\n",
            " \n",
            "Quantos termos você deseja ver? 4\n",
            "22 - 24 - 26 - 28 - Pausa\n",
            " \n",
            "Quantos termos você deseja ver? 5\n",
            "30 - 32 - 34 - 36 - 38 - Pausa\n",
            " \n",
            "Quantos termos você deseja ver? 9\n",
            "40 - 42 - 44 - 46 - 48 - 50 - 52 - 54 - 56 - Pausa\n",
            " \n",
            "Quantos termos você deseja ver? 7\n",
            "58 - 60 - 62 - 64 - 66 - 68 - 70 - Pausa\n",
            " \n",
            "Quantos termos você deseja ver? 0\n",
            "Progressão finalizada com 36 termos mostrados.\n"
          ]
        }
      ]
    },
    {
      "cell_type": "markdown",
      "source": [
        "Desafio 62 - Desenvolva um programa que leia um número n inteiro e mostre na tela os primeiros elementos de uma Sequência de Fibonacci.\n",
        "\n",
        "Ex:\n",
        "0 - 1 - 1 - 2 - 3 - 5 - 8"
      ],
      "metadata": {
        "id": "39Qy5TYUlepp"
      }
    },
    {
      "cell_type": "code",
      "source": [
        "n = int(input('Quantos termos você quer mostrar? '))\n",
        "t1 = 0\n",
        "t2 = 1\n",
        "print('~'*37)\n",
        "print('{} - {}'.format(t1, t2), end='')\n",
        "cont = 3 #já mostrei o 1º e 2º termos, por isso o contador começou no 3º\n",
        "while cont <= n:\n",
        "  t3 = t1 + t2\n",
        "  print(' - {}'.format(t3), end='')\n",
        "  t1 = t2\n",
        "  t2 = t3\n",
        "  cont += 1\n",
        "print(' - Fim')"
      ],
      "metadata": {
        "colab": {
          "base_uri": "https://localhost:8080/"
        },
        "id": "Gzk2x16Bt7SE",
        "outputId": "179802dd-f101-4a2c-816c-9f13d36ffd76"
      },
      "execution_count": null,
      "outputs": [
        {
          "output_type": "stream",
          "name": "stdout",
          "text": [
            "Quantos termos você quer mostrar? 12\n",
            "~~~~~~~~~~~~~~~~~~~~~~~~~~~~~~~~~~~~~\n",
            "0 - 1 - 1 - 2 - 3 - 5 - 8 - 13 - 21 - 34 - 55 - 89 - Fim\n"
          ]
        }
      ]
    },
    {
      "cell_type": "markdown",
      "source": [
        "Desafio 64 - Desenvolva um programa que leia vários números inteiros pelo teclado. O programa só vai parar quando o usuário digitar o valor 999, que é a condição de parada. No final, mostre quantos números foram digitados e qual foi a soma entre eles (desconsiderando o flag)."
      ],
      "metadata": {
        "id": "61oW08Cslexi"
      }
    },
    {
      "cell_type": "code",
      "source": [
        "cont = 0\n",
        "soma = 0\n",
        "num = 0\n",
        "# num = cont = soma = 0 (substitui as 3 linhas de código pq tds são iguais a 0)\n",
        "num = int(input('Digite um número (999 para parar): '))\n",
        "while num != 999:\n",
        "    cont += 1\n",
        "    soma += num\n",
        "    num = int(input('Digite um número (999 para parar): ')) #repetindo o código, a flag 999 não entra na soma final\n",
        "print('-=-'*24)\n",
        "print('Operação encerrada. Foram digitados {} números, e a soma entre eles é {}.'.format(cont, soma))"
      ],
      "metadata": {
        "id": "rSkvKKmDnxwr",
        "colab": {
          "base_uri": "https://localhost:8080/"
        },
        "outputId": "37807ce6-b070-453b-bf8a-08dfff2b2c6d"
      },
      "execution_count": null,
      "outputs": [
        {
          "output_type": "stream",
          "name": "stdout",
          "text": [
            "Digite um número (999 para parar): 10\n",
            "Digite um número (999 para parar): 15\n",
            "Digite um número (999 para parar): 5\n",
            "Digite um número (999 para parar): 999\n",
            "-=--=--=--=--=--=--=--=--=--=--=--=--=--=--=--=--=--=--=--=--=--=--=--=-\n",
            "Operação encerrada. Foram digitados 3 números, e a soma entre eles é 30.\n"
          ]
        }
      ]
    },
    {
      "cell_type": "markdown",
      "source": [
        "Desafio 65 - Desenvolva um programa que leia vários números inteiros pelo teclado. No final da execução, mostre a média entre todos os valores e qual foi o maior e o menor valor lido. O programa deve perguntar ao usuário se ele quer ou não continuar a digitar valores."
      ],
      "metadata": {
        "id": "kkr7RbLhnyru"
      }
    },
    {
      "cell_type": "code",
      "source": [
        "resp = 'SIM'\n",
        "num = maior = menor = 0\n",
        "soma = cont = 0\n",
        "while resp in 'SIM':\n",
        "  num = int(input('Digite um número: '))\n",
        "  resp = str(input('Deseja digitar outro número? SIM/NÃO ')).upper().strip()\n",
        "  soma += num\n",
        "  cont += 1\n",
        "  if cont == 1:\n",
        "    maior = menor = num\n",
        "  else:\n",
        "    if num > maior:\n",
        "      maior = num\n",
        "    if num < menor:\n",
        "      menor = num\n",
        "print('--'*35)\n",
        "print('Operação encerrada\\nA média entre todos os valores é {:.2f} e você digitou {} números\\nO maior valor foi {} e o menor valor foi {}\\nAgradeço sua participação.'.format(soma/cont, cont, maior, menor))"
      ],
      "metadata": {
        "colab": {
          "base_uri": "https://localhost:8080/"
        },
        "id": "ut1WNp3MxUKG",
        "outputId": "756820ea-86a6-4766-d57b-3aa77cd6cf11"
      },
      "execution_count": null,
      "outputs": [
        {
          "output_type": "stream",
          "name": "stdout",
          "text": [
            "Digite um número: 5\n",
            "Deseja digitar outro número? SIM/NÃO s\n",
            "Digite um número: 9\n",
            "Deseja digitar outro número? SIM/NÃO s\n",
            "Digite um número: 13\n",
            "Deseja digitar outro número? SIM/NÃO s\n",
            "Digite um número: 15\n",
            "Deseja digitar outro número? SIM/NÃO n\n",
            "----------------------------------------------------------------------\n",
            "Operação encerrada\n",
            "A média entre todos os valores é 10.50 e você digitou 4 números\n",
            "O maior valor foi 15 e o menor valor foi 5\n",
            "Agradeço sua participação.\n"
          ]
        }
      ]
    },
    {
      "cell_type": "markdown",
      "source": [
        "###Interrompendo repetições while - Laços de repetição (Parte 3)"
      ],
      "metadata": {
        "id": "rR0yaqxWyVhu"
      }
    },
    {
      "cell_type": "markdown",
      "source": [
        "Nessa aula aprendemos como utilizar a instrução break e os loopings infinitos a favor das nossas estratégias de código. Em alguns casos é preciso interromper um laço no meio do caminho.\n",
        "\n",
        "Também aprendemos como trabalhar com as novas fstrings do Python."
      ],
      "metadata": {
        "id": "oZXAxPNTytwV"
      }
    },
    {
      "cell_type": "code",
      "source": [
        "#comando break interrompe o laço\n",
        "cont = 1\n",
        "while cont <= 10: #se substituir 'cont <= 10:' por 'True:' será um looping infinito, por isso a necessidade do 'Break'\n",
        "  print(cont, '-> ', end='')\n",
        "  cont += 1\n",
        "print('Acabou')"
      ],
      "metadata": {
        "colab": {
          "base_uri": "https://localhost:8080/"
        },
        "id": "Au6QEMN69RKH",
        "outputId": "b4bd51d8-2bf1-4e6d-9244-bf3d21f0bf1f"
      },
      "execution_count": null,
      "outputs": [
        {
          "output_type": "stream",
          "name": "stdout",
          "text": [
            "1 -> 2 -> 3 -> 4 -> 5 -> 6 -> 7 -> 8 -> 9 -> 10 -> Acabou\n"
          ]
        }
      ]
    },
    {
      "cell_type": "code",
      "source": [
        "n = 1 #para o while reconhecer o 'n' no input, precisa definir antes\n",
        "while n != 0: #enquanto n for diferente de 0, continue. P/ dar certo 'n' no while precisa ser diferente do 'n' no início\n",
        "  n = int(input('Digite um número: '))"
      ],
      "metadata": {
        "colab": {
          "base_uri": "https://localhost:8080/"
        },
        "id": "svQspBfNFa6P",
        "outputId": "e28952b1-08fb-489c-b5cb-c4dd01d84ce2"
      },
      "execution_count": null,
      "outputs": [
        {
          "name": "stdout",
          "output_type": "stream",
          "text": [
            "Digite um número: 1\n",
            "Digite um número: 5\n",
            "Digite um número: 999\n",
            "Digite um número: 3\n",
            "Digite um número: 0\n"
          ]
        }
      ]
    },
    {
      "cell_type": "code",
      "source": [
        "n = cont = 0 #para o while reconhecer o 'n' e o 'cont', precisa definir antes\n",
        "while cont < 3: #enquanto o contador for menor que 3, continue\n",
        "  n = int(input('Digite um número: '))\n",
        "  cont += 1 #precisa colocar o cont dentro do while para fazer a contagem"
      ],
      "metadata": {
        "colab": {
          "base_uri": "https://localhost:8080/"
        },
        "id": "yUdzYZZsGaVC",
        "outputId": "ed637994-d7a9-4b84-ce37-2d8aa7a64297"
      },
      "execution_count": null,
      "outputs": [
        {
          "name": "stdout",
          "output_type": "stream",
          "text": [
            "Digite um número: 3\n",
            "Digite um número: 5\n",
            "Digite um número: 88\n"
          ]
        }
      ]
    },
    {
      "cell_type": "code",
      "source": [
        "n = s = 0\n",
        "while n != 999:\n",
        "  n = int(input('Digite um número: '))\n",
        "  s += n #s = soma, ou seja, soma tds os números digitados, mas não queremos que some a flag 999\n",
        "s -= 999 #soma a flag 999, mas subtrai e não aparece no resultado. Funciona mas não é uma boa prática\n",
        "\n",
        "print('A soma de todos os números digitados é {}.'.format(s))"
      ],
      "metadata": {
        "colab": {
          "base_uri": "https://localhost:8080/"
        },
        "id": "mDdOfWpJJHGn",
        "outputId": "0c563f19-c117-4058-f632-77f8c634d600"
      },
      "execution_count": null,
      "outputs": [
        {
          "output_type": "stream",
          "name": "stdout",
          "text": [
            "Digite um número: 5\n",
            "Digite um número: 5\n",
            "Digite um número: 10\n",
            "Digite um número: 999\n",
            "A soma de todos os números digitados é 20.\n"
          ]
        }
      ]
    },
    {
      "cell_type": "code",
      "source": [
        "n = s = 0\n",
        "while True:\n",
        "  n = int(input('Digite um número: '))\n",
        "  if n == 999: #usa o 'True' para definir o while e o break para encerrar, assim ele não soma a flag 999\n",
        "    break\n",
        "  s += n #s = soma, ou seja, soma tds os números digitados, mas não queremos que some a flag 999\n",
        "\n",
        "print('A soma de todos os números digitados é {}.'.format(s))"
      ],
      "metadata": {
        "colab": {
          "base_uri": "https://localhost:8080/"
        },
        "id": "sxRR-1-3KWMq",
        "outputId": "b10e384d-016d-4210-f3fa-57a78dba8660"
      },
      "execution_count": null,
      "outputs": [
        {
          "output_type": "stream",
          "name": "stdout",
          "text": [
            "Digite um número: 5\n",
            "Digite um número: 10\n",
            "Digite um número: 5\n",
            "Digite um número: 8\n",
            "Digite um número: 999\n",
            "A soma de todos os números digitados é 28.\n"
          ]
        }
      ]
    },
    {
      "cell_type": "markdown",
      "source": [
        "Fstrings são uma forma mais simples de usar o format. Coloca o 'f' minúsculo no início e fora das aspas, e o que deseja mostrar dentro da chave.\n",
        "\n",
        "Ex.:\n",
        "print(f'A soma de todos os números digitados é {s}.')\n",
        "\n",
        "(disponíveis a partir de Python 3.6)"
      ],
      "metadata": {
        "id": "8Albl0PNMLqW"
      }
    },
    {
      "cell_type": "code",
      "source": [
        "n = s = 0\n",
        "while True:\n",
        "  n = int(input('Digite um número: '))\n",
        "  if n == 999:\n",
        "    break\n",
        "  s += n\n",
        "print(f'A soma de todos os números digitados é {s}.')"
      ],
      "metadata": {
        "colab": {
          "base_uri": "https://localhost:8080/"
        },
        "id": "IVigM-6QON2L",
        "outputId": "608a7ba7-64e3-45be-d629-9cc57ff1dd24"
      },
      "execution_count": null,
      "outputs": [
        {
          "output_type": "stream",
          "name": "stdout",
          "text": [
            "Digite um número: 5\n",
            "Digite um número: 5\n",
            "Digite um número: 10\n",
            "Digite um número: 10\n",
            "Digite um número: 999\n",
            "A soma de todos os números digitados é 30.\n"
          ]
        }
      ]
    },
    {
      "cell_type": "code",
      "source": [
        "nome = 'José'\n",
        "idade = 33\n",
        "salário = 987.3\n",
        "print(f'O {nome} tem {idade} anos e ganha {salário:.2f}.') #como definir a qnt de casas decimais\n",
        "print('O %s tem %d anos.'% (nome, idade)) #usado no Python 2, não é mais recomendado"
      ],
      "metadata": {
        "colab": {
          "base_uri": "https://localhost:8080/"
        },
        "id": "dVfAQR3nOg3H",
        "outputId": "7e133cf6-24cc-46a8-e39a-29fdec393fa3"
      },
      "execution_count": null,
      "outputs": [
        {
          "output_type": "stream",
          "name": "stdout",
          "text": [
            "O José tem 33 anos e ganha 987.30.\n",
            "O José tem 33 anos.\n"
          ]
        }
      ]
    },
    {
      "cell_type": "code",
      "source": [
        "nome = 'José'\n",
        "idade = 33\n",
        "salário = 987.3\n",
        "print(f'O {nome:-^20} tem {idade} anos e ganha {salário:.2f}.') #p/ centralizar o nome José em 20 caracteres ou 20 espaços"
      ],
      "metadata": {
        "colab": {
          "base_uri": "https://localhost:8080/"
        },
        "id": "N9qgm5UJQyBa",
        "outputId": "c365b863-0976-47bb-e5d7-d9c9f98c34ae"
      },
      "execution_count": null,
      "outputs": [
        {
          "output_type": "stream",
          "name": "stdout",
          "text": [
            "O --------José-------- tem 33 anos e ganha 987.30.\n"
          ]
        }
      ]
    },
    {
      "cell_type": "code",
      "source": [
        "nome = 'José'\n",
        "idade = 33\n",
        "salário = 987.3\n",
        "print(f'O {nome:-<20} tem {idade} anos e ganha {salário:.2f}.') #alinhado a esquerda, o acento circunflexo é para centralizar\n",
        "print(f'O {nome:->20} tem {idade} anos e ganha {salário:.2f}.') #alinhado a direita"
      ],
      "metadata": {
        "colab": {
          "base_uri": "https://localhost:8080/"
        },
        "id": "5_cffch0RUxx",
        "outputId": "45f75582-ef97-4a72-a588-379bc8beda56"
      },
      "execution_count": null,
      "outputs": [
        {
          "output_type": "stream",
          "name": "stdout",
          "text": [
            "O José---------------- tem 33 anos e ganha 987.30.\n",
            "O ----------------José tem 33 anos e ganha 987.30.\n"
          ]
        }
      ]
    },
    {
      "cell_type": "markdown",
      "source": [
        "Desafio 66 - Desenvolva um programa que leia vários números inteiros pelo teclado. O programa só para quando o usuário digitar o valor 999. No final mostre quantos números foram digitados e qual foi a soma entre eles (desconsiderando a flag)."
      ],
      "metadata": {
        "id": "0_gpE02ZSaZ6"
      }
    },
    {
      "cell_type": "code",
      "source": [
        "n = 0\n",
        "cont = 0\n",
        "s = 0\n",
        "while True:\n",
        "  n = int(input('Digite um número: '))\n",
        "  if n == 999:\n",
        "    break\n",
        "  cont += 1 # o cont aqui precisa ser 1, para dar o resultado correto\n",
        "  s += n\n",
        "\n",
        "print(f'Foram digitados {cont} números e soma de todos vale {s}.')"
      ],
      "metadata": {
        "colab": {
          "base_uri": "https://localhost:8080/"
        },
        "id": "a1a8miQozxrP",
        "outputId": "9b248aa7-bbd5-4433-bf8a-5273af6ba606"
      },
      "execution_count": null,
      "outputs": [
        {
          "output_type": "stream",
          "name": "stdout",
          "text": [
            "Digite um número: 5\n",
            "Digite um número: 5\n",
            "Digite um número: 5\n",
            "Digite um número: 999\n",
            "Foram digitados 6 números e soma de todos vale 15.\n"
          ]
        }
      ]
    },
    {
      "cell_type": "markdown",
      "source": [
        "Desafio 67 - Faça um programa que mostre a tabuada de vários números, um de cada vez, para cada valor digitado pelo usuário. O progrma será interrompido quando o número solicitado for negativo."
      ],
      "metadata": {
        "id": "jnL1W-UT7duF"
      }
    },
    {
      "cell_type": "code",
      "source": [
        "n = 0\n",
        "while True:\n",
        "  n = int(input('Quer ver a tabuada de qual valor? '))\n",
        "  print('-'*30)\n",
        "  if n < 0:\n",
        "    break\n",
        "  for c in range(1, 10):\n",
        "    print(f'{n} x {c} = {n*c}')\n",
        "  print('-'*30)\n",
        "print('Programa de tabuada encerrada. Volte sempre.')"
      ],
      "metadata": {
        "id": "dzQ-gDGEJckb",
        "colab": {
          "base_uri": "https://localhost:8080/"
        },
        "outputId": "a59bcc8a-ca5a-4629-de34-0443a509a286"
      },
      "execution_count": null,
      "outputs": [
        {
          "output_type": "stream",
          "name": "stdout",
          "text": [
            "Quer ver a tabuada de qual valor? 8\n",
            "------------------------------\n",
            "8 x 1 = 8\n",
            "8 x 2 = 16\n",
            "8 x 3 = 24\n",
            "8 x 4 = 32\n",
            "8 x 5 = 40\n",
            "8 x 6 = 48\n",
            "8 x 7 = 56\n",
            "8 x 8 = 64\n",
            "8 x 9 = 72\n",
            "------------------------------\n",
            "Quer ver a tabuada de qual valor? 4\n",
            "------------------------------\n",
            "4 x 1 = 4\n",
            "4 x 2 = 8\n",
            "4 x 3 = 12\n",
            "4 x 4 = 16\n",
            "4 x 5 = 20\n",
            "4 x 6 = 24\n",
            "4 x 7 = 28\n",
            "4 x 8 = 32\n",
            "4 x 9 = 36\n",
            "------------------------------\n",
            "Quer ver a tabuada de qual valor? 857\n",
            "------------------------------\n",
            "857 x 1 = 857\n",
            "857 x 2 = 1714\n",
            "857 x 3 = 2571\n",
            "857 x 4 = 3428\n",
            "857 x 5 = 4285\n",
            "857 x 6 = 5142\n",
            "857 x 7 = 5999\n",
            "857 x 8 = 6856\n",
            "857 x 9 = 7713\n",
            "------------------------------\n",
            "Quer ver a tabuada de qual valor? -9\n",
            "------------------------------\n",
            "Programa de tabuada encerrada. Volte sempre.\n"
          ]
        }
      ]
    },
    {
      "cell_type": "markdown",
      "source": [
        "Desafio 68 - Faça um programa que jogue par ou ímpar com o computador. O jogo só será interrompido quando o jogador perder, mostrando o total de vitórias consecutivas que ele conquistou no final do jogo."
      ],
      "metadata": {
        "id": "tG1QLsdT7lfZ"
      }
    },
    {
      "cell_type": "code",
      "source": [
        "from random import randint\n",
        "cont = 0\n",
        "n = 0\n",
        "print('Par ou ímpar')\n",
        "print('Olá! Sou seu computador! Vamos jogar par ou ímpar?')\n",
        "\n",
        "while True:\n",
        "  print('-'*30)\n",
        "  l = str(input('Você escolhe par ou ímpar[P/I]? ')).strip().upper()[0]\n",
        "  n = int(input('Qual número você escolhe? '))\n",
        "  com = randint(0, 10) #randint não ignora o último número\n",
        "  print(f'Eu escolhi o número {com}.')\n",
        "\n",
        "  if (n + com) % 2 == 0 and l == 'P':\n",
        "    print(f'{n} + {com}. Total {n+com} esse número é par! Você ganhou!')\n",
        "  elif (n + com) % 2 != 0 and l == 'I':\n",
        "    print(f'{n} + {com}. Total {n+com} esse número é ímpar! Você ganhou')\n",
        "  elif (n + com) % 2 == 0 and l != 'P':\n",
        "    print(f'{n} + {com}. Total {n+com} esse número é par!!')\n",
        "    break\n",
        "  elif (n + com) % 2 != 0 and l != 'I':\n",
        "    print(f'{n} + {com}. Total {n+com} esse número é ímpar!!')\n",
        "    break\n",
        "  cont +=\n",
        "\n",
        "print('-'*30)\n",
        "print(f'Game Over! Você perdeu! {n} + {com} é {n+com}! Foram {cont} vitórias.')"
      ],
      "metadata": {
        "colab": {
          "base_uri": "https://localhost:8080/"
        },
        "id": "kI9_8xzMzwu2",
        "outputId": "72f787d8-0022-469b-d35a-167b7b2e8804"
      },
      "execution_count": null,
      "outputs": [
        {
          "output_type": "stream",
          "name": "stdout",
          "text": [
            "Par ou ímpar\n",
            "Olá! Sou seu computador! Vamos jogar par ou ímpar?\n",
            "------------------------------\n",
            "Você escolhe par ou ímpar[P/I]? I\n",
            "Qual número você escolhe? 7\n",
            "Eu escolhi o número 8.\n",
            "7 + 8. Total 15 esse número é ímpar! Você ganhou\n",
            "------------------------------\n",
            "Você escolhe par ou ímpar[P/I]? P\n",
            "Qual número você escolhe? 7\n",
            "Eu escolhi o número 9.\n",
            "7 + 9. Total 16 esse número é par! Você ganhou!\n",
            "------------------------------\n",
            "Você escolhe par ou ímpar[P/I]? p\n",
            "Qual número você escolhe? 4\n",
            "Eu escolhi o número 3.\n",
            "4 + 3. Total 7 esse número é ímpar!!\n",
            "------------------------------\n",
            "Game Over! Você perdeu! 4 + 3 é 7! Foram 2 vitórias.\n"
          ]
        }
      ]
    },
    {
      "cell_type": "markdown",
      "source": [
        "Desafio 69 - Crie um programa que leia a idade e o sexo de várias pessoas. A cada pessoa cadastrada, o programa deverá perguntar se o usuário quer ou não continuar. No final, mostre:\n",
        "\n",
        "A) quantas pessoas tem mais de 18 anos.\n",
        "\n",
        "B) quantos homens foram cadastrados.\n",
        "\n",
        "C) quantas mulheres tem menos de 20 anos."
      ],
      "metadata": {
        "id": "k0peRqrP7mTv"
      }
    },
    {
      "cell_type": "code",
      "source": [
        "idade = sexo = 0\n",
        "tot18 = totM = totF20 = 0\n",
        "while True:\n",
        "  print('-'*30)\n",
        "  idade = int(input('Qual sua idade? '))\n",
        "  sexo = ' ' #inicia a variavel com um esoaço vazio\n",
        "  while sexo not in 'FM': #enquanto sexo não for f ou m, continue, caso o usuário digite errado, o programa continua perguntando\n",
        "    sexo = str(input('Qual sexo? F/M ')).strip().upper()[0] #o '0' entre os colchetes seleciona apenas a primeira letra\n",
        "  if sexo == 'M':\n",
        "    totM += 1\n",
        "  if idade >= 18:\n",
        "    tot18 += 1\n",
        "  elif idade < 20 and sexo == 'F':\n",
        "    totF20 += 1\n",
        "\n",
        "  flag = ' '\n",
        "  while flag not in 'SN':\n",
        "    flag = str(input('Deseja cadastrar outra pessoa? S/N ')).strip().upper()[0]\n",
        "  if flag == 'N':\n",
        "      break\n",
        "print('-'*30)\n",
        "print(f'Total de {tot18} pessoas com mais de 18 anos \\nTotal de {totM} homens cadastrados \\nTotal de {totF20} mulheres de abaixo de 20 anos')\n",
        "print('FIM')"
      ],
      "metadata": {
        "colab": {
          "base_uri": "https://localhost:8080/"
        },
        "id": "io2YOQkDd5Oj",
        "outputId": "c701cf36-eaf6-4392-9899-31d1ba0285c8"
      },
      "execution_count": 1,
      "outputs": [
        {
          "output_type": "stream",
          "name": "stdout",
          "text": [
            "------------------------------\n",
            "Qual sua idade? 21\n",
            "Qual sexo? F/M f\n",
            "Deseja cadastrar outra pessoa? S/N s\n",
            "------------------------------\n",
            "Qual sua idade? 25\n",
            "Qual sexo? F/M f\n",
            "Deseja cadastrar outra pessoa? S/N s\n",
            "------------------------------\n",
            "Qual sua idade? 30\n",
            "Qual sexo? F/M m\n",
            "Deseja cadastrar outra pessoa? S/N s\n",
            "------------------------------\n",
            "Qual sua idade? 40\n",
            "Qual sexo? F/M m\n",
            "Deseja cadastrar outra pessoa? S/N n\n",
            "------------------------------\n",
            "Total de 4 pessoas com mais de 18 anos \n",
            "Total de 2 homens cadastrados \n",
            "Total de 0 mulheres de abaixo de 20 anos\n",
            "FIM\n"
          ]
        }
      ]
    },
    {
      "cell_type": "markdown",
      "source": [
        "Desafio 70 - Crie um programa que leia o nome e o preço de vários produtos. O programa deverá perguntar se o usuário vai continuar ou não. No final, mostre:\n",
        "\n",
        "A) qual é o total gasto na compra.\n",
        "\n",
        "B) quantos produtos custam mais de R$1000.\n",
        "\n",
        "C) qual é o nome do produto mais barato."
      ],
      "metadata": {
        "id": "HUfan8lm8RH4"
      }
    },
    {
      "cell_type": "code",
      "source": [
        "total = mais1000 = cont = menor = 0\n",
        "barato = ' ' #variavel vazia para identificar o produto mais barato\n",
        "while True:\n",
        "  produto = str(input('Qual é o produto? '))\n",
        "  preço = float(input('Qual é o preço? R$ '))\n",
        "  cont =+ 1\n",
        "  total += preço\n",
        "\n",
        "\n",
        "  if preço > 1000:\n",
        "    mais1000 += 1\n",
        "\n",
        "  if cont == 1 or preço < menor:\n",
        "    menor = preço\n",
        "    barato = produto\n",
        "\n",
        "  resp = ' '\n",
        "  while resp not in 'SN':\n",
        "    resp = str(input('Quer continuar? S/N ')).strip().upper()[0]\n",
        "  print('-'*30)\n",
        "  if resp == 'N':\n",
        "    break\n",
        "\n",
        "print(f'O valor total da compra é {total} \\nTemos {mais1000} produtos custando mais de R$ 1000,00\\n{barato} é o produto mais barato e custa {menor}.')"
      ],
      "metadata": {
        "colab": {
          "base_uri": "https://localhost:8080/"
        },
        "outputId": "66e4742b-6382-4219-c464-6744544514ed",
        "id": "9nT9oWYIZPyS"
      },
      "execution_count": 12,
      "outputs": [
        {
          "output_type": "stream",
          "name": "stdout",
          "text": [
            "Qual é o produto? Bolsa\n",
            "Qual é o preço? R$ 50\n",
            "Quer continuar? S/N s\n",
            "------------------------------\n",
            "Qual é o produto? Mochila\n",
            "Qual é o preço? R$ 150\n",
            "Quer continuar? S/N s\n",
            "------------------------------\n",
            "Qual é o produto? Notebook\n",
            "Qual é o preço? R$ 2500\n",
            "Quer continuar? S/N s\n",
            "------------------------------\n",
            "Qual é o produto? Impressora\n",
            "Qual é o preço? R$ 1200\n",
            "Quer continuar? S/N s\n",
            "------------------------------\n",
            "Qual é o produto? Caderno\n",
            "Qual é o preço? R$ 15\n",
            "Quer continuar? S/N n\n",
            "------------------------------\n",
            "O valor total da compra é 3915.0 \n",
            "Temos 2 produtos custando mais de R$ 1000,00\n",
            "Caderno é o produto mais barato e custa 15.0.\n"
          ]
        }
      ]
    },
    {
      "cell_type": "markdown",
      "source": [
        "Desafio 71 - Crie um programa que simule o funcionamento de um caixa eletrônico. No início, pergunte ao usuário qual será o valor a ser sacado (número inteiro) e o programa vai informar quantas cédulas de cada valor serão entregues.\n",
        "OBS: considere que o caixa possui cédulas de 50 reais, 20 reais, 10 reais e 1 real."
      ],
      "metadata": {
        "id": "bBktwRmZ8VzU"
      }
    },
    {
      "cell_type": "code",
      "source": [
        "print('-'*30)\n",
        "print('{: ^30}'.format(' Caixa Eletrônico da Nanda'))\n",
        "print('-'*30)\n",
        "num = 0\n",
        "valor = int(input('Deseja sacar qual valor? R$ '))\n",
        "total = valor\n",
        "céd = 50\n",
        "totalcéd = 0\n",
        "  while True:\n",
        "print('{:-^30}'.format(' Fim do programa '))"
      ],
      "metadata": {
        "colab": {
          "base_uri": "https://localhost:8080/"
        },
        "id": "S0JVq8vxwlPT",
        "outputId": "921d91c6-6826-49dc-d0e0-f7a2ab708e1d"
      },
      "execution_count": 34,
      "outputs": [
        {
          "output_type": "stream",
          "name": "stdout",
          "text": [
            "------------------------------\n",
            "   Caixa Eletrônico da Nanda  \n",
            "------------------------------\n",
            "Deseja sacar qual valor? R$ 40\n",
            "------ Fim do programa -------\n"
          ]
        }
      ]
    },
    {
      "cell_type": "markdown",
      "source": [
        "Desafio 7 -"
      ],
      "metadata": {
        "id": "uapLYZMu8WMu"
      }
    },
    {
      "cell_type": "markdown",
      "source": [
        "Desafio 7 -"
      ],
      "metadata": {
        "id": "9cefnNRt8Wau"
      }
    }
  ]
}