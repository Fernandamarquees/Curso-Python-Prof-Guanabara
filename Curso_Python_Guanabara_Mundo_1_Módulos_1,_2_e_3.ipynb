{
  "cells": [
    {
      "cell_type": "markdown",
      "metadata": {
        "id": "view-in-github",
        "colab_type": "text"
      },
      "source": [
        "<a href=\"https://colab.research.google.com/github/Fernandamarquees/Curso-Python-Prof-Guanabara/blob/main/Curso_Python_Guanabara_Mundo_1_M%C3%B3dulos_1%2C_2_e_3.ipynb\" target=\"_parent\"><img src=\"https://colab.research.google.com/assets/colab-badge.svg\" alt=\"Open In Colab\"/></a>"
      ]
    },
    {
      "cell_type": "markdown",
      "metadata": {
        "id": "nrGW0q3a4j_4"
      },
      "source": [
        "#Curso Python Guanabara Mundo 1 - Módulos 1, 2 e 3\n",
        "\n"
      ]
    },
    {
      "cell_type": "markdown",
      "metadata": {
        "id": "Qwpjh3ii6MEJ"
      },
      "source": [
        "### Exercícios iniciais"
      ]
    },
    {
      "cell_type": "markdown",
      "metadata": {
        "id": "0uXU0IGq6rZD"
      },
      "source": [
        "> Obs.: Regra para todas as funções\n",
        "\n",
        "função (string ou números), sempre deve ter a função, em seguida string ou números entre parenteses"
      ]
    },
    {
      "cell_type": "code",
      "execution_count": null,
      "metadata": {
        "colab": {
          "base_uri": "https://localhost:8080/"
        },
        "id": "vtwadLWC4ikc",
        "outputId": "e4636e00-8232-4c27-ab62-1a25e0d236f7"
      },
      "outputs": [
        {
          "name": "stdout",
          "output_type": "stream",
          "text": [
            "Olá Mundo\n"
          ]
        }
      ],
      "source": [
        "print ('Olá Mundo')"
      ]
    },
    {
      "cell_type": "code",
      "execution_count": null,
      "metadata": {
        "id": "8lEqUzSZ4-VR"
      },
      "outputs": [],
      "source": [
        "print (7+4)"
      ]
    },
    {
      "cell_type": "code",
      "execution_count": null,
      "metadata": {
        "colab": {
          "base_uri": "https://localhost:8080/"
        },
        "id": "RxfScl5N44hl",
        "outputId": "ed786a50-b70e-4334-abc4-c72e9b2c9cd8"
      },
      "outputs": [
        {
          "name": "stdout",
          "output_type": "stream",
          "text": [
            "74\n"
          ]
        }
      ],
      "source": [
        "print ('7'+'4') #números entre aspas são strings, o sinal + une os dois números, como mensagem. Pode ser '+' ou vírgula"
      ]
    },
    {
      "cell_type": "code",
      "execution_count": null,
      "metadata": {
        "id": "HzQeDz_j5W5X"
      },
      "outputs": [],
      "source": [
        "print ('Olá '+'Nanda') #para ter espaço entre as palavras, é preciso ter espaço antes das aspas"
      ]
    },
    {
      "cell_type": "code",
      "execution_count": null,
      "metadata": {
        "colab": {
          "base_uri": "https://localhost:8080/"
        },
        "id": "1ewbyMlr50t8",
        "outputId": "5051f071-0062-413c-db3b-a79bc65d2f46"
      },
      "outputs": [
        {
          "name": "stdout",
          "output_type": "stream",
          "text": [
            "Olá Nanda\n"
          ]
        }
      ],
      "source": [
        "print ('Olá','Nanda') #o mesmo exemplo usando vírgula, não precisa do espaço antes das aspas"
      ]
    },
    {
      "cell_type": "code",
      "execution_count": null,
      "metadata": {
        "colab": {
          "base_uri": "https://localhost:8080/"
        },
        "id": "8X0PXO7u6RSl",
        "outputId": "5218c2ef-83c1-4f55-badf-328e59a43dd4"
      },
      "outputs": [
        {
          "name": "stdout",
          "output_type": "stream",
          "text": [
            "Guanabara 25 75.8\n"
          ]
        }
      ],
      "source": [
        "nome = 'Guanabara'\n",
        "idade = 25\n",
        "peso = 75.8\n",
        "print (nome, idade, peso)\n",
        "#por ser string e número apenas a vírgula funciona, sinal '+' retorna erro, pos tentará executar a soma, como no próximo exemplo"
      ]
    },
    {
      "cell_type": "code",
      "execution_count": null,
      "metadata": {
        "colab": {
          "base_uri": "https://localhost:8080/"
        },
        "id": "CcMOp5tU9LN5",
        "outputId": "c9bb1bae-5a6f-4fa4-97dd-b4f02d074f96"
      },
      "outputs": [
        {
          "name": "stdout",
          "output_type": "stream",
          "text": [
            "Guanabara 100.8\n"
          ]
        }
      ],
      "source": [
        "print(nome, (idade + peso)) #outra opção"
      ]
    },
    {
      "cell_type": "markdown",
      "metadata": {
        "id": "uOZnd9me-VV4"
      },
      "source": [
        ">> Função input, serve para perguntar algo ao usuário, assim como print, devemos montar com a mesma base:\n",
        "\n",
        "função (mensagem de interatividade entre aspas), nesse caso colocamos a variavel antes da função para indentificar"
      ]
    },
    {
      "cell_type": "code",
      "execution_count": null,
      "metadata": {
        "colab": {
          "base_uri": "https://localhost:8080/"
        },
        "id": "tsZ8k_Is97r7",
        "outputId": "111092c9-dd25-4d68-8e90-b92584625c46"
      },
      "outputs": [
        {
          "name": "stdout",
          "output_type": "stream",
          "text": [
            "Qual seu nome? Fernanda\n",
            "Qual sua idade? 33 anos\n",
            "Qual seu peso? 60kg\n"
          ]
        }
      ],
      "source": [
        "nome = input('Qual seu nome? ')\n",
        "idade = input('Qual sua idade? ')\n",
        "peso = input('Qual seu peso? ')"
      ]
    },
    {
      "cell_type": "markdown",
      "metadata": {
        "id": "moQH08bKIVBi"
      },
      "source": [
        "Desafio 1 - Crie um script Python que leia o nome de uma pessoa e mostre uma mensagem de boas-vindas, de acordo com o valor digitado."
      ]
    },
    {
      "cell_type": "code",
      "execution_count": null,
      "metadata": {
        "colab": {
          "base_uri": "https://localhost:8080/"
        },
        "id": "XG_t94J7Gxi-",
        "outputId": "e09d2de6-5419-4fac-eba0-ba1cbcb8e311"
      },
      "outputs": [
        {
          "name": "stdout",
          "output_type": "stream",
          "text": [
            "Qual seu nome? Fernanda\n",
            "Olá Fernanda! Prazer em te conhecer!\n"
          ]
        }
      ],
      "source": [
        "nome = input ('Qual seu nome? ')\n",
        "print ('Olá ' + nome +'! Prazer em te conhecer!')"
      ]
    },
    {
      "cell_type": "code",
      "execution_count": null,
      "metadata": {
        "id": "D3gOWhwa7tqo",
        "colab": {
          "base_uri": "https://localhost:8080/"
        },
        "outputId": "bba25e0b-dcb1-48ca-972f-40cda3c6943c"
      },
      "outputs": [
        {
          "output_type": "stream",
          "name": "stdout",
          "text": [
            "Qual seu nome? Fernanda\n",
            "Olá Fernanda! Prazer em te conhecer!\n"
          ]
        }
      ],
      "source": [
        "nome = input ('Qual seu nome? ')\n",
        "print ('Olá {}! Prazer em te conhecer!'.format(nome))"
      ]
    },
    {
      "cell_type": "markdown",
      "metadata": {
        "id": "JbtkrX9RIbG-"
      },
      "source": [
        "Desafio 2 - Crie um script Python que leia o dia, o mês e o ano de nascimento de uma pessoa e mostre uma mensagem com a data formatada na seguinte frase: Você nasceu no dia ... de ... de"
      ]
    },
    {
      "cell_type": "code",
      "execution_count": null,
      "metadata": {
        "colab": {
          "base_uri": "https://localhost:8080/"
        },
        "id": "lpmWFpoQZ8fI",
        "outputId": "ff263345-6c23-4eb9-8981-2f7fcec5292a"
      },
      "outputs": [
        {
          "name": "stdout",
          "output_type": "stream",
          "text": [
            "Que dia você nasceu? 14\n",
            "E o mês do seu nascimento? Junho\n",
            "Em que ano você nasceu? 1990\n",
            "Você nasceu no dia 14 de Junho de 1990\n"
          ]
        }
      ],
      "source": [
        "dia = input ('Que dia você nasceu? ')\n",
        "mes = input ('E o mês do seu nascimento? ')\n",
        "ano = input ('Em que ano você nasceu? ')\n",
        "\n",
        "print('Você nasceu no dia ' + dia +' de ' + mes + ' de ' + ano)"
      ]
    },
    {
      "cell_type": "markdown",
      "metadata": {
        "id": "ZacYZFNsXYyk"
      },
      "source": [
        "Desafio 3 - Crie um script Python que leia dois e dê a soma entre eles."
      ]
    },
    {
      "cell_type": "code",
      "execution_count": null,
      "metadata": {
        "colab": {
          "base_uri": "https://localhost:8080/"
        },
        "id": "7hNYp3Wna85D",
        "outputId": "088a8d20-fafc-4e7d-c253-65f28f92ff92"
      },
      "outputs": [
        {
          "output_type": "stream",
          "name": "stdout",
          "text": [
            "Escolha um número 1014\n",
            "Escolha outro número 10\n",
            "1024\n"
          ]
        }
      ],
      "source": [
        "num1 = int (input ('Escolha um número '))\n",
        "num2 = int (input ('Escolha outro número '))\n",
        "\n",
        "soma = (num1 + num2)\n",
        "print (soma)"
      ]
    },
    {
      "cell_type": "code",
      "execution_count": null,
      "metadata": {
        "colab": {
          "base_uri": "https://localhost:8080/"
        },
        "id": "UDEiL4EAg06p",
        "outputId": "4d2d709d-b644-43a7-dbb9-fc33383b44b3"
      },
      "outputs": [
        {
          "output_type": "stream",
          "name": "stdout",
          "text": [
            "Escolha um número 54\n",
            "Escolha outro número 89\n",
            "143\n"
          ]
        }
      ],
      "source": [
        "num1 = int (input ('Escolha um número '))\n",
        "num2 = int (input ('Escolha outro número '))\n",
        "\n",
        "print (num1 + num2) #outra opção"
      ]
    },
    {
      "cell_type": "code",
      "source": [
        "n1 = (int(input('Digite um número ')))\n",
        "n2 = (int(input('Digite outro número ')))\n",
        "s = n1+n2\n",
        "d = n1/n2\n",
        "\n",
        "print('A soma é {}, a divisão é {:.3f}'.format(s, d), end=' ')\n",
        "#3f p/ ter 3 casas decimais após a vírgula e f (flutuante), o end é para não mudar pra outra linha, ou seja, o resultado será todo na mesma linha"
      ],
      "metadata": {
        "colab": {
          "base_uri": "https://localhost:8080/"
        },
        "id": "wCfN0yhXI4LA",
        "outputId": "4773378f-8b63-4afd-fa56-d10e4f4296a2"
      },
      "execution_count": null,
      "outputs": [
        {
          "output_type": "stream",
          "name": "stdout",
          "text": [
            "Digite um número 15\n",
            "Digite outro número 20\n",
            "A soma é 35, a divisão é 0.750 "
          ]
        }
      ]
    },
    {
      "cell_type": "code",
      "source": [
        "n1 = (int(input('Um valor ')))\n",
        "n2 = (int(input('Outro valor ')))\n",
        "\n",
        "print('A soma vale {}'.format(n1+n2))\n",
        "#não precisa criar outra variável para a soma"
      ],
      "metadata": {
        "colab": {
          "base_uri": "https://localhost:8080/"
        },
        "id": "CU9KfZslIXdv",
        "outputId": "114d66f9-ef3a-4f5b-d3ee-bc26448530e6"
      },
      "execution_count": null,
      "outputs": [
        {
          "output_type": "stream",
          "name": "stdout",
          "text": [
            "Um valor 15\n",
            "Outro valor 9\n",
            "A soma vale 24\n"
          ]
        }
      ]
    },
    {
      "cell_type": "code",
      "source": [
        "n1 = int(input('Digite um número '))\n",
        "n2 = int(input('Digite outro número '))\n",
        "s = n1+n2\n",
        "d = n1/n2\n",
        "\n",
        "print('A soma é {},\\na divisão é {:.3f}'.format(s, d), end=' ')\n",
        "# \\n muda pra outra linha, sem espaço após o 'n'"
      ],
      "metadata": {
        "id": "OiWF1HRdaJpv",
        "colab": {
          "base_uri": "https://localhost:8080/"
        },
        "outputId": "1d302499-cb6f-46c1-e6ba-826c132af5cd"
      },
      "execution_count": null,
      "outputs": [
        {
          "output_type": "stream",
          "name": "stdout",
          "text": [
            "Digite um número 60\n",
            "Digite outro número 20\n",
            "A soma é 80,\n",
            "a divisão é 3.000 "
          ]
        }
      ]
    },
    {
      "cell_type": "markdown",
      "metadata": {
        "id": "5nOD1ZUfGZeS"
      },
      "source": [
        "###Função Format"
      ]
    },
    {
      "cell_type": "markdown",
      "source": [
        "Desafio 4 - Faça um programa que leia algo pelo teclado e mostre na tela o seu tipo primitivo e o máximo de informações possíveis."
      ],
      "metadata": {
        "id": "6T4Cv-GuwnaF"
      }
    },
    {
      "cell_type": "code",
      "source": [
        "n = input('Digite algo ')\n",
        "print('Tem letras e números?', type(n))\n",
        "print('Tem letras e números?', format(n.isalnum()))\n",
        "print('Tem apenas números?', format(n.isnumeric()))\n",
        "print('É um número decimal?', format(n.isdecimal()))\n",
        "print('Tem apenas letras?', format(n.isalpha()))\n",
        "print('Tem apenas letras maiúsculas? ', format(n.isupper()))\n",
        "print('Tem apenas letras minúsculas? ', format(n.islower()))\n",
        "\n",
        "#Obs.: pode ser ponto ou vírgula após as aspas da mensagem, não precisa dos colchetes"
      ],
      "metadata": {
        "colab": {
          "base_uri": "https://localhost:8080/"
        },
        "id": "EsYzdTe6olu_",
        "outputId": "315dd59d-4d9d-42cd-ddb7-9b64f9cd54d2"
      },
      "execution_count": null,
      "outputs": [
        {
          "output_type": "stream",
          "name": "stdout",
          "text": [
            "Digite algo Josefina123\n",
            "Tem letras e números? <class 'str'>\n",
            "Tem letras e números? True\n",
            "Tem apenas números? False\n",
            "É um número decimal? False\n",
            "Tem apenas letras? False\n",
            "Tem apenas letras maiúsculas?  False\n",
            "Tem apenas letras minúsculas?  False\n"
          ]
        }
      ]
    },
    {
      "cell_type": "code",
      "source": [
        "n = input('Digite algo:')\n",
        "print(f'{n} qual o tipo primitivo?', type(n)) #sem ponto para acessar a função, coloca a variavel entre os parênteses\n",
        "print(f'{n} tem apenas número?',n.isnumeric())\n",
        "print(f'{n} tem apenas letras?',n.isalpha())\n",
        "print(f'{n} tem número ou letra?',n.isalnum())\n",
        "print(f'{n} é decimal?',n.isdecimal())\n",
        "print(f'{n} está em maiúsculo?',n.isupper())\n",
        "print(f'{n} está em minúsculo?',n.islower())\n",
        "print(f'{n} está captalizada?',n.istitle())\n",
        "print(f'{n} tem apenas espaço?',n.isspace())"
      ],
      "metadata": {
        "colab": {
          "base_uri": "https://localhost:8080/"
        },
        "id": "Up3_w0bZqiAd",
        "outputId": "355e9b89-244e-4bad-b412-d2da2e1d3094"
      },
      "execution_count": null,
      "outputs": [
        {
          "output_type": "stream",
          "name": "stdout",
          "text": [
            "Digite algo:Godofredo456\n",
            "Godofredo456 qual o tipo primitivo? <class 'str'>\n",
            "Godofredo456 tem apenas número? False\n",
            "Godofredo456 tem apenas letras? False\n",
            "Godofredo456 tem número ou letra? True\n",
            "Godofredo456 é decimal? False\n",
            "Godofredo456 está em maiúsculo? False\n",
            "Godofredo456 está em minúsculo? False\n",
            "Godofredo456 está captalizada? True\n",
            "Godofredo456 tem apenas espaço? False\n"
          ]
        }
      ]
    },
    {
      "cell_type": "code",
      "source": [
        "a = input('Digite algo: ')\n",
        "print(f'O tipo primitivo desse valor é {type(a)}')\n",
        "print(f'Só tem espaços? {a.isspace()}')\n",
        "print(f'É um número? {a.isnumeric()}')\n",
        "print(f'É alfabético? {a.isalpha()}')\n",
        "print(f'É alfanumérico? {a.isalnum()}')\n",
        "print(f'Está em maiúsculas? {a.isupper()}')\n",
        "print(f'Está em minúsculas? {a.islower()}')\n",
        "print(f'Está capitalizado? {a.istitle()}')\n",
        "\n",
        "\n",
        "#não precisa colocar o .format() no final, basta colocar \"f\" na frente das aspas e inserir a função dentro dos colchetes."
      ],
      "metadata": {
        "id": "H2UY98JApKbz",
        "colab": {
          "base_uri": "https://localhost:8080/"
        },
        "outputId": "638a2206-4b79-48fe-b692-4510b44ae28c"
      },
      "execution_count": null,
      "outputs": [
        {
          "output_type": "stream",
          "name": "stdout",
          "text": [
            "Digite algo: Joveralda789\n",
            "O tipo primitivo desse valor é <class 'str'>\n",
            "Só tem espaços? False\n",
            "É um número? False\n",
            "É alfabético? False\n",
            "É alfanumérico? True\n",
            "Está em maiúsculas? False\n",
            "Está em minúsculas? False\n",
            "Está capitalizado? True\n"
          ]
        }
      ]
    },
    {
      "cell_type": "markdown",
      "source": [
        "###Operadores aritméticos"
      ],
      "metadata": {
        "id": "r1A1QB3wwXDK"
      }
    },
    {
      "cell_type": "markdown",
      "source": [
        "Precêndia aritmética\n",
        "\n",
        "\n",
        "1.   Parênteses\n",
        "2.   Exponenciação\n",
        "1.   Multiplicação, divisão, divisão inteira e resto da divisão, se tiver mais de um, é na ordem que aparece\n",
        "2.   Soma e subtração\n",
        "\n",
        "Obs.: Nas operações aritméticas em Python, não usamos colchetes e chaves"
      ],
      "metadata": {
        "id": "W1OjGXsPzC9d"
      }
    },
    {
      "cell_type": "code",
      "source": [
        "print(5**2) #5x5x5 exponenciação\n",
        "print(5//2) #divisão inteira, qnd não inclui os decimais\n",
        "print(5%2) #resto da divisão, apenas o que sobra da divisão inteira"
      ],
      "metadata": {
        "id": "rDMvt_s4vluS",
        "colab": {
          "base_uri": "https://localhost:8080/"
        },
        "outputId": "7333325d-a1a1-4826-fa3c-025876e644e1"
      },
      "execution_count": null,
      "outputs": [
        {
          "output_type": "stream",
          "name": "stdout",
          "text": [
            "25\n",
            "2\n",
            "1\n"
          ]
        }
      ]
    },
    {
      "cell_type": "code",
      "source": [
        "print(5+3*2)\n",
        "print(3*5+4**2)\n",
        "print(3*(5+4)**2)\n",
        "print(pow (4,3)) #outra forma de fazer exponenciação, seria o mesmo que 4x4x4"
      ],
      "metadata": {
        "colab": {
          "base_uri": "https://localhost:8080/"
        },
        "id": "aQl9PfSaE85j",
        "outputId": "cc185ac8-4554-47ee-87b2-07bee208e789"
      },
      "execution_count": null,
      "outputs": [
        {
          "output_type": "stream",
          "name": "stdout",
          "text": [
            "11\n",
            "31\n",
            "243\n",
            "64\n"
          ]
        }
      ]
    },
    {
      "cell_type": "code",
      "source": [
        "#Como calcular raiz quadrada em Python:\n",
        "81**(0.5) #calcular a raiz quadrada é o mesmo que elevar sua potência a 0,5 (meio)"
      ],
      "metadata": {
        "colab": {
          "base_uri": "https://localhost:8080/"
        },
        "id": "TfMPf6x-G4cU",
        "outputId": "b829303b-f84a-49ce-d1ff-664e888301d9"
      },
      "execution_count": null,
      "outputs": [
        {
          "output_type": "execute_result",
          "data": {
            "text/plain": [
              "9.0"
            ]
          },
          "metadata": {},
          "execution_count": 36
        }
      ]
    },
    {
      "cell_type": "code",
      "source": [
        "#Como calcular raiz cúbica em Python:\n",
        "127**(1/3) #calcular a raiz cúbica é o mesmo que elevar sua potência a 1/3 resultado (5.026525...79)"
      ],
      "metadata": {
        "colab": {
          "base_uri": "https://localhost:8080/"
        },
        "id": "FEt4sE7PHeSD",
        "outputId": "9c554a18-6ecc-4380-8529-3e5daa0aca6b"
      },
      "execution_count": null,
      "outputs": [
        {
          "output_type": "execute_result",
          "data": {
            "text/plain": [
              "5.026525695313479"
            ]
          },
          "metadata": {},
          "execution_count": 34
        }
      ]
    },
    {
      "cell_type": "code",
      "source": [
        "#é possível multiplicar letras ou símbolos (por ser string precisa das aspas) como:\n",
        "print('Oi' *5)\n",
        "print('='*20)"
      ],
      "metadata": {
        "colab": {
          "base_uri": "https://localhost:8080/"
        },
        "id": "9hDpuXylH0Yv",
        "outputId": "3a92dbfa-0ea7-422e-ae30-ecf07c844c19"
      },
      "execution_count": null,
      "outputs": [
        {
          "output_type": "stream",
          "name": "stdout",
          "text": [
            "OiOiOiOiOi\n",
            "====================\n"
          ]
        }
      ]
    },
    {
      "cell_type": "markdown",
      "source": [
        "Desafio 5 - Faça um programa que leia um número inteiro e mostre na tela seu sucessor e seu antecessor."
      ],
      "metadata": {
        "id": "-OZ38DBJbfTd"
      }
    },
    {
      "cell_type": "code",
      "source": [
        "a = int(input('Digite um número '))\n",
        "b = a - 1\n",
        "c = a + 1\n",
        "\n",
        "print('Analisando o número {}, seu atencessor é {}, seu sucessor é {}.'.format(a, b, c))"
      ],
      "metadata": {
        "id": "kEhM_ibncF1f",
        "colab": {
          "base_uri": "https://localhost:8080/"
        },
        "outputId": "c02eb592-dfae-4a19-9e70-27458a82a0ef"
      },
      "execution_count": null,
      "outputs": [
        {
          "output_type": "stream",
          "name": "stdout",
          "text": [
            "Digite um número 6\n",
            "Analisando o número 6, seu atencessor é 5, seu sucessor é 7.\n"
          ]
        }
      ]
    },
    {
      "cell_type": "code",
      "source": [
        "a = int(input('Digite um número ')) #se não for utilizar as variáveis depois, pode ser feito dessa forma\n",
        "print('Analisando o número {}, seu atencessor é {}, seu sucessor é {}.'.format(a, (a - 1), (a + 1)))"
      ],
      "metadata": {
        "colab": {
          "base_uri": "https://localhost:8080/"
        },
        "id": "fYqJFNWelJYK",
        "outputId": "262f4581-1ab4-4cdd-ef6a-d6ac0931f2e2"
      },
      "execution_count": null,
      "outputs": [
        {
          "output_type": "stream",
          "name": "stdout",
          "text": [
            "Digite um número 90\n",
            "Analisando o número 90, seu atencessor é 89, seu sucessor é 91.\n"
          ]
        }
      ]
    },
    {
      "cell_type": "markdown",
      "source": [
        "Desafio 6 - Crie um algoritmo que leia um número e mostre o seu dobro, triplo e raiz quadrada."
      ],
      "metadata": {
        "id": "7iIxMG8WVDie"
      }
    },
    {
      "cell_type": "code",
      "source": [
        "a1 = int(input('Digite um número '))\n",
        "print('Analisando o número {}: \\nSeu dobro é {} \\nSeu triplo {} \\nA raiz quadrada é {:.2f}! \\nObrigada por interagir!'.format(a1, (a1*2), (a1*3), (a1**0.5)))"
      ],
      "metadata": {
        "id": "JxtnUPY4n5af",
        "colab": {
          "base_uri": "https://localhost:8080/"
        },
        "outputId": "48b7d300-3a17-42d5-ec88-e1c8e44ce875"
      },
      "execution_count": null,
      "outputs": [
        {
          "output_type": "stream",
          "name": "stdout",
          "text": [
            "Digite um número 85\n",
            "Analisando o número 85: \n",
            "Seu dobro é 170 \n",
            "Seu triplo 255 \n",
            "A raiz quadrada é 9.22! \n",
            "Obrigada por interagir!\n"
          ]
        }
      ]
    },
    {
      "cell_type": "markdown",
      "source": [
        "Desafio 7 - Desenvolva um programa que leia as duas notas de um aluno, calcule e mostre a sua média."
      ],
      "metadata": {
        "id": "F2chgeyhVGah"
      }
    },
    {
      "cell_type": "code",
      "source": [
        "nota_prova_1 = float(input('Digite sua nota na primeira prova '))\n",
        "nota_prova_2 = float(input('Digite sua nota na segunda prova '))\n",
        "média = (nota_prova_1 + nota_prova_2)/2\n",
        "\n",
        "print('A média entre suas notas é {:.2f}'.format(média))"
      ],
      "metadata": {
        "id": "FGUXNkV9qGIO",
        "colab": {
          "base_uri": "https://localhost:8080/"
        },
        "outputId": "39e43f97-8a2f-4c65-b3c7-b860b3c27e5c"
      },
      "execution_count": null,
      "outputs": [
        {
          "output_type": "stream",
          "name": "stdout",
          "text": [
            "Digite sua nota na primeira prova 10\n",
            "Digite sua nota na segunda prova 7.5\n",
            "A média entre suas notas é 8.75\n"
          ]
        }
      ]
    },
    {
      "cell_type": "code",
      "source": [
        "nota_prova_1 = float(input('Digite sua nota na prova 1 ')) #opção sem criar a variável\n",
        "nota_prova_2 = float(input('Digite sua nota na prova 2 '))\n",
        "\n",
        "print('A média entre suas notas é {:.2f}'.format((nota_prova_1 + nota_prova_2)/2))"
      ],
      "metadata": {
        "id": "BqHbkS5BrUkY",
        "colab": {
          "base_uri": "https://localhost:8080/"
        },
        "outputId": "4826fca9-1afb-4d39-9ad8-c94dedc16cf9"
      },
      "execution_count": null,
      "outputs": [
        {
          "output_type": "stream",
          "name": "stdout",
          "text": [
            "Digite sua nota na prova 1 10\n",
            "Digite sua nota na prova 2 5\n",
            "A média entre suas notas é 7.5\n"
          ]
        }
      ]
    },
    {
      "cell_type": "markdown",
      "source": [
        "\n",
        "Desafio 8 - Escreva um programa que leia valor em metros e exiba o valor convertido em centímetros e milímetros."
      ],
      "metadata": {
        "id": "XyPi_r-0VLww"
      }
    },
    {
      "cell_type": "code",
      "source": [
        "metros = int(input('Digite um valor '))\n",
        "print('{} metros equivalem a {:.0f} centímetros e {:.0f} milímetros'.format(metros, (metros*100), (metros*1000)))"
      ],
      "metadata": {
        "colab": {
          "base_uri": "https://localhost:8080/"
        },
        "id": "zyw2PaOhsSZ-",
        "outputId": "23908df9-9777-4550-fffa-e0dfa1c81e26"
      },
      "execution_count": null,
      "outputs": [
        {
          "output_type": "stream",
          "name": "stdout",
          "text": [
            "Digite um valor 10\n",
            "10 metros equivalem a 1000 centímetros e 10000 milímetros\n"
          ]
        }
      ]
    },
    {
      "cell_type": "markdown",
      "source": [
        "\n",
        "Desafio 9 - Faça um programa que leia um número inteiro e mostre na tela sua tabuada."
      ],
      "metadata": {
        "id": "G3YArFylVOQk"
      }
    },
    {
      "cell_type": "code",
      "source": [
        "a = int(input('Digite um número inteiro '))\n",
        "print('A tabuada completa desse número é:\\n{} x 1 = {}\\n{} x 2 = {}\\n{} x 3 = {}\\n{} x 4 = {}\\n{} x 5 = {}\\n{} x 6 = {}\\n{} x 7 = {}\\n{} x 8 = {}\\n{} x 9 = {}'.format(a, (a*1), a, (a*2), a, (a*3), a, (a*4), a, (a*5), a, (a*6), a, (a*7), a, (a*8), a, (a*9)))"
      ],
      "metadata": {
        "colab": {
          "base_uri": "https://localhost:8080/"
        },
        "outputId": "36049f22-9c7f-4785-9624-6e81da323938",
        "id": "JaPSjAqFM34I"
      },
      "execution_count": null,
      "outputs": [
        {
          "output_type": "stream",
          "name": "stdout",
          "text": [
            "Digite um número inteiro 5\n",
            "A tabuada completa desse número é:\n",
            "5 x 1 = 5\n",
            "5 x 2 = 10\n",
            "5 x 3 = 15\n",
            "5 x 4 = 20\n",
            "5 x 5 = 25\n",
            "5 x 6 = 30\n",
            "5 x 7 = 35\n",
            "5 x 8 = 40\n",
            "5 x 9 = 45\n"
          ]
        }
      ]
    },
    {
      "cell_type": "markdown",
      "source": [
        "Desafio 10 - Crie um programa que leia quanto dinheiro uma pessoa tem na carteira e mostre quantos Dólares ela pode comprar.\n",
        "(Considere US$ 1.00 = R$ 3.27)"
      ],
      "metadata": {
        "id": "qxc5KTBcVQsl"
      }
    },
    {
      "cell_type": "code",
      "source": [
        "dinheiro = float(input('Digite qual valor tem na sua carteira, e converteremos em dólares. Tem R$ '))\n",
        "print('Na sua carteira tem R$ {:.2f}, convertido em US$ {:.2f} '.format(dinheiro, (dinheiro/3.27)))"
      ],
      "metadata": {
        "colab": {
          "base_uri": "https://localhost:8080/"
        },
        "id": "R7AgcOsxPd5x",
        "outputId": "f9d4eec2-64d5-4e92-8005-3be02aee03aa"
      },
      "execution_count": 2,
      "outputs": [
        {
          "output_type": "stream",
          "name": "stdout",
          "text": [
            "Digite qual valor tem na sua carteira, e converteremos em dólares. Tem R$ 1000\n",
            "Na sua carteira tem R$ 1000.00, convertido em US$ 305.81 \n"
          ]
        }
      ]
    },
    {
      "cell_type": "markdown",
      "source": [
        "Desafio 11 - Faça um programa que leia a largura e a altura de uma parede em metros, calcule sua área e a quantidade de tinta necessária para pintá-la, sabendo que cada litro de tinta pinta uma área de 2m²."
      ],
      "metadata": {
        "id": "d6cHJkkuXeP4"
      }
    },
    {
      "cell_type": "code",
      "source": [
        "alt = float(input('Qual a altura da parede? '))\n",
        "larg = float(input('Qual a largura da parede? '))\n",
        "print('A área total são {:.2f} metros e serão necessários {:.1f} litros de tinta.'.format((alt*larg), (alt*larg/2)))"
      ],
      "metadata": {
        "colab": {
          "base_uri": "https://localhost:8080/"
        },
        "id": "5gaRaikjaDwh",
        "outputId": "d54cef86-b43a-4b08-93fb-f999680bb6a2"
      },
      "execution_count": null,
      "outputs": [
        {
          "output_type": "stream",
          "name": "stdout",
          "text": [
            "Qual a altura da parede? 2.85\n",
            "Qual a largura da parede? 3.15\n",
            "A área total são 8.98 metros e serão necessários 4.5 litros de tinta.\n"
          ]
        }
      ]
    },
    {
      "cell_type": "markdown",
      "source": [
        "\n",
        "Desafio 12 - Faça um algoritmo que leia o preço de um produto e mostre seu novo preço, com 5% de desconto."
      ],
      "metadata": {
        "id": "3fiNtRj0XhsV"
      }
    },
    {
      "cell_type": "code",
      "source": [
        "produto = float(input('Digite o preço do produto R$ '))\n",
        "print('Com 5% de desconto o valor dele é R$ {:.2f} '.format(produto*0.95))"
      ],
      "metadata": {
        "colab": {
          "base_uri": "https://localhost:8080/"
        },
        "id": "pg31dr-bgdg-",
        "outputId": "c97c3f37-d287-43e6-82e1-795940b3e153"
      },
      "execution_count": null,
      "outputs": [
        {
          "output_type": "stream",
          "name": "stdout",
          "text": [
            "Digite o preço do produto R$ 89.90\n",
            "Com 5% de desconto o valor dele é R$ 85.41 \n"
          ]
        }
      ]
    },
    {
      "cell_type": "markdown",
      "source": [
        "\n",
        "Desafio 13 - Faça um algoritmo que leia o salário de um funcionário e mostre seu novo salário com 15% de aumento."
      ],
      "metadata": {
        "id": "PiGCp9kxXkJ6"
      }
    },
    {
      "cell_type": "code",
      "source": [
        "salário = float(input('Digite o salário do seu funcionário R$ '))\n",
        "print('Com 15% de aumento o valor será R$ {:.2f}'.format(salário*1.15))"
      ],
      "metadata": {
        "colab": {
          "base_uri": "https://localhost:8080/"
        },
        "id": "9xSfMRWsnlJd",
        "outputId": "a298a21f-8276-46a4-d54c-0ce85bb6881b"
      },
      "execution_count": null,
      "outputs": [
        {
          "output_type": "stream",
          "name": "stdout",
          "text": [
            "Digite o salário do seu funcionário R$ 3500\n",
            "Com 15% de aumento o valor será R$ 4025.00\n"
          ]
        }
      ]
    },
    {
      "cell_type": "markdown",
      "source": [
        "Desafio 14 - Escreva um programa que converta uma temperatura digitando em graus Celsius e converta para graus Fahrenheit."
      ],
      "metadata": {
        "id": "Ndg2-e9N0krq"
      }
    },
    {
      "cell_type": "code",
      "source": [
        "c = float(input('Digite a temperatura em graus Celsius '))\n",
        "print('{} graus Celsius, correspondem a {} graus Fahrenheit.'.format(c, c*1.8+32))"
      ],
      "metadata": {
        "colab": {
          "base_uri": "https://localhost:8080/"
        },
        "id": "2C_QNJnX0it5",
        "outputId": "c06a972b-8122-4a11-9603-5d8911976719"
      },
      "execution_count": null,
      "outputs": [
        {
          "output_type": "stream",
          "name": "stdout",
          "text": [
            "Digite a temperatura em graus Celsius 25\n",
            "25.0 graus Celsius, correspondem a 77.0 graus Fahrenheit.\n"
          ]
        }
      ]
    },
    {
      "cell_type": "markdown",
      "source": [
        "Desafio 15 - Escreva um programa que pergunte a quantidade de Km percorridos por um carro alugado e a quantidade de dias pelos quais ele foi alugado. Calcule o preço a pagar, sabendo que o carro custa R$0,15 por Km rodado e  60 reais por dia."
      ],
      "metadata": {
        "id": "OfeAQ_ud4Aot"
      }
    },
    {
      "cell_type": "code",
      "source": [
        "km = float(input('Quantos km você percorreu com o carro alugado? '))\n",
        "dias = int(input('Você alugou o carro por quantos dias? '))\n",
        "print('O valor total são {:.2f} reais.'.format((km*0.15)+(dias*60)))"
      ],
      "metadata": {
        "colab": {
          "base_uri": "https://localhost:8080/"
        },
        "id": "F84C3MBI4FST",
        "outputId": "b43d3ee8-b7d7-4f7c-97d5-826eab2ad6ce"
      },
      "execution_count": 1,
      "outputs": [
        {
          "output_type": "stream",
          "name": "stdout",
          "text": [
            "Quantos km você percorreu com o carro alugado? 750\n",
            "Você alugou o carro por quantos dias? 5\n",
            "O valor total são 412.50 reais.\n"
          ]
        }
      ]
    }
  ],
  "metadata": {
    "colab": {
      "provenance": [],
      "collapsed_sections": [
        "Qwpjh3ii6MEJ",
        "5nOD1ZUfGZeS"
      ],
      "authorship_tag": "ABX9TyMxfjpXOghl3eObxmCdjI9X",
      "include_colab_link": true
    },
    "kernelspec": {
      "display_name": "Python 3",
      "name": "python3"
    },
    "language_info": {
      "name": "python"
    }
  },
  "nbformat": 4,
  "nbformat_minor": 0
}