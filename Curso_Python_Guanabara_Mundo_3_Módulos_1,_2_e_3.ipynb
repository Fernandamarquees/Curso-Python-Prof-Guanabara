{
  "nbformat": 4,
  "nbformat_minor": 0,
  "metadata": {
    "colab": {
      "provenance": [],
      "authorship_tag": "ABX9TyP2k1Csgpp9xIFlDYSQw4Z3",
      "include_colab_link": true
    },
    "kernelspec": {
      "name": "python3",
      "display_name": "Python 3"
    },
    "language_info": {
      "name": "python"
    }
  },
  "cells": [
    {
      "cell_type": "markdown",
      "metadata": {
        "id": "view-in-github",
        "colab_type": "text"
      },
      "source": [
        "<a href=\"https://colab.research.google.com/github/Fernandamarquees/Curso-Python-Prof-Guanabara/blob/main/Curso_Python_Guanabara_Mundo_3_M%C3%B3dulos_1%2C_2_e_3.ipynb\" target=\"_parent\"><img src=\"https://colab.research.google.com/assets/colab-badge.svg\" alt=\"Open In Colab\"/></a>"
      ]
    },
    {
      "cell_type": "markdown",
      "source": [
        "#Curso Python Guanabara Mundo 3 - Módulos 1, 2 e 3"
      ],
      "metadata": {
        "id": "FS8ofNpeyHWc"
      }
    },
    {
      "cell_type": "markdown",
      "source": [
        "### Aula 16 – Tuplas em Python"
      ],
      "metadata": {
        "id": "zmxlrXyVPck5"
      }
    },
    {
      "cell_type": "code",
      "source": [
        "# Tuplas são variáveis compostas, ou seja abrigam muitas variáveis dentro de um único nome\n",
        "# Pode ser com ou sem colchetes\n",
        "# As tuplas são imutáveis\n",
        "# Fatiamento é parecido com o fatiamento de str\n",
        "lanche='hambúrguer', 'suco', 'pizza', 'pudim' #OU ['hámburguer', 'suco', 'pizza', 'pudim']\n",
        "print(lanche)\n",
        "print(lanche[2])\n",
        "print(lanche[0:2]) #também ignora o último elemtento\n",
        "print(lanche[1:]) #comece no 1 e vá até o final\n",
        "print(lanche[-1]) #mostra o último elemento\n",
        "len(lanche) #mostra quantos elementos tem dentro da tupla"
      ],
      "metadata": {
        "colab": {
          "base_uri": "https://localhost:8080/"
        },
        "id": "TLRCwQbWkiIK",
        "outputId": "7cd7c3ee-7bb2-4082-cf43-d7499544b85b"
      },
      "execution_count": null,
      "outputs": [
        {
          "output_type": "stream",
          "name": "stdout",
          "text": [
            "('hambúrguer', 'suco', 'pizza', 'pudim')\n",
            "pizza\n",
            "('hambúrguer', 'suco')\n",
            "('suco', 'pizza', 'pudim')\n",
            "pudim\n"
          ]
        },
        {
          "output_type": "execute_result",
          "data": {
            "text/plain": [
              "4"
            ]
          },
          "metadata": {},
          "execution_count": 21
        }
      ]
    },
    {
      "cell_type": "code",
      "execution_count": null,
      "metadata": {
        "id": "Qd_ZTZ1XyBsw",
        "colab": {
          "base_uri": "https://localhost:8080/"
        },
        "outputId": "37f78605-20ca-44d0-d58d-62dd27585cf5"
      },
      "outputs": [
        {
          "output_type": "stream",
          "name": "stdout",
          "text": [
            "hambúrguer\n",
            "suco\n",
            "pizza\n",
            "pudim\n"
          ]
        }
      ],
      "source": [
        "lanche='hambúrguer', 'suco', 'pizza', 'pudim'\n",
        "for c in lanche: #substitui range pelo nome da tupla\n",
        "  print(c)"
      ]
    },
    {
      "cell_type": "code",
      "source": [
        "for comida in lanche:\n",
        "  print(f'No Natal vou comer {comida}')\n",
        "print('Comi muito nesse Natal!')"
      ],
      "metadata": {
        "colab": {
          "base_uri": "https://localhost:8080/"
        },
        "id": "7oDjuTvYoxWD",
        "outputId": "e1263402-b2b7-4aa5-f9a5-045c15e7dd84"
      },
      "execution_count": null,
      "outputs": [
        {
          "output_type": "stream",
          "name": "stdout",
          "text": [
            "No Natal vou comer hambúrguer\n",
            "No Natal vou comer suco\n",
            "No Natal vou comer pizza\n",
            "No Natal vou comer pudim\n",
            "Comi muito nesse Natal!\n"
          ]
        }
      ]
    },
    {
      "cell_type": "code",
      "source": [
        "for cont in range(0, len(lanche)):\n",
        "  print('Nesse Natal vou comer ' ,end='') # end='' p/ imprimir na mesma linha\n",
        "  print(lanche[cont])\n",
        "print(' ')\n",
        "print('HO '*8)\n",
        "print('Comi muito nesse Natal!')"
      ],
      "metadata": {
        "colab": {
          "base_uri": "https://localhost:8080/"
        },
        "id": "wb-BhMz1qFW4",
        "outputId": "02c53746-9454-410a-d450-52fa98959ac8"
      },
      "execution_count": null,
      "outputs": [
        {
          "output_type": "stream",
          "name": "stdout",
          "text": [
            "Nesse Natal vou comer hambúrguer\n",
            "Nesse Natal vou comer suco\n",
            "Nesse Natal vou comer pizza\n",
            "Nesse Natal vou comer pudim\n",
            " \n",
            "HO HO HO HO HO HO HO HO \n",
            "Comi muito nesse Natal!\n"
          ]
        }
      ]
    },
    {
      "cell_type": "code",
      "source": [
        "for cont in range(0, len(lanche)):\n",
        "  print(f'Nesse Natal vou comer {lanche[cont]} na posição {cont}') # dessa forma mostra a posição que cada elemento está na tupla\n",
        "print(' ')\n",
        "\n",
        "# ou\n",
        "\n",
        "for pos, comida in enumerate(lanche):\n",
        "  print(f'Eu vou comer {comida} na posição {pos}')"
      ],
      "metadata": {
        "colab": {
          "base_uri": "https://localhost:8080/"
        },
        "id": "_2nreh_qssaC",
        "outputId": "9e4c4376-46e6-4a47-ef75-09efcc7bdf5f"
      },
      "execution_count": null,
      "outputs": [
        {
          "output_type": "stream",
          "name": "stdout",
          "text": [
            "Nesse Natal vou comer hambúrguer na posição 0\n",
            "Nesse Natal vou comer suco na posição 1\n",
            "Nesse Natal vou comer pizza na posição 2\n",
            "Nesse Natal vou comer pudim na posição 3\n",
            " \n",
            "Eu vou comer hambúrguer na posição 0\n",
            "Eu vou comer suco na posição 1\n",
            "Eu vou comer pizza na posição 2\n",
            "Eu vou comer pudim na posição 3\n"
          ]
        }
      ]
    },
    {
      "cell_type": "code",
      "source": [
        "print(sorted(lanche)) # para imprimir em ordem alfabética"
      ],
      "metadata": {
        "colab": {
          "base_uri": "https://localhost:8080/"
        },
        "id": "pR_txsvIudbj",
        "outputId": "0946e439-a50e-47e9-fae8-43ef4fd2fa9c"
      },
      "execution_count": null,
      "outputs": [
        {
          "output_type": "stream",
          "name": "stdout",
          "text": [
            "['hambúrguer', 'pizza', 'pudim', 'suco']\n"
          ]
        }
      ]
    },
    {
      "cell_type": "code",
      "source": [
        "a = (2, 5, 4)\n",
        "b = (5, 8, 1, 2)\n",
        "c = a + b # a soma unifica as tuplas\n",
        "print(c)"
      ],
      "metadata": {
        "colab": {
          "base_uri": "https://localhost:8080/"
        },
        "id": "C_wudgb8u-ex",
        "outputId": "cc5eb716-22c2-4372-9b9c-6851c438e15d"
      },
      "execution_count": null,
      "outputs": [
        {
          "output_type": "stream",
          "name": "stdout",
          "text": [
            "(2, 5, 4, 5, 8, 1, 2)\n"
          ]
        }
      ]
    },
    {
      "cell_type": "code",
      "source": [
        "print(c.count(5)) #mostra quantas vezes aquele elemento aparece na tupla\n",
        "print(c.index(4)) #mostra a posição do elemento"
      ],
      "metadata": {
        "colab": {
          "base_uri": "https://localhost:8080/"
        },
        "id": "aq3LMY4XwwLh",
        "outputId": "3d817c71-4023-42aa-bf9b-f92c1c98962b"
      },
      "execution_count": null,
      "outputs": [
        {
          "output_type": "stream",
          "name": "stdout",
          "text": [
            "2\n",
            "2\n"
          ]
        }
      ]
    },
    {
      "cell_type": "code",
      "source": [
        "pessoa = ('Fernanda', 'F', 33, 60.55) # É possível colocar diferentes tipos de dados\n",
        "print(pessoa)\n",
        "# É imutável mas é possível apagar a tupla toda, com o comando \"del(pessoa)\""
      ],
      "metadata": {
        "colab": {
          "base_uri": "https://localhost:8080/"
        },
        "id": "e6tkE5nMyZVM",
        "outputId": "5ca7f70b-5eec-413e-8ffe-4ea6f21c55b9"
      },
      "execution_count": null,
      "outputs": [
        {
          "output_type": "stream",
          "name": "stdout",
          "text": [
            "('Fernanda', 'F', 33, 60.55)\n"
          ]
        }
      ]
    },
    {
      "cell_type": "markdown",
      "source": [
        "Desafio 72 - Crie um programa que tenha uma tupla preenchida com uma contagem por extenso, de zero até vinte. Seu programa deverá ler um número pelo teclado (entre 0 e 20) e mostrá-lo por extenso."
      ],
      "metadata": {
        "id": "FQfik4fdzxwZ"
      }
    },
    {
      "cell_type": "code",
      "source": [
        "resp = ''\n",
        "extenso = 'zero', 'um', 'dois', 'três', 'quatro', 'cinco', 'seis', 'sete', 'oito', 'nove', 'dez', 'onze', 'doze', 'treze', 'quatorze', 'quinze', 'dezesséis', 'dezessete', 'dezoito', 'dezenove', 'vinte'\n",
        "while True:\n",
        "  num = int(input('Digite um número entre 0 e 20: '))\n",
        "  if num <0 or num >21:\n",
        "    num = int(input('Ocorreu um erro. Digite um número entre 0 e 20: '))\n",
        "  print(f'Você digitou o número {num}, escrito por extenso é {extenso[num]}')\n",
        "  resp = str(input('Quer continuar? S/N ')).upper().strip()\n",
        "  if resp == 'N':\n",
        "    break\n",
        "print('-'*30)\n",
        "print('Programa encerrado')"
      ],
      "metadata": {
        "colab": {
          "base_uri": "https://localhost:8080/"
        },
        "id": "L1XMYHGU1skK",
        "outputId": "b6b9bea2-7d7f-4aa8-dbfa-9a0495d26ac8"
      },
      "execution_count": null,
      "outputs": [
        {
          "output_type": "stream",
          "name": "stdout",
          "text": [
            "Digite um número entre 0 e 20: -8\n",
            "Ocorreu um erro. Digite um número entre 0 e 20: 15\n",
            "Você digitou o número 15, escrito por extenso é quinze\n",
            "Quer continuar? S/N s\n",
            "Digite um número entre 0 e 20: 5\n",
            "Você digitou o número 5, escrito por extenso é cinco\n",
            "Quer continuar? S/N s\n",
            "Digite um número entre 0 e 20: 87\n",
            "Ocorreu um erro. Digite um número entre 0 e 20: 0\n",
            "Você digitou o número 0, escrito por extenso é zero\n",
            "Quer continuar? S/N N\n",
            "------------------------------\n",
            "Programa encerrado\n"
          ]
        }
      ]
    },
    {
      "cell_type": "markdown",
      "source": [
        "Desafio 73 - Crie uma tupla preenchida com os 20 primeiros colocados da Tabela do Campeonato Braseileiro de Futebol, na ordem de colocação. Depois mostre:\n",
        "\n",
        "1 - Apenas os primeiros colocados;\n",
        "\n",
        "2 - Os últimos 4 colocados;\n",
        "\n",
        "3 - Uma lista com os times em ordem alfabética;\n",
        "\n",
        "4 - Em que posição na cadeia está o time Chapecoense."
      ],
      "metadata": {
        "id": "eTf2ctZVLQ0r"
      }
    },
    {
      "cell_type": "code",
      "source": [
        "times = ['Palmeiras', 'Grêmio',\t'Atlético-MG',\t'Flamengo', 'Botafogo', 'Red Bull', 'Fluminense', 'Athletico-PR', 'Internacional', 'Fortaleza', 'São Paulo',\n",
        "'Cuiabá', 'Corinthians', 'Cruzeiro', 'Vasco', 'Bahia', 'Santos', 'Goiás', 'Curitiba', 'América-MG']\n",
        "\n",
        "print(f'Os 5 primeiros colocados são {times[0:5]}')\n",
        "print('-='*20)\n",
        "print(f'Os últimos 4 colocados são {times[-4:]}')\n",
        "print('-='*20)\n",
        "print(f'Nome dos times em ordem alfabética {sorted(times)}')\n",
        "print('-='*20)\n",
        "#print(f'O Chapecoesnse está na posição {times.index(\"Chapecoense\")+1}ª') # soma a posição com 1, para ser a posição correta\n",
        "print('O Chapecoense não está na divisão em 2023')\n"
      ],
      "metadata": {
        "id": "KQqY1r08M17y",
        "colab": {
          "base_uri": "https://localhost:8080/"
        },
        "outputId": "77e3c77b-1912-419a-dfa4-5ac679f375ac"
      },
      "execution_count": null,
      "outputs": [
        {
          "output_type": "stream",
          "name": "stdout",
          "text": [
            "Os 5 primeiros colocados são ['Palmeiras', 'Grêmio', 'Atlético-MG', 'Flamengo', 'Botafogo']\n",
            "-=-=-=-=-=-=-=-=-=-=-=-=-=-=-=-=-=-=-=-=\n",
            "Os últimos 4 colocados são ['Santos', 'Goiás', 'Curitiba', 'América-MG']\n",
            "-=-=-=-=-=-=-=-=-=-=-=-=-=-=-=-=-=-=-=-=\n",
            "Nome dos times em ordem alfabética ['América-MG', 'Athletico-PR', 'Atlético-MG', 'Bahia', 'Botafogo', 'Corinthians', 'Cruzeiro', 'Cuiabá', 'Curitiba', 'Flamengo', 'Fluminense', 'Fortaleza', 'Goiás', 'Grêmio', 'Internacional', 'Palmeiras', 'Red Bull', 'Santos', 'São Paulo', 'Vasco']\n",
            "-=-=-=-=-=-=-=-=-=-=-=-=-=-=-=-=-=-=-=-=\n",
            "O Chapecoense não está na divisão em 2023\n"
          ]
        }
      ]
    },
    {
      "cell_type": "markdown",
      "source": [
        "Desafio 74 - Crie um programa que vai gerar cinco números aleatórios e colocar numa tupla. Depois disso, mostre a listagem de números gerados e também indique o menor e o maior valor que estão na tupla."
      ],
      "metadata": {
        "id": "joTubLTuM6aj"
      }
    },
    {
      "cell_type": "code",
      "source": [
        "from random import randint\n",
        "num = (randint(1, 10), randint(1, 10), randint(1, 10), randint(1, 10), randint(1, 10))\n",
        "for n in num:\n",
        "  print(f'{n}', end=' ')\n",
        "\n",
        "print(f'\\nO maior valor é {max(num)} e o menor valor é {min(num)}')"
      ],
      "metadata": {
        "colab": {
          "base_uri": "https://localhost:8080/"
        },
        "id": "1ln5LNFwy19b",
        "outputId": "a28f6815-b823-4c8f-a3b6-ffb36b013548"
      },
      "execution_count": null,
      "outputs": [
        {
          "output_type": "stream",
          "name": "stdout",
          "text": [
            "7 2 6 2 5 \n",
            "O maior valor é 7 e o menor valor é 2\n"
          ]
        }
      ]
    },
    {
      "cell_type": "markdown",
      "source": [
        "Desafio 75 - Crie um programa que leia quatro valores pelo teclado e guarde-os em uma tupla. No final, mostre:\n",
        "\n",
        "a) Quantas vezes apareceu o valor 9;\n",
        "\n",
        "b) Em que posição foi digitado o primeiro valor 3;\n",
        "\n",
        "c) Quais foram os números pares."
      ],
      "metadata": {
        "id": "Xo8HmsdtN9Oo"
      }
    },
    {
      "cell_type": "code",
      "source": [
        "num = (int(input('Digite um número ')),\n",
        "       int(input('Digite outro número ')),\n",
        "       int(input('Digite mais um número ')),\n",
        "       int(input('Digite o último número ')))\n",
        "print('-='*30)\n",
        "print(f'Você digitou os números {num}')\n",
        "print('-='*30)\n",
        "print(f'O valor 9 apareceu {num.count(9)} vezes')\n",
        "print('-='*30)\n",
        "\n",
        "if 3 in num:\n",
        "  print(f'O primeiro valor 3 foi digitado na posição {num.index(3)+1}')\n",
        "else:\n",
        "  print('O número 3 não foi digitado.')\n",
        "print('-='*30)\n",
        "print('Foram digitados os números pares: ')\n",
        "for n in num:\n",
        "  if n % 2 == 0:\n",
        "    print(n, end =' ')\n",
        "    #print(f'Foram digitados os números pares: {n}', end='') #f'Foram digitados os números pares: {num}')"
      ],
      "metadata": {
        "colab": {
          "base_uri": "https://localhost:8080/"
        },
        "id": "p7A26B4-Cfgo",
        "outputId": "baa9e6c4-a7b2-4757-ae86-26dda59e9e69"
      },
      "execution_count": null,
      "outputs": [
        {
          "output_type": "stream",
          "name": "stdout",
          "text": [
            "Digite um número 2\n",
            "Digite outro número 3\n",
            "Digite mais um número 4\n",
            "Digite o último número 9\n",
            "-=-=-=-=-=-=-=-=-=-=-=-=-=-=-=-=-=-=-=-=-=-=-=-=-=-=-=-=-=-=\n",
            "Você digitou os números (2, 3, 4, 9)\n",
            "-=-=-=-=-=-=-=-=-=-=-=-=-=-=-=-=-=-=-=-=-=-=-=-=-=-=-=-=-=-=\n",
            "O valor 9 apareceu 1 vezes\n",
            "-=-=-=-=-=-=-=-=-=-=-=-=-=-=-=-=-=-=-=-=-=-=-=-=-=-=-=-=-=-=\n",
            "O primeiro valor 3 foi digitado na posição 2\n",
            "-=-=-=-=-=-=-=-=-=-=-=-=-=-=-=-=-=-=-=-=-=-=-=-=-=-=-=-=-=-=\n",
            "Foram digitados os números pares: \n",
            "2 4 "
          ]
        }
      ]
    },
    {
      "cell_type": "markdown",
      "source": [
        "Desafio 76 - Crie um programa que tenha uma tupla única com nomes de produtos e seus respectivos preços na sequencia. No final, mostre uma listagem de preços, organizando os dados em forma tabular."
      ],
      "metadata": {
        "id": "sddaHKuqOr9Y"
      }
    },
    {
      "cell_type": "code",
      "source": [
        "produtos = ('Lapiseira', 1.75,\n",
        "            'Borracha', 2,\n",
        "            'Caderno', 15.90,\n",
        "            'Mochila', 120.00,\n",
        "            'Estojo', 29.90,\n",
        "            'Livro', 50,\n",
        ")\n",
        "print('-'*40)\n",
        "print(f'{\"Listagem de preços\":^40}')\n",
        "print('-'*40)\n",
        "for pos in range (0, len(produtos)):\n",
        "  if pos % 2 == 0:\n",
        "    print(f'{produtos[pos]:.<30}',end='') #:.<30 para direcionar para a lateral esquerda\n",
        "  else:\n",
        "    print(f' R$ {produtos[pos]:>6.2f}')\n",
        "print('-'*40)"
      ],
      "metadata": {
        "id": "pjFPs0IHT16X",
        "colab": {
          "base_uri": "https://localhost:8080/"
        },
        "outputId": "da978d5c-7bcb-4d7f-e2d0-4e5d068da030"
      },
      "execution_count": 21,
      "outputs": [
        {
          "output_type": "stream",
          "name": "stdout",
          "text": [
            "----------------------------------------\n",
            "           Listagem de preços           \n",
            "----------------------------------------\n",
            "Lapiseira..................... R$   1.75\n",
            "Borracha...................... R$   2.00\n",
            "Caderno....................... R$  15.90\n",
            "Mochila....................... R$ 120.00\n",
            "Estojo........................ R$  29.90\n",
            "Livro......................... R$  50.00\n",
            "----------------------------------------\n"
          ]
        }
      ]
    },
    {
      "cell_type": "markdown",
      "source": [
        "Desafio 77 - Crie um programa que uma tupla com várias palavras (não usar acentos). Depois disso, você deve mostrar para cada palavra, quais são as suas vogais."
      ],
      "metadata": {
        "id": "x8ZihIjEO_LS"
      }
    },
    {
      "cell_type": "code",
      "source": [
        "letras == ' ' #'aeiou'\n",
        "palavras = ('Trabalho', 'Escola', 'Programação', 'Python')\n",
        "for 'aeiou' in palavras:\n",
        "  print(f'Nessa palavra temos as vogais {letras}')\n"
      ],
      "metadata": {
        "colab": {
          "base_uri": "https://localhost:8080/",
          "height": 140
        },
        "id": "T_ZaE6saQgRY",
        "outputId": "1dbec4ce-fae5-4ec9-8bed-18e0db700df2"
      },
      "execution_count": 22,
      "outputs": [
        {
          "output_type": "error",
          "ename": "SyntaxError",
          "evalue": "cannot assign to literal (<ipython-input-22-bea9c2318222>, line 3)",
          "traceback": [
            "\u001b[0;36m  File \u001b[0;32m\"<ipython-input-22-bea9c2318222>\"\u001b[0;36m, line \u001b[0;32m3\u001b[0m\n\u001b[0;31m    for 'aeiou' in palavras:\u001b[0m\n\u001b[0m        ^\u001b[0m\n\u001b[0;31mSyntaxError\u001b[0m\u001b[0;31m:\u001b[0m cannot assign to literal\n"
          ]
        }
      ]
    },
    {
      "cell_type": "markdown",
      "source": [
        "Desafio 7 - Crie um programa que"
      ],
      "metadata": {
        "id": "YF6rflzUPAKO"
      }
    },
    {
      "cell_type": "markdown",
      "source": [
        "Desafio 7 - Crie um programa que"
      ],
      "metadata": {
        "id": "sda_yP34PAZ7"
      }
    }
  ]
}